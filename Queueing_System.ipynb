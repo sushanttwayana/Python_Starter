{
  "nbformat": 4,
  "nbformat_minor": 0,
  "metadata": {
    "colab": {
      "provenance": [],
      "authorship_tag": "ABX9TyOchcfAvkR04VFh4QA/6QDb",
      "include_colab_link": true
    },
    "kernelspec": {
      "name": "python3",
      "display_name": "Python 3"
    },
    "language_info": {
      "name": "python"
    }
  },
  "cells": [
    {
      "cell_type": "markdown",
      "metadata": {
        "id": "view-in-github",
        "colab_type": "text"
      },
      "source": [
        "<a href=\"https://colab.research.google.com/github/sushanttwayana/Python_Starter/blob/main/Queueing_System.ipynb\" target=\"_parent\"><img src=\"https://colab.research.google.com/assets/colab-badge.svg\" alt=\"Open In Colab\"/></a>"
      ]
    },
    {
      "cell_type": "code",
      "execution_count": 1,
      "metadata": {
        "colab": {
          "base_uri": "https://localhost:8080/"
        },
        "id": "V1jyQODGzhFA",
        "outputId": "21debef6-4721-4bf3-a1b6-85fb2c9aea44"
      },
      "outputs": [
        {
          "output_type": "stream",
          "name": "stdout",
          "text": [
            "10 10\n",
            "+----------+-----+----+-----+------+-----+------+--------------+\n",
            "| Customer | IAT | ST | TSB | TCWQ | TSE | TCSS | System Ideal |\n",
            "+----------+-----+----+-----+------+-----+------+--------------+\n",
            "|    1     |  0  | 0  |  1  |  0   |  0  |  1   |      1       |\n",
            "|    2     |  1  | 1  |  9  |  1   |  0  |  10  |      9       |\n",
            "|    3     |  7  | 8  |  8  |  10  |  2  |  18  |      10      |\n",
            "|    4     |  8  | 16 |  6  |  18  |  2  |  24  |      8       |\n",
            "|    5     |  1  | 17 |  2  |  24  |  7  |  26  |      9       |\n",
            "|    6     |  4  | 21 |  4  |  26  |  5  |  30  |      9       |\n",
            "|    7     |  8  | 29 |  6  |  30  |  1  |  36  |      7       |\n",
            "|    8     |  8  | 37 |  1  |  36  |  -1 |  37  |      0       |\n",
            "|    9     |  5  | 42 |  7  |  37  |  -5 |  44  |      2       |\n",
            "|    10    |  3  | 45 |  3  |  44  |  -1 |  47  |      2       |\n",
            "+----------+-----+----+-----+------+-----+------+--------------+\n"
          ]
        }
      ],
      "source": [
        "\n",
        "import random\n",
        "random.seed(10)\n",
        "size = 10\n",
        "customer = [ i for i in range(1, size + 1)]\n",
        "\n",
        "inter_arrival_time = [random.randrange(1, 10) for i in range(9)]\n",
        "inter_arrival_time.insert(0, 0)\n",
        "service_time = [random.randrange(1, 10) for i in range(size)]\n",
        "\n",
        "print(len(inter_arrival_time), len(service_time))\n",
        "\n",
        "arrival_time = [0 for i in range(size)]\n",
        "\n",
        "arrival_time[0] = inter_arrival_time[0]\n",
        "\n",
        "for i in range(1, size):\n",
        "  arrival_time[i] = inter_arrival_time[i] + arrival_time[i - 1]\n",
        "\n",
        "Time_Service_Begin = [0 for i in range(size)]\n",
        "\n",
        "Time_Customer_Waiting_In_Queue = [0 for i in range(size)]\n",
        "\n",
        "Time_Service_Ends = [0 for i in range(size)]\n",
        "\n",
        "Time_Customer_Spend_In_System = [0 for i in range(size)]\n",
        "\n",
        "System_Ideal = [0 for i in range(size)]\n",
        "\n",
        "Time_Service_Begin[0] = arrival_time[0]\n",
        "\n",
        "Time_Service_Ends[0] = service_time[0]\n",
        "\n",
        "Time_Customer_Spend_In_System[0] = service_time[0]\n",
        "\n",
        "for i in range(1, size):\n",
        "\n",
        "  Time_Service_Begin[i] = max(arrival_time[1], Time_Service_Ends[i-1])\n",
        "  Time_Customer_Waiting_In_Queue[i] = Time_Service_Begin[i] - arrival_time[i]\n",
        "  Time_Service_Ends[i] = Time_Service_Begin[i] + service_time[i]\n",
        "  Time_Customer_Spend_In_System[i] = Time_Service_Ends[i] - arrival_time[i]\n",
        "\n",
        "\n",
        "# TIme when system remains ideal\n",
        "\n",
        "if(arrival_time[i] > Time_Service_Ends[i - 1]) :\n",
        "  System_Ideal[i] = arrival_time[i] - Time_Service_Ends[i]\n",
        "\n",
        "else:\n",
        "  System_Ideal[i] = 0\n",
        "\n",
        "from prettytable import PrettyTable\n",
        "\n",
        "x = PrettyTable()\n",
        "\n",
        "column_names = ['Customer', 'IAT', 'ST', 'TSB', 'TCWQ', 'TSE', 'TCSS', 'System Ideal']\n",
        "data= [customer, inter_arrival_time, arrival_time, service_time, Time_Service_Begin, Time_Customer_Waiting_In_Queue, Time_Service_Ends, Time_Customer_Spend_In_System, System_Ideal]\n",
        "\n",
        "length = len(column_names)\n",
        "\n",
        "for i in range(length):\n",
        "  x.add_column(column_names[i], data[i])\n",
        "\n",
        "print(x)\n",
        "\n"
      ]
    }
  ]
}