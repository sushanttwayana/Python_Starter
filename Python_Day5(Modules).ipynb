{
  "nbformat": 4,
  "nbformat_minor": 0,
  "metadata": {
    "colab": {
      "provenance": [],
      "authorship_tag": "ABX9TyO3OItJsCGNIoxL0ftLtpVg",
      "include_colab_link": true
    },
    "kernelspec": {
      "name": "python3",
      "display_name": "Python 3"
    },
    "language_info": {
      "name": "python"
    }
  },
  "cells": [
    {
      "cell_type": "markdown",
      "metadata": {
        "id": "view-in-github",
        "colab_type": "text"
      },
      "source": [
        "<a href=\"https://colab.research.google.com/github/sushanttwayana/Python_Starter/blob/main/Python_Day5(Modules).ipynb\" target=\"_parent\"><img src=\"https://colab.research.google.com/assets/colab-badge.svg\" alt=\"Open In Colab\"/></a>"
      ]
    },
    {
      "cell_type": "code",
      "execution_count": null,
      "metadata": {
        "colab": {
          "base_uri": "https://localhost:8080/"
        },
        "id": "FyyGmIS_LO9v",
        "outputId": "0a83f152-2143-47c6-eecd-f8939cf73c5d"
      },
      "outputs": [
        {
          "output_type": "stream",
          "name": "stdout",
          "text": [
            "\n",
            " PYTHON PATH :\n",
            " ['/content', '/env/python', '/usr/lib/python310.zip', '/usr/lib/python3.10', '/usr/lib/python3.10/lib-dynload', '', '/usr/local/lib/python3.10/dist-packages', '/usr/lib/python3/dist-packages', '/usr/local/lib/python3.10/dist-packages/IPython/extensions', '/root/.ipython']\n"
          ]
        }
      ],
      "source": [
        "#Modules\n",
        "\n",
        "import sys\n",
        "print(\"\\n PYTHON PATH :\\n\", sys.path)"
      ]
    },
    {
      "cell_type": "code",
      "source": [
        "from math import pi\n",
        "\n",
        "def area(r):\n",
        "  return(pi*r*r)\n",
        "\n",
        "n = int(input(\"Enter the radius:\"))\n",
        "\n",
        "print(\"Area of circle is: \", area(n))"
      ],
      "metadata": {
        "colab": {
          "base_uri": "https://localhost:8080/"
        },
        "id": "XYpFblWtMneJ",
        "outputId": "d7679c34-4b81-484c-faef-eba3d42095b5"
      },
      "execution_count": null,
      "outputs": [
        {
          "output_type": "stream",
          "name": "stdout",
          "text": [
            "Enter the radius:3\n",
            "Area of circle is:  28.274333882308138\n"
          ]
        }
      ]
    },
    {
      "cell_type": "code",
      "source": [
        "from math import sqrt as square_root\n",
        "import math\n",
        "\n",
        "print(square_root(81))\n",
        "\n",
        "x, y = 4,2\n",
        "\n",
        "print(math.pow(x,y ))"
      ],
      "metadata": {
        "colab": {
          "base_uri": "https://localhost:8080/"
        },
        "id": "2wDergYuNKUJ",
        "outputId": "72d3f2d4-dbf2-480a-ab1c-f6532d84110e"
      },
      "execution_count": null,
      "outputs": [
        {
          "output_type": "stream",
          "name": "stdout",
          "text": [
            "9.0\n",
            "16.0\n"
          ]
        }
      ]
    },
    {
      "cell_type": "code",
      "source": [
        "#creating your own modules\n",
        "# both the files that we are importing must be saved in the same file\n",
        "\n",
        "def fact(n):\n",
        "  if n==0 or n==1 :\n",
        "    return 1\n",
        "\n",
        "  else :\n",
        "    return (n * fact(n-1))\n",
        "\n",
        "def fib(n):\n",
        "  if(n == 1):\n",
        "    return 0\n",
        "\n",
        "  elif (n == 2):\n",
        "    return 1\n",
        "\n",
        "  else :\n",
        "    return (fib(n-1) + fib(n-2))"
      ],
      "metadata": {
        "id": "Cwql18LIQLXD"
      },
      "execution_count": 12,
      "outputs": []
    },
    {
      "cell_type": "code",
      "source": [
        "import Python_Day5(Modules)\n",
        "\n",
        "n = int(input(\"Enter a value:\"))\n",
        "\n",
        "print(\"Factorial is:\", Python_Day5(Modules).fact(n))\n",
        "print(\"The \",n, \"fibonacci term is:\", Python_Day5(Modules).fib(n))\n"
      ],
      "metadata": {
        "id": "i5DByd5RWxqi"
      },
      "execution_count": null,
      "outputs": []
    },
    {
      "cell_type": "code",
      "source": [
        "cp /content/python_day5(modules).py\n"
      ],
      "metadata": {
        "id": "aS8JI2J0YS0X"
      },
      "execution_count": null,
      "outputs": []
    },
    {
      "cell_type": "code",
      "source": [
        "import Python_Day5(Modules)\n",
        "\n",
        "n = int(input(\"Enter a value:\"))\n",
        "\n",
        "print(\"Factorial is:\", Python_Day5(Modules).fact(n))\n",
        "print(\"The \",n, \"fibonacci term is:\", Python_Day5(Modules).fib(n))"
      ],
      "metadata": {
        "colab": {
          "base_uri": "https://localhost:8080/",
          "height": 140
        },
        "id": "eYNlDmGzTLt3",
        "outputId": "1c48030e-7991-47bd-c863-95281f73c5ec"
      },
      "execution_count": 13,
      "outputs": [
        {
          "output_type": "error",
          "ename": "SyntaxError",
          "evalue": "ignored",
          "traceback": [
            "\u001b[0;36m  File \u001b[0;32m\"<ipython-input-13-06407ee0baa7>\"\u001b[0;36m, line \u001b[0;32m1\u001b[0m\n\u001b[0;31m    import Python_Day5(Modules)\u001b[0m\n\u001b[0m                      ^\u001b[0m\n\u001b[0;31mSyntaxError\u001b[0m\u001b[0;31m:\u001b[0m invalid syntax\n"
          ]
        }
      ]
    },
    {
      "cell_type": "code",
      "source": [],
      "metadata": {
        "id": "1aGdCSuETOnu"
      },
      "execution_count": null,
      "outputs": []
    },
    {
      "cell_type": "code",
      "source": [],
      "metadata": {
        "id": "ZDNgyydbQ-8r"
      },
      "execution_count": null,
      "outputs": []
    }
  ]
}