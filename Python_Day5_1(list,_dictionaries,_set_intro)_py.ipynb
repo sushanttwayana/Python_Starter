{
  "nbformat": 4,
  "nbformat_minor": 0,
  "metadata": {
    "colab": {
      "provenance": [],
      "authorship_tag": "ABX9TyNKmLVoqhCtDCZqWeyMBARc",
      "include_colab_link": true
    },
    "kernelspec": {
      "name": "python3",
      "display_name": "Python 3"
    },
    "language_info": {
      "name": "python"
    }
  },
  "cells": [
    {
      "cell_type": "markdown",
      "metadata": {
        "id": "view-in-github",
        "colab_type": "text"
      },
      "source": [
        "<a href=\"https://colab.research.google.com/github/sushanttwayana/Python_Starter/blob/main/Python_Day5_1(list%2C_dictionaries%2C_set_intro)_py.ipynb\" target=\"_parent\"><img src=\"https://colab.research.google.com/assets/colab-badge.svg\" alt=\"Open In Colab\"/></a>"
      ]
    },
    {
      "cell_type": "code",
      "execution_count": 1,
      "metadata": {
        "id": "hMEiDGs6QzpH"
      },
      "outputs": [],
      "source": [
        "#creating your own modules\n",
        "# both the files that we are importing must be saved in the same file\n",
        "\n",
        "def fact(n):\n",
        "  if n==0 or n==1 :\n",
        "    return 1\n",
        "\n",
        "  else :\n",
        "    return (n * fact(n-1))\n",
        "\n",
        "def fib(n):\n",
        "  if(n == 1):\n",
        "    return 0\n",
        "\n",
        "  elif (n == 2):\n",
        "    return 1\n",
        "\n",
        "  else :\n",
        "    return (fib(n-1) + fib(n-2))"
      ]
    },
    {
      "cell_type": "code",
      "source": [
        "#Generating the random OTP\n",
        "\n",
        "import random, math\n",
        "\n",
        "a = random.random()\n",
        "b = math.floor(a * 10)\n",
        "\n",
        "# print(a * 10)\n",
        "print(b)"
      ],
      "metadata": {
        "colab": {
          "base_uri": "https://localhost:8080/"
        },
        "id": "QBmMAwRs_X6H",
        "outputId": "541fa4e6-1a01-4488-f9a8-19849308e03c"
      },
      "execution_count": 6,
      "outputs": [
        {
          "output_type": "stream",
          "name": "stdout",
          "text": [
            "9\n"
          ]
        }
      ]
    },
    {
      "cell_type": "code",
      "source": [
        "import random, math\n",
        "\n",
        "def generate_OTP():\n",
        "  digits = \"0123456789\"\n",
        "  OTP = \" \"\n",
        "\n",
        "  for i in range(1, 7):\n",
        "    a = random.random()\n",
        "    b = math.floor(a * 10)\n",
        "\n",
        "    # OTP += str(b)\n",
        "    OTP += digits[b]\n",
        "\n",
        "  return OTP\n",
        "\n",
        "print(\"Your OTP is :\",generate_OTP())\n",
        ""
      ],
      "metadata": {
        "colab": {
          "base_uri": "https://localhost:8080/"
        },
        "id": "qC2lAKDXBIzQ",
        "outputId": "03ecc4ea-c529-43c7-b2aa-9817bb30e8a3"
      },
      "execution_count": 15,
      "outputs": [
        {
          "output_type": "stream",
          "name": "stdout",
          "text": [
            "Your OTP is :  137696\n"
          ]
        }
      ]
    },
    {
      "cell_type": "code",
      "source": [
        "#Mean Median and mode using module\n",
        "\n",
        "from statistics import mean, mode, median\n",
        "\n",
        "list = [1, 2, 3, 4, 5, 6, 7, 8, 9]\n",
        "\n",
        "print(\"Mean of the list is:\", mean(list))\n",
        "print(\"Median of the list is:\", median(list))\n",
        "print(\"Mode of the list is:\", mode(list))"
      ],
      "metadata": {
        "colab": {
          "base_uri": "https://localhost:8080/"
        },
        "id": "mVmom2seM_ok",
        "outputId": "bec7f98a-5db2-48b6-ce23-84cf04399031"
      },
      "execution_count": 17,
      "outputs": [
        {
          "output_type": "stream",
          "name": "stdout",
          "text": [
            "Mean of the list is: 5\n",
            "Median of the list is: 5\n",
            "Mode of the list is: 1\n"
          ]
        }
      ]
    },
    {
      "cell_type": "code",
      "source": [
        "# Calculate the square root of the sum of two numbers.\n",
        "\n",
        "import math\n",
        "a = int(input(\"Enter a number:\"))\n",
        "b = int(input(\"Enter another number:\"))\n",
        "\n",
        "print(\"The sum of square root of the given two numbers is:\", (math.sqrt(a) + math.sqrt(b)))"
      ],
      "metadata": {
        "colab": {
          "base_uri": "https://localhost:8080/"
        },
        "id": "9Bqmct13NyGT",
        "outputId": "f45eaa6f-942b-437b-b70d-683747404bd2"
      },
      "execution_count": 18,
      "outputs": [
        {
          "output_type": "stream",
          "name": "stdout",
          "text": [
            "Enter a number16\n",
            "Enter another number25\n",
            "The sum of square root of the given two numbers is: 9.0\n"
          ]
        }
      ]
    },
    {
      "cell_type": "code",
      "source": [
        "# Calculate the circumference and area of a circle.\n",
        "\n",
        "import math\n",
        "\n",
        "r = float(input(\"Enter the radius of circle:\"))\n",
        "\n",
        "print(\"The circumference of the circle is:\", (2* math.pi * r))\n",
        "print(\"The area of the circle is:\", (math.pi* r * r))"
      ],
      "metadata": {
        "colab": {
          "base_uri": "https://localhost:8080/"
        },
        "id": "lBrmfIjNOlrx",
        "outputId": "ecce4735-ecd2-424b-cf3b-d651e79427d4"
      },
      "execution_count": 20,
      "outputs": [
        {
          "output_type": "stream",
          "name": "stdout",
          "text": [
            "Enter the radius of circle:4\n",
            "The circumference of the circle is: 25.132741228718345\n",
            "The area of the circle is: 50.26548245743669\n"
          ]
        }
      ]
    },
    {
      "cell_type": "code",
      "source": [
        " #Calculate the trigonometric functions of an angle.\n",
        "\n",
        "angle_d = float(input(\"Enter the angle in degree=\"))\n",
        "\n",
        "from math import radians, sin, cos, tan,pi\n",
        "\n",
        "angle_radian = (angle_d * pi) / 180\n",
        "r =  radians(angle_d)\n",
        "\n",
        "sine = sin(angle_radian)\n",
        "cose = cos(angle_radian)\n",
        "tan = tan(angle_radian)\n",
        "\n",
        "print(\"The sine angle is\", sine)\n",
        "print(\"The cos angle is\", cose)\n",
        "print(\"The tan angle is\", tan)\n"
      ],
      "metadata": {
        "colab": {
          "base_uri": "https://localhost:8080/"
        },
        "id": "qJeud1f9PRgs",
        "outputId": "08b633a0-5e46-4b54-e48b-3962a58bc0ba"
      },
      "execution_count": 26,
      "outputs": [
        {
          "output_type": "stream",
          "name": "stdout",
          "text": [
            "Enter the angle in degree=30\n",
            "The sine angle is 0.49999999999999994\n",
            "The cos angle is 0.8660254037844387\n",
            "The tan angle is 0.5773502691896257\n"
          ]
        }
      ]
    },
    {
      "cell_type": "code",
      "source": [
        "# Containers in python\n",
        "# mutable -> the values can be modified // immutable\n",
        "# ordered and unordered\n",
        "# indexable and inindexible\n",
        "# list -> []\n",
        "\n",
        "lst1 = [1, 2, 3]\n",
        "lst2 = [4, 5, 6]\n",
        "\n",
        "lst1[0] = 0\n",
        "print(len(lst1))\n",
        "\n",
        "print(lst1 + lst2)\n",
        "print(lst1 * 3) #repeats the same list 3 times\n"
      ],
      "metadata": {
        "colab": {
          "base_uri": "https://localhost:8080/"
        },
        "id": "8PxC60BXRH_c",
        "outputId": "7cf0c7a5-916f-4564-bffd-80999a0b1730"
      },
      "execution_count": 31,
      "outputs": [
        {
          "output_type": "stream",
          "name": "stdout",
          "text": [
            "3\n",
            "[0, 2, 3, 4, 5, 6]\n",
            "[0, 2, 3, 0, 2, 3, 0, 2, 3]\n"
          ]
        }
      ]
    },
    {
      "cell_type": "code",
      "source": [
        "mylist = [\"a\", \"e\", \"i\"]\n",
        "mylist.append(\"o\" ) # can take only one argument at a time\n",
        "print(mylist)\n",
        "\n",
        "mylist.extend([\"u\", \"A\", \"E\", \"O\", \"U\"])\n",
        "print(mylist)\n",
        "\n",
        "mylist.insert(8, \"I\")\n",
        "print(mylist)\n",
        "\n",
        "mylist.pop() # by default remove the last element\n",
        "print(mylist)\n",
        "mylist.pop(0)\n",
        "print(mylist)\n",
        "\n",
        "mylist.remove('I')\n",
        "print(mylist)"
      ],
      "metadata": {
        "colab": {
          "base_uri": "https://localhost:8080/"
        },
        "id": "U3047swYTI2z",
        "outputId": "b58c95b9-0fca-4149-fcb0-3245375e94f1"
      },
      "execution_count": 45,
      "outputs": [
        {
          "output_type": "stream",
          "name": "stdout",
          "text": [
            "['a', 'e', 'i', 'o']\n",
            "['a', 'e', 'i', 'o', 'u', 'A', 'E', 'O', 'U']\n",
            "['a', 'e', 'i', 'o', 'u', 'A', 'E', 'O', 'I', 'U']\n",
            "['a', 'e', 'i', 'o', 'u', 'A', 'E', 'O', 'I']\n",
            "['e', 'i', 'o', 'u', 'A', 'E', 'O', 'I']\n",
            "['e', 'i', 'o', 'u', 'A', 'E', 'O']\n"
          ]
        }
      ]
    },
    {
      "cell_type": "code",
      "source": [
        "prime =[1,2,3,5,7,9,11,13,17]\n",
        "\n",
        "print(prime[3:])\n",
        "print(prime[:3])\n",
        "print(prime[2:5])\n",
        "print(prime[::-1]) #reverse the order"
      ],
      "metadata": {
        "colab": {
          "base_uri": "https://localhost:8080/"
        },
        "id": "7rebTp_6SeWU",
        "outputId": "7bc96980-19b8-4bd8-ddbd-eb122446792e"
      },
      "execution_count": 30,
      "outputs": [
        {
          "output_type": "stream",
          "name": "stdout",
          "text": [
            "[5, 7, 9, 11, 13, 17]\n",
            "[1, 2, 3]\n",
            "[3, 5, 7]\n",
            "[17, 13, 11, 9, 7, 5, 3, 2, 1]\n"
          ]
        }
      ]
    },
    {
      "cell_type": "code",
      "source": [
        "#count\n",
        "\n",
        "fib = [0, 1, 1, 2, 3, 5, 8, 13]\n",
        "print(fib.count(1))\n",
        "\n",
        "print(fib.index(3))\n",
        "\n",
        "fib.reverse()\n",
        "print(fib)\n",
        "\n",
        "numbers = [0, 52, 23, 11, 22, 99, 1]\n",
        "\n",
        "print(\"Ascending Order:\",sorted(numbers))\n",
        "print(\"Actual numbers list:\",numbers)\n",
        "\n",
        "print(\"Decending Order:\", sorted(numbers, reverse = True))\n",
        "\n",
        "\n",
        "numbers.sort() # sort the whole list and modify it\n",
        "print(numbers)\n",
        "\n",
        "#max num and min number\n",
        "\n",
        "\n",
        "print(\"Maximum number is:\",max(numbers))\n",
        "print(\"Manimum number is:\",min(numbers))"
      ],
      "metadata": {
        "colab": {
          "base_uri": "https://localhost:8080/"
        },
        "id": "Uqg7vYp-Ut9F",
        "outputId": "3259bf6b-323e-4533-d267-153b6ea6d1ce"
      },
      "execution_count": 62,
      "outputs": [
        {
          "output_type": "stream",
          "name": "stdout",
          "text": [
            "2\n",
            "4\n",
            "[13, 8, 5, 3, 2, 1, 1, 0]\n",
            "Ascending Order: [0, 1, 11, 22, 23, 52, 99]\n",
            "Actual numbers list: [0, 52, 23, 11, 22, 99, 1]\n",
            "Decending Order: [99, 52, 23, 22, 11, 1, 0]\n",
            "[0, 1, 11, 22, 23, 52, 99]\n",
            "Maximum number is: 99\n",
            "Manimum number is: 0\n"
          ]
        }
      ]
    },
    {
      "cell_type": "code",
      "source": [
        "#Acesssing the list element\n",
        "lst = [10, 30, 50, 90, 20]\n",
        "\n",
        "for i in lst:\n",
        "  print(i, end=' ')\n",
        "\n",
        "n = len (lst)\n",
        "print(\"\\n\")\n",
        "for i in range(n):\n",
        "  print(lst[i], end =' ')\n",
        "\n",
        "del lst[0]\n",
        "\n",
        "print(\"remaining list is:\", lst)"
      ],
      "metadata": {
        "colab": {
          "base_uri": "https://localhost:8080/"
        },
        "id": "zZ9Iweawdt27",
        "outputId": "40a2f6f4-8837-48bb-f6b3-5f6761f13387"
      },
      "execution_count": 70,
      "outputs": [
        {
          "output_type": "stream",
          "name": "stdout",
          "text": [
            "10 30 50 90 20 \n",
            "\n",
            "10 30 50 90 20 remaining list is: [30, 50, 90, 20]\n"
          ]
        }
      ]
    },
    {
      "cell_type": "code",
      "source": [
        "# built in funtions in list\n",
        "\n",
        "list1 = [10, 20, 30, 40, 50, 20, 20, 10]\n",
        "\n",
        "print(list1.index(10)) # return the poistion of 10\n",
        "print(\"Frequency of 20 is:\",list1.count(20))\n"
      ],
      "metadata": {
        "colab": {
          "base_uri": "https://localhost:8080/"
        },
        "id": "cjJnsRRse-kJ",
        "outputId": "28a9d333-9f45-40b7-f288-f8c01bee862f"
      },
      "execution_count": 75,
      "outputs": [
        {
          "output_type": "stream",
          "name": "stdout",
          "text": [
            "0\n",
            "Frequency of 20 is: 3\n"
          ]
        }
      ]
    },
    {
      "cell_type": "code",
      "source": [
        "my_list = [1, 1.3456, \"Hello\", 3.1415]\n",
        "\n",
        "print(len(my_list))\n",
        "\n",
        "my_list = [\"Python\", 123]\n",
        "print(len(my_list))\n",
        "\n",
        "# 3dimensional\n",
        "mylst = [[1, 2, 3], [4, 5, 6], [7, 8, 9]]\n",
        "print(mylst)\n",
        "print(mylst[1][1])\n",
        "\n",
        "# nested list\n",
        "\n",
        "list = [1, 2, [3,4]]\n",
        "\n",
        "print(list[2])"
      ],
      "metadata": {
        "colab": {
          "base_uri": "https://localhost:8080/"
        },
        "id": "jXQGx6WwfzkW",
        "outputId": "5b518ed8-1895-4c5c-951d-7b5641bf719c"
      },
      "execution_count": 81,
      "outputs": [
        {
          "output_type": "stream",
          "name": "stdout",
          "text": [
            "4\n",
            "2\n",
            "[[1, 2, 3], [4, 5, 6], [7, 8, 9]]\n",
            "5\n",
            "[3, 4]\n"
          ]
        }
      ]
    },
    {
      "cell_type": "code",
      "source": [
        "# TUPLES -> immutable(we cannot add and change the items of the tuple)\n",
        "\n",
        "tuple1 = [\"a\", \"b\", \"c\"]\n",
        "print(tuple1[2])\n",
        "\n",
        "tuple2 = 1, 2, 3\n",
        "print(tuple2)\n"
      ],
      "metadata": {
        "colab": {
          "base_uri": "https://localhost:8080/"
        },
        "id": "Zjxz96cNhUuY",
        "outputId": "cd64b47d-5741-4693-9a24-91974d895d2b"
      },
      "execution_count": 83,
      "outputs": [
        {
          "output_type": "stream",
          "name": "stdout",
          "text": [
            "c\n",
            "(1, 2, 3)\n"
          ]
        }
      ]
    },
    {
      "cell_type": "code",
      "source": [
        "# Sets -> container and specified by {}, all seperated by a comma,  immutable\n",
        "\n",
        "myset = {1, 2, 3}\n",
        "print(myset)\n",
        "\n",
        "myset2 = set([1, 2, 3 ,2, 1])\n",
        "print(myset2)\n",
        "\n",
        "s1 = set()\n",
        "print(set()) # empty set\n",
        "\n",
        "s1 = {1, 2, 3}\n",
        "s2 = {5, 9 ,8}\n",
        "\n",
        "print( 1 in s1 )\n",
        "print( 0 in s2 )\n"
      ],
      "metadata": {
        "colab": {
          "base_uri": "https://localhost:8080/"
        },
        "id": "qNhZ7WFSiAkN",
        "outputId": "07a6187b-c116-43ba-e9d3-707981c9140e"
      },
      "execution_count": 88,
      "outputs": [
        {
          "output_type": "stream",
          "name": "stdout",
          "text": [
            "{1, 2, 3}\n",
            "{1, 2, 3}\n",
            "set()\n",
            "True\n",
            "False\n"
          ]
        }
      ]
    },
    {
      "cell_type": "code",
      "source": [
        "# Dicationaries -> key value pair notation -> { <key> : <value> }\n",
        "# ordered are not preserved, mutable\n",
        "\n",
        "dict1 = {}\n",
        "print(dict1)\n",
        "\n",
        "dict2 = { \"x\": 1, \"y\": 2, \"z\": 3}\n",
        "print(dict2)\n",
        "print(dict2[\"y\"])\n",
        "\n",
        "a = dict2[\"x\"] + dict2[\"y\"] + dict2[\"z\"] # acessing the elements of the dictioanary\n",
        "print(a)\n",
        "\n",
        "dict2[\"y\"] = 10\n",
        "print(dict2)\n",
        "\n",
        "dict2[\"w\"] = 0\n",
        "print(dict2)\n",
        "\n",
        "dict2.get(\"a\", 42) # if not found return the default value 42"
      ],
      "metadata": {
        "colab": {
          "base_uri": "https://localhost:8080/"
        },
        "id": "4dAOo5vji8YZ",
        "outputId": "f2c11994-576a-4889-d073-e71013eddbc8"
      },
      "execution_count": 98,
      "outputs": [
        {
          "output_type": "stream",
          "name": "stdout",
          "text": [
            "{}\n",
            "{'x': 1, 'y': 2, 'z': 3}\n",
            "2\n",
            "6\n",
            "{'x': 1, 'y': 10, 'z': 3}\n",
            "{'x': 1, 'y': 10, 'z': 3, 'w': 0}\n"
          ]
        },
        {
          "output_type": "execute_result",
          "data": {
            "text/plain": [
              "42"
            ]
          },
          "metadata": {},
          "execution_count": 98
        }
      ]
    },
    {
      "cell_type": "code",
      "source": [
        "#Python program to display the sum of n numbers using a list\n",
        "\n",
        "def sum(my_list):\n",
        "  sum = 0\n",
        "\n",
        "  for num in my_list:\n",
        "    sum += num\n",
        "\n",
        "  return sum\n",
        "\n",
        "num = int(input(\"How many numbers:\"))\n",
        "list = []\n",
        "\n",
        "for i in range(num):\n",
        "  x = int(input(\"Enter the \"+ str(i) + \" number you want to append in the list:\"))\n",
        "  list.append(x)\n",
        "\n",
        "print(\"Your list is:\", list)\n",
        "print(\"The sum of the elements of the list is:\", sum(list))\n"
      ],
      "metadata": {
        "colab": {
          "base_uri": "https://localhost:8080/"
        },
        "id": "r8YIheXUkutp",
        "outputId": "3430e2bb-fe0f-48de-b754-986cf5069e0c"
      },
      "execution_count": 107,
      "outputs": [
        {
          "output_type": "stream",
          "name": "stdout",
          "text": [
            "How many numbers:5\n",
            "Enter the 0 number you want to append in the list:1\n",
            "Enter the 1 number you want to append in the list:2\n",
            "Enter the 2 number you want to append in the list:3\n",
            "Enter the 3 number you want to append in the list:4\n",
            "Enter the 4 number you want to append in the list:5\n",
            "Your list is: [1, 2, 3, 4, 5]\n",
            "The sum of the elements of the list is: 15\n"
          ]
        }
      ]
    },
    {
      "cell_type": "code",
      "source": [
        "#Write a Python program to implement linear search on a List of elements\n",
        "\n",
        "def linear_search(list1, e):\n",
        "\n",
        "  for i in range(len(list1)):\n",
        "        if list1[i] == e:\n",
        "            return i  # Return the index if the target is found\n",
        "\n",
        "  return -1\n",
        "\n",
        "list1 = [10, 20, 30, 40, 50]\n",
        "target_element = 50\n",
        "\n",
        "result = linear_search(list1, target_element)\n",
        "\n",
        "if result != -1:\n",
        "  print(f\"The {target_element} is found at index {result} \")\n",
        "\n",
        "else :\n",
        "  print(f\"The {target_element} isn't found in the list \")"
      ],
      "metadata": {
        "colab": {
          "base_uri": "https://localhost:8080/"
        },
        "id": "d9CScLGMn5Jb",
        "outputId": "dc9f1dc3-d326-430c-f2c0-0e9a1c266df7"
      },
      "execution_count": 140,
      "outputs": [
        {
          "output_type": "stream",
          "name": "stdout",
          "text": [
            "The 50 is found at index 4 \n"
          ]
        }
      ]
    },
    {
      "cell_type": "code",
      "source": [
        "#Python program to find the odd numbers in a List\n",
        "\n",
        "def odd_num(lst):\n",
        "\n",
        "  odd = []\n",
        "  even =[]\n",
        "  for i in range(len(lst)):\n",
        "      if(lst[i] % 2 != 0) :\n",
        "          odd.append(lst[i])\n",
        "\n",
        "      else :\n",
        "          even.append(lst[i])\n",
        "\n",
        "  return (odd, even)\n",
        "\n",
        "lst = [0, 1, 2, 3, 4, 5, 6, 7, 8, 9]\n",
        "\n",
        "ol, el = odd_num(lst)\n",
        "\n",
        "print(\"The odd numbers in the list are:\", ol)\n",
        "print(\"The even numbers in the list are:\", el)\n"
      ],
      "metadata": {
        "colab": {
          "base_uri": "https://localhost:8080/"
        },
        "id": "yaWEdqOdsgbj",
        "outputId": "a39f7b6b-c807-4e7e-8580-f554205615b2"
      },
      "execution_count": 141,
      "outputs": [
        {
          "output_type": "stream",
          "name": "stdout",
          "text": [
            "The odd numbers in the list are: [1, 3, 5, 7, 9]\n",
            "The even numbers in the list are: [0, 2, 4, 6, 8]\n"
          ]
        }
      ]
    },
    {
      "cell_type": "code",
      "source": [
        " #Python program to print all the items in a dictionary\n",
        "\n",
        "dict = {'Name': 'Chandra', 'Id': 200, \"Age\": 30, \"Salary\": 20000}\n",
        "\n",
        "for i,j in dict.items():\n",
        "    print(i,\":\",j)"
      ],
      "metadata": {
        "colab": {
          "base_uri": "https://localhost:8080/"
        },
        "id": "BSWSQlSYuDkp",
        "outputId": "45186844-2a47-4841-eb48-dc4e93d0fd18"
      },
      "execution_count": 147,
      "outputs": [
        {
          "output_type": "stream",
          "name": "stdout",
          "text": [
            "Name : Chandra\n",
            "Id : 200\n",
            "Age : 30\n",
            "Salary : 20000\n"
          ]
        }
      ]
    },
    {
      "cell_type": "code",
      "source": [
        "phone_book = { 'John' : [ '8592970000', 'john@xyzmail.com' ],\n",
        "               'Bob': [ '7994880000', 'bob@xyzmail.com' ],\n",
        "               'Tom' : [ '9749552647' , 'tom@xyzmail.com']\n",
        "             }\n",
        "\n",
        "for k,v in phone_book.items():\n",
        "\n",
        "     print(k, \":\", v)"
      ],
      "metadata": {
        "colab": {
          "base_uri": "https://localhost:8080/"
        },
        "id": "tJrG-DNrwRmc",
        "outputId": "618037d0-4331-4b78-bcfb-f169af7cd3e0"
      },
      "execution_count": 149,
      "outputs": [
        {
          "output_type": "stream",
          "name": "stdout",
          "text": [
            "John : ['8592970000', 'john@xyzmail.com']\n",
            "Bob : ['7994880000', 'bob@xyzmail.com']\n",
            "Tom : ['9749552647', 'tom@xyzmail.com']\n"
          ]
        }
      ]
    },
    {
      "cell_type": "code",
      "source": [],
      "metadata": {
        "id": "RD7br7A5wxZG"
      },
      "execution_count": null,
      "outputs": []
    },
    {
      "cell_type": "code",
      "source": [],
      "metadata": {
        "id": "S5UkGVhWj6ky"
      },
      "execution_count": null,
      "outputs": []
    }
  ]
}