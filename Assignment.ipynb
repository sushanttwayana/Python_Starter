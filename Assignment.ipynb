{
  "nbformat": 4,
  "nbformat_minor": 0,
  "metadata": {
    "colab": {
      "provenance": [],
      "authorship_tag": "ABX9TyOKwWD1B6fJIFmLCNOs99E0",
      "include_colab_link": true
    },
    "kernelspec": {
      "name": "python3",
      "display_name": "Python 3"
    },
    "language_info": {
      "name": "python"
    }
  },
  "cells": [
    {
      "cell_type": "markdown",
      "metadata": {
        "id": "view-in-github",
        "colab_type": "text"
      },
      "source": [
        "<a href=\"https://colab.research.google.com/github/sushanttwayana/Python_Starter/blob/main/Assignment.ipynb\" target=\"_parent\"><img src=\"https://colab.research.google.com/assets/colab-badge.svg\" alt=\"Open In Colab\"/></a>"
      ]
    },
    {
      "cell_type": "code",
      "execution_count": null,
      "metadata": {
        "colab": {
          "base_uri": "https://localhost:8080/"
        },
        "id": "h6D2pQlb_j3E",
        "outputId": "d39dd42c-a5d1-4a83-8d8a-a1d5665b6ad4"
      },
      "outputs": [
        {
          "output_type": "stream",
          "name": "stdout",
          "text": [
            "Enter a string:I am in love with miss awa.\n",
            "Enter the character you want to count:a\n",
            "The number of character 'a' in I am in love with miss awa. is: 3\n"
          ]
        }
      ],
      "source": [
        "# Python program to count the number of characters (character frequency) in a string.\n",
        "\n",
        "def count_char(string, c):\n",
        "\n",
        "  count = 0\n",
        "\n",
        "  for char in string:\n",
        "\n",
        "    if char == c :\n",
        "      count += 1\n",
        "\n",
        "  return count\n",
        "\n",
        "str = input('Enter a string:')\n",
        "c = input('Enter the character you want to count:')\n",
        "\n",
        "result = count_char(str, c)\n",
        "print(\"The number of character '%c' in %s is:\" %(c, str), result)"
      ]
    },
    {
      "cell_type": "code",
      "source": [
        "def count_char(str_x):\n",
        "\n",
        "  mydict = {}\n",
        "\n",
        "  for char in str_x:\n",
        "\n",
        "    if char in mydict:\n",
        "\n",
        "      mydict[char] += 1\n",
        "\n",
        "    else:\n",
        "\n",
        "      mydict[char] = 1\n",
        "\n",
        "  return mydict\n",
        "\n",
        "\n",
        "\n",
        "str_x = input('enter any string: ')\n",
        "\n",
        "char_frequency = count_char(str_x)\n",
        "\n",
        "for k,v in char_frequency.items():\n",
        "\n",
        "  print(f'{k} : {v}')"
      ],
      "metadata": {
        "colab": {
          "base_uri": "https://localhost:8080/"
        },
        "id": "N8i_UAjZCVfO",
        "outputId": "a5667c26-d107-42a5-ba9a-b2476cf91cbf"
      },
      "execution_count": null,
      "outputs": [
        {
          "output_type": "stream",
          "name": "stdout",
          "text": [
            "enter any string: Hello world\n",
            "H : 1\n",
            "e : 1\n",
            "l : 3\n",
            "o : 2\n",
            "  : 1\n",
            "w : 1\n",
            "r : 1\n",
            "d : 1\n"
          ]
        }
      ]
    },
    {
      "cell_type": "code",
      "source": [
        "# Python program to count the occurrences of each word in a given sentence.\n",
        "\n",
        "def word_count(str):\n",
        "\n",
        "    counts = dict()\n",
        "\n",
        "    words = str.split()\n",
        "\n",
        "    for word in words:\n",
        "\n",
        "        if word in counts:\n",
        "\n",
        "            counts[word] += 1\n",
        "\n",
        "        else:\n",
        "\n",
        "            counts[word] = 1\n",
        "\n",
        "    return counts\n",
        "\n",
        "print( word_count('the quick brown fox jumps over the lazy dog.'))"
      ],
      "metadata": {
        "colab": {
          "base_uri": "https://localhost:8080/"
        },
        "id": "9xbOndGkDPnX",
        "outputId": "38ef58fb-9c21-48a4-9350-f5f0a9076400"
      },
      "execution_count": null,
      "outputs": [
        {
          "output_type": "stream",
          "name": "stdout",
          "text": [
            "{'the': 2, 'quick': 1, 'brown': 1, 'fox': 1, 'jumps': 1, 'over': 1, 'lazy': 1, 'dog.': 1}\n"
          ]
        }
      ]
    },
    {
      "cell_type": "code",
      "source": [
        "def count_word(input_str):\n",
        "\n",
        "  word_count = dict()\n",
        "\n",
        "  # Split the sentence into words using whitespace as the separator\n",
        "  words = input_str.split()\n",
        "\n",
        "  for word in words :\n",
        "      # Remove punctuation and convert to lowercase for consistency\n",
        "      cleaned_word = word.strip(\".,!?\").lower()\n",
        "\n",
        "      # Check if the word is already in the dictionary\n",
        "      if cleaned_word in word_count:\n",
        "        word_count[cleaned_word] += 1\n",
        "\n",
        "      else:\n",
        "      # If not, add it to the dictionary with a count of 1\n",
        "        word_count[cleaned_word] = 1\n",
        "\n",
        "\n",
        "  for word, count in word_count.items():\n",
        "\n",
        "      print(f\"'{word}':{count} \")\n",
        "\n",
        "\n",
        "input_str = \"This is a test. This test is a sample sentence, and this is a test.\"\n",
        "count_word(input_str)"
      ],
      "metadata": {
        "colab": {
          "base_uri": "https://localhost:8080/"
        },
        "id": "tdwtbQFyD2HN",
        "outputId": "26048641-153c-49a1-c1d9-a96ed2f75cd2"
      },
      "execution_count": null,
      "outputs": [
        {
          "output_type": "stream",
          "name": "stdout",
          "text": [
            "'this':3 \n",
            "'is':3 \n",
            "'a':3 \n",
            "'test':3 \n",
            "'sample':1 \n",
            "'sentence':1 \n",
            "'and':1 \n"
          ]
        }
      ]
    },
    {
      "cell_type": "code",
      "source": [
        "# Write a program to Reverse a List in Python.\n",
        "\n",
        "def reverse_list(input_list):\n",
        "    # Use list slicing to reverse the list\n",
        "    reversed_list = input_list[::-1]\n",
        "    return reversed_list\n",
        "\n",
        "# Example list\n",
        "my_list = [1, 2, 3, 4, 5]\n",
        "\n",
        "# Call the function to reverse the list\n",
        "reversed_result = reverse_list(my_list)\n",
        "\n",
        "# Print the reversed list\n",
        "print(reversed_result)"
      ],
      "metadata": {
        "colab": {
          "base_uri": "https://localhost:8080/"
        },
        "id": "tBHLduT5I9Zw",
        "outputId": "ee08bbed-362b-4d44-ed04-96f008de2e18"
      },
      "execution_count": null,
      "outputs": [
        {
          "output_type": "stream",
          "name": "stdout",
          "text": [
            "[5, 4, 3, 2, 1]\n"
          ]
        }
      ]
    },
    {
      "cell_type": "code",
      "source": [
        "def reverse_list(input_list):\n",
        "    input_list.reverse()\n",
        "\n",
        "my_list = [1, 2, 3, 4, 5]\n",
        "reverse_list(my_list)\n",
        "print(my_list)"
      ],
      "metadata": {
        "colab": {
          "base_uri": "https://localhost:8080/"
        },
        "id": "hI3jREv8Jcnt",
        "outputId": "200b3cbd-1792-4796-df57-716b95b6c13e"
      },
      "execution_count": null,
      "outputs": [
        {
          "output_type": "stream",
          "name": "stdout",
          "text": [
            "[5, 4, 3, 2, 1]\n"
          ]
        }
      ]
    },
    {
      "cell_type": "code",
      "source": [
        "# Given a list of tuples, Write a Python program to remove all the duplicated tuples from the given list.\n",
        "\n",
        "def remove_duplicate_tuples(input_list):\n",
        "    # Convert the list of tuples to a set to remove duplicates\n",
        "    unique_set = set(input_list)\n",
        "\n",
        "    # Convert the set back to a list\n",
        "    unique_list = list(unique_set)\n",
        "\n",
        "    return unique_list\n",
        "\n",
        "my_list = [(1, 2), (3, 4), (1, 2), (5, 6), (3, 4), (5, 6)]\n",
        "result = remove_duplicate_tuples(my_list)\n",
        "print(result)\n"
      ],
      "metadata": {
        "colab": {
          "base_uri": "https://localhost:8080/"
        },
        "id": "bB3K1U7mKLXQ",
        "outputId": "b535424f-6804-4a58-f34e-3eeb509629f3"
      },
      "execution_count": null,
      "outputs": [
        {
          "output_type": "stream",
          "name": "stdout",
          "text": [
            "[(1, 2), (3, 4), (5, 6)]\n"
          ]
        }
      ]
    },
    {
      "cell_type": "code",
      "source": [
        "# Remove adjacent duplicate characters from a string\n",
        "\n",
        "\n",
        "def remove_duplicates(str):\n",
        "\n",
        "  result = \"\"\n",
        "\n",
        "  for char in str:\n",
        "\n",
        "    if char not in result: # If the character is not already in the result string, add it\n",
        "        result += char\n",
        "\n",
        "  return result\n",
        "\n",
        "str = input(\"Enter an input string:\")\n",
        "print(\"The string after removing the duplicates characters is:\",remove_duplicates(str) )\n"
      ],
      "metadata": {
        "colab": {
          "base_uri": "https://localhost:8080/"
        },
        "id": "spMM0itsLUNZ",
        "outputId": "bb0ef5fa-c2ae-49ff-ffba-28c2a1cf9830"
      },
      "execution_count": null,
      "outputs": [
        {
          "output_type": "stream",
          "name": "stdout",
          "text": [
            "Enter an input string:AABBBBCCCCDDDE\n",
            "The string after removing the duplicates characters is: ABCDE\n"
          ]
        }
      ]
    }
  ]
}