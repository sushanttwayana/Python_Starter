{
  "nbformat": 4,
  "nbformat_minor": 0,
  "metadata": {
    "colab": {
      "provenance": [],
      "authorship_tag": "ABX9TyOeAKnlCFY0mNg8gnkLrnDG",
      "include_colab_link": true
    },
    "kernelspec": {
      "name": "python3",
      "display_name": "Python 3"
    },
    "language_info": {
      "name": "python"
    }
  },
  "cells": [
    {
      "cell_type": "markdown",
      "metadata": {
        "id": "view-in-github",
        "colab_type": "text"
      },
      "source": [
        "<a href=\"https://colab.research.google.com/github/sushanttwayana/Python_Starter/blob/main/Python_Day3.ipynb\" target=\"_parent\"><img src=\"https://colab.research.google.com/assets/colab-badge.svg\" alt=\"Open In Colab\"/></a>"
      ]
    },
    {
      "cell_type": "code",
      "execution_count": 1,
      "metadata": {
        "colab": {
          "base_uri": "https://localhost:8080/"
        },
        "id": "XQxyJ5nulJ0D",
        "outputId": "ca1be889-2b0f-4fe4-e11b-ebfb31812315"
      },
      "outputs": [
        {
          "output_type": "stream",
          "name": "stdout",
          "text": [
            "\n",
            " Total: 10\n"
          ]
        }
      ],
      "source": [
        "#display total in the given range\n",
        "\n",
        "total = 0\n",
        "for i in range(1, 5) :\n",
        "  total += i\n",
        "\n",
        "print('\\n Total:', total)"
      ]
    },
    {
      "cell_type": "code",
      "source": [
        "stds = ['John', 'Ron', 'Mike']\n",
        "\n",
        "for student in stds :\n",
        "  print(student)"
      ],
      "metadata": {
        "colab": {
          "base_uri": "https://localhost:8080/"
        },
        "id": "7Grw9GJYmKVT",
        "outputId": "a993ebbd-6d98-4743-e531-77181219c05f"
      },
      "execution_count": 2,
      "outputs": [
        {
          "output_type": "stream",
          "name": "stdout",
          "text": [
            "John\n",
            "Ron\n",
            "Mike\n"
          ]
        }
      ]
    },
    {
      "cell_type": "code",
      "source": [
        "# Display the value\n",
        "\n",
        "n = int(input('Enter a value upto which you want to print:'))\n",
        "\n",
        "for i in range(1, n+1):\n",
        "  print(i,end=' ')"
      ],
      "metadata": {
        "colab": {
          "base_uri": "https://localhost:8080/"
        },
        "id": "yAX6cO4EmS2w",
        "outputId": "b396ae5b-cb60-4a97-d19c-3250bd626811"
      },
      "execution_count": 5,
      "outputs": [
        {
          "output_type": "stream",
          "name": "stdout",
          "text": [
            "Enter a value upto which you want to print:10\n",
            "1 2 3 4 5 6 7 8 9 10 "
          ]
        }
      ]
    },
    {
      "cell_type": "code",
      "source": [
        "# Factorial of an input using for loop\n",
        "\n",
        "n = int(input(\"Enter an input: \"))\n",
        "f = 1\n",
        "\n",
        "if(n < 0) :\n",
        "  print(\"The input must be non-negative value\")\n",
        "\n",
        "else :\n",
        "  for i in range(1, n+1) :\n",
        "    f = f*i\n",
        "\n",
        "  print('The factorial of', n , 'is:', f)\n",
        "\n"
      ],
      "metadata": {
        "colab": {
          "base_uri": "https://localhost:8080/"
        },
        "id": "PvagbbR0nBTb",
        "outputId": "f0f28ee9-cfaa-4c70-c619-9130c695f26e"
      },
      "execution_count": 11,
      "outputs": [
        {
          "output_type": "stream",
          "name": "stdout",
          "text": [
            "Enter an input: 6\n",
            "The factorial of 6 is: 720\n"
          ]
        }
      ]
    },
    {
      "cell_type": "code",
      "source": [
        "# break and continue\n",
        "\n",
        "for i in range(1, 10):\n",
        "  if(i == 5):\n",
        "    break\n",
        "\n",
        "  print(i)\n"
      ],
      "metadata": {
        "colab": {
          "base_uri": "https://localhost:8080/"
        },
        "id": "iXcz9aOpol7C",
        "outputId": "d50050f1-3ae6-4a20-bd08-cabcca18f058"
      },
      "execution_count": 16,
      "outputs": [
        {
          "output_type": "stream",
          "name": "stdout",
          "text": [
            "1\n",
            "2\n",
            "3\n",
            "4\n"
          ]
        }
      ]
    },
    {
      "cell_type": "code",
      "source": [
        "#Continue\n",
        "\n",
        "for j in range(1, 10):\n",
        "  if(j == 5) :\n",
        "    continue  # skip the current value and continue for all others\n",
        "\n",
        "  print(j)\n",
        "\n",
        "\n",
        "x = 0\n",
        "while x < 10:\n",
        "  x += 1\n",
        "\n",
        "  if x > 5 : #if x > 5 then continue next iteration\n",
        "    continue\n",
        "\n",
        "  print(\"x = \",x)\n",
        "\n",
        "print(\"Out of loop\")\n",
        ""
      ],
      "metadata": {
        "colab": {
          "base_uri": "https://localhost:8080/"
        },
        "id": "scQs1bzspW8Q",
        "outputId": "b80ad913-f273-45f5-8489-b3875a8e7954"
      },
      "execution_count": 55,
      "outputs": [
        {
          "output_type": "stream",
          "name": "stdout",
          "text": [
            "1\n",
            "2\n",
            "3\n",
            "4\n",
            "6\n",
            "7\n",
            "8\n",
            "9\n",
            "x =  1\n",
            "x =  2\n",
            "x =  3\n",
            "x =  4\n",
            "x =  5\n",
            "Out of loop\n"
          ]
        }
      ]
    },
    {
      "cell_type": "code",
      "source": [
        "# Cube of the number upto given integer\n",
        "\n",
        "n = int(input('Enter a number upto which you want to print the cube: '))\n",
        "i = 1\n",
        "\n",
        "while(i <= n):\n",
        "  print('The cube of', i, 'is :', i**3)\n",
        "  i += 1\n"
      ],
      "metadata": {
        "colab": {
          "base_uri": "https://localhost:8080/"
        },
        "id": "YZKpM3iEqBNy",
        "outputId": "4a8bb455-aa53-41c8-e44a-4bc631c01323"
      },
      "execution_count": 20,
      "outputs": [
        {
          "output_type": "stream",
          "name": "stdout",
          "text": [
            "Enter a number upto which you want to print the cube: 5\n",
            "The cube of 1 is : 1\n",
            "The cube of 2 is : 8\n",
            "The cube of 3 is : 27\n",
            "The cube of 4 is : 64\n",
            "The cube of 5 is : 125\n"
          ]
        }
      ]
    },
    {
      "cell_type": "code",
      "source": [
        "# to display each character from a string\n",
        "\n",
        "str = 'Hello'\n",
        "len = len(str)\n",
        "\n",
        "for i in range(len) :\n",
        "  print(str[i])"
      ],
      "metadata": {
        "colab": {
          "base_uri": "https://localhost:8080/"
        },
        "id": "XqoqK8SqrPvy",
        "outputId": "010b863f-c7ef-4ce1-8ef0-aaed7ae786d7"
      },
      "execution_count": 21,
      "outputs": [
        {
          "output_type": "stream",
          "name": "stdout",
          "text": [
            "H\n",
            "e\n",
            "l\n",
            "l\n",
            "o\n"
          ]
        }
      ]
    },
    {
      "cell_type": "code",
      "source": [
        "# display odd numbers between 0 to 10\n",
        "for i in range (1, 10, 2):\n",
        "  print(i)"
      ],
      "metadata": {
        "colab": {
          "base_uri": "https://localhost:8080/"
        },
        "id": "_c0CAenprn3x",
        "outputId": "5c848d85-a41f-41ad-9587-94cbf715d9bf"
      },
      "execution_count": 22,
      "outputs": [
        {
          "output_type": "stream",
          "name": "stdout",
          "text": [
            "1\n",
            "3\n",
            "5\n",
            "7\n",
            "9\n"
          ]
        }
      ]
    },
    {
      "cell_type": "code",
      "source": [
        "# display in desecending order\n",
        "for i in range (5, 0, -1) :\n",
        "  print(i)"
      ],
      "metadata": {
        "colab": {
          "base_uri": "https://localhost:8080/"
        },
        "id": "BGh2HcxLrztC",
        "outputId": "38f09716-a225-4f76-96a6-2d0ae0259c59"
      },
      "execution_count": 29,
      "outputs": [
        {
          "output_type": "stream",
          "name": "stdout",
          "text": [
            "5\n",
            "4\n",
            "3\n",
            "2\n",
            "1\n"
          ]
        }
      ]
    },
    {
      "cell_type": "code",
      "source": [
        "# to find the sum of list using for loop\n",
        "\n",
        "list = [10,20,30,40,50]\n",
        "sum = 0\n",
        "\n",
        "for n in list:\n",
        "  sum += n\n",
        "\n",
        "print(\"Sum = \",sum)\n"
      ],
      "metadata": {
        "colab": {
          "base_uri": "https://localhost:8080/"
        },
        "id": "le9qXGE1sJuR",
        "outputId": "414b2b29-015a-434c-8bcb-4cab22b4ed8a"
      },
      "execution_count": 41,
      "outputs": [
        {
          "output_type": "stream",
          "name": "stdout",
          "text": [
            "Sum =  150\n"
          ]
        }
      ]
    },
    {
      "cell_type": "code",
      "source": [
        "my_list = [10, 20, 30, 40, 50]\n",
        "length = len(my_list)\n",
        "i = 0\n",
        "\n",
        "while i < length:\n",
        "    print(my_list[i])\n",
        "    i += 1\n"
      ],
      "metadata": {
        "colab": {
          "base_uri": "https://localhost:8080/",
          "height": 245
        },
        "id": "fdKFZT52tV74",
        "outputId": "a6b3b501-b871-41ac-ce4c-7326b4b0e189"
      },
      "execution_count": 42,
      "outputs": [
        {
          "output_type": "error",
          "ename": "TypeError",
          "evalue": "ignored",
          "traceback": [
            "\u001b[0;31m---------------------------------------------------------------------------\u001b[0m",
            "\u001b[0;31mTypeError\u001b[0m                                 Traceback (most recent call last)",
            "\u001b[0;32m<ipython-input-42-6822f5a6ef01>\u001b[0m in \u001b[0;36m<cell line: 2>\u001b[0;34m()\u001b[0m\n\u001b[1;32m      1\u001b[0m \u001b[0mmy_list\u001b[0m \u001b[0;34m=\u001b[0m \u001b[0;34m[\u001b[0m\u001b[0;36m10\u001b[0m\u001b[0;34m,\u001b[0m \u001b[0;36m20\u001b[0m\u001b[0;34m,\u001b[0m \u001b[0;36m30\u001b[0m\u001b[0;34m,\u001b[0m \u001b[0;36m40\u001b[0m\u001b[0;34m,\u001b[0m \u001b[0;36m50\u001b[0m\u001b[0;34m]\u001b[0m\u001b[0;34m\u001b[0m\u001b[0;34m\u001b[0m\u001b[0m\n\u001b[0;32m----> 2\u001b[0;31m \u001b[0mlength\u001b[0m \u001b[0;34m=\u001b[0m \u001b[0mlen\u001b[0m\u001b[0;34m(\u001b[0m\u001b[0mmy_list\u001b[0m\u001b[0;34m)\u001b[0m\u001b[0;34m\u001b[0m\u001b[0;34m\u001b[0m\u001b[0m\n\u001b[0m\u001b[1;32m      3\u001b[0m \u001b[0mi\u001b[0m \u001b[0;34m=\u001b[0m \u001b[0;36m0\u001b[0m\u001b[0;34m\u001b[0m\u001b[0;34m\u001b[0m\u001b[0m\n\u001b[1;32m      4\u001b[0m \u001b[0;34m\u001b[0m\u001b[0m\n\u001b[1;32m      5\u001b[0m \u001b[0;32mwhile\u001b[0m \u001b[0mi\u001b[0m \u001b[0;34m<\u001b[0m \u001b[0mlength\u001b[0m\u001b[0;34m:\u001b[0m\u001b[0;34m\u001b[0m\u001b[0;34m\u001b[0m\u001b[0m\n",
            "\u001b[0;31mTypeError\u001b[0m: 'int' object is not callable"
          ]
        }
      ]
    },
    {
      "cell_type": "code",
      "source": [
        "#nested loop\n",
        "\n",
        "for i in range(3):\n",
        "  for j in range(3):\n",
        "    print(\"i= \",i ,\"\\t\", \"j= \",j)"
      ],
      "metadata": {
        "colab": {
          "base_uri": "https://localhost:8080/"
        },
        "id": "vMdf-rtlvHn5",
        "outputId": "1cf9e788-839f-4629-b308-775b833401c5"
      },
      "execution_count": 44,
      "outputs": [
        {
          "output_type": "stream",
          "name": "stdout",
          "text": [
            "i=  0 \t j=  0\n",
            "i=  0 \t j=  1\n",
            "i=  0 \t j=  2\n",
            "i=  1 \t j=  0\n",
            "i=  1 \t j=  1\n",
            "i=  1 \t j=  2\n",
            "i=  2 \t j=  0\n",
            "i=  2 \t j=  1\n",
            "i=  2 \t j=  2\n"
          ]
        }
      ]
    },
    {
      "cell_type": "code",
      "source": [
        "for i in range(1, 11):\n",
        "  for j in range(1, i+1):\n",
        "    print('*',end = ' ')\n",
        "  print('\\n')"
      ],
      "metadata": {
        "colab": {
          "base_uri": "https://localhost:8080/"
        },
        "id": "URfNs-Pgvk-e",
        "outputId": "517752b6-8c86-40b7-a029-eb21b257c3d7"
      },
      "execution_count": 52,
      "outputs": [
        {
          "output_type": "stream",
          "name": "stdout",
          "text": [
            "* \n",
            "\n",
            "* * \n",
            "\n",
            "* * * \n",
            "\n",
            "* * * * \n",
            "\n",
            "* * * * * \n",
            "\n",
            "* * * * * * \n",
            "\n",
            "* * * * * * * \n",
            "\n",
            "* * * * * * * * \n",
            "\n",
            "* * * * * * * * * \n",
            "\n",
            "* * * * * * * * * * \n",
            "\n"
          ]
        }
      ]
    },
    {
      "cell_type": "code",
      "source": [
        "# to display right angled triangle using single loop\n",
        "\n",
        "for i in range(1, 11) :\n",
        "  print('* '*(i) ) # repeat the star for i times\n"
      ],
      "metadata": {
        "colab": {
          "base_uri": "https://localhost:8080/"
        },
        "id": "LJdGxpSPwYvC",
        "outputId": "5e0b560b-9e97-4ba8-e4a0-3f4ea8f3e072"
      },
      "execution_count": 50,
      "outputs": [
        {
          "output_type": "stream",
          "name": "stdout",
          "text": [
            "* \n",
            "* * \n",
            "* * * \n",
            "* * * * \n",
            "* * * * * \n",
            "* * * * * * \n",
            "* * * * * * * \n",
            "* * * * * * * * \n",
            "* * * * * * * * * \n",
            "* * * * * * * * * * \n"
          ]
        }
      ]
    },
    {
      "cell_type": "code",
      "source": [
        "# equilateral traingle\n",
        "\n",
        "n = 30\n",
        "\n",
        "for i in range(1, 11):\n",
        "  print(' '*n, end ='')\n",
        "  print('* ' * (i))\n",
        "  n = n-1"
      ],
      "metadata": {
        "colab": {
          "base_uri": "https://localhost:8080/"
        },
        "id": "QevO9vOesVyr",
        "outputId": "06ef261e-0b4f-48b0-fe7a-59b4e22a911e"
      },
      "execution_count": 53,
      "outputs": [
        {
          "output_type": "stream",
          "name": "stdout",
          "text": [
            "                              * \n",
            "                             * * \n",
            "                            * * * \n",
            "                           * * * * \n",
            "                          * * * * * \n",
            "                         * * * * * * \n",
            "                        * * * * * * * \n",
            "                       * * * * * * * * \n",
            "                      * * * * * * * * * \n",
            "                     * * * * * * * * * * \n"
          ]
        }
      ]
    },
    {
      "cell_type": "code",
      "source": [
        "# sum of digits in a given number\n",
        "\n",
        "n = int(input('Enter any number:'))\n",
        "n1 = n\n",
        "sum = 0\n",
        "\n",
        "while(n > 0):\n",
        "  d = n % 10\n",
        "  sum += d\n",
        "  n = n // 10 #only return the floor value\n",
        "\n",
        "print(\"Sum of the digits of\",n1, \"is:\",sum)"
      ],
      "metadata": {
        "colab": {
          "base_uri": "https://localhost:8080/"
        },
        "id": "4a1D_4mM088V",
        "outputId": "3521c5c4-084c-4353-d4eb-c83784ab4114"
      },
      "execution_count": 60,
      "outputs": [
        {
          "output_type": "stream",
          "name": "stdout",
          "text": [
            "Enter any number:234\n",
            "Sum of the digits of 234 is: 9\n"
          ]
        }
      ]
    },
    {
      "cell_type": "code",
      "source": [
        "# display the multiplication of integer\n",
        "\n",
        "n = int(input(\"Enter the integer you want:\"))\n",
        "value = 0\n",
        "\n",
        "print(\"The multiplication table is below: \\n\")\n",
        "for i in range(1, 11) :\n",
        "  print(n,\"*\", i, \"is :\", (n*i))\n",
        "\n"
      ],
      "metadata": {
        "colab": {
          "base_uri": "https://localhost:8080/"
        },
        "id": "JPa5m8qN2aQ8",
        "outputId": "178545a7-e585-45e8-cbcf-a5d8afa31f15"
      },
      "execution_count": 67,
      "outputs": [
        {
          "output_type": "stream",
          "name": "stdout",
          "text": [
            "Enter the integer you want:4\n",
            "The multiplication table is below: \n",
            "\n",
            "4 * 1 is : 4\n",
            "4 * 2 is : 8\n",
            "4 * 3 is : 12\n",
            "4 * 4 is : 16\n",
            "4 * 5 is : 20\n",
            "4 * 6 is : 24\n",
            "4 * 7 is : 28\n",
            "4 * 8 is : 32\n",
            "4 * 9 is : 36\n",
            "4 * 10 is : 40\n"
          ]
        }
      ]
    },
    {
      "cell_type": "code",
      "source": [
        "#Python program to find out the average of a set of integers\n",
        "\n",
        "count = int(input(\"Enter the count of integers you want:\"))\n",
        "avg = 0\n",
        "sum = 0\n",
        "\n",
        "for i in range(count):\n",
        "     n = int(input(\"Enter an integer: \"))\n",
        "     sum = sum + n\n",
        "\n",
        "avg = sum / count\n",
        "\n",
        "print(\"Average of the set of given integers:\",avg)"
      ],
      "metadata": {
        "colab": {
          "base_uri": "https://localhost:8080/"
        },
        "id": "eMLdfAVn4la0",
        "outputId": "551c8b8b-9352-44cc-ab03-23c1008a6d10"
      },
      "execution_count": 71,
      "outputs": [
        {
          "output_type": "stream",
          "name": "stdout",
          "text": [
            "Enter the count of integers you want:5\n",
            "Enter an integer: 1\n",
            "Enter an integer: 1\n",
            "Enter an integer: 1\n",
            "Enter an integer: 1\n",
            "Enter an integer: 1\n",
            "Average of the set of given integers: 1.0\n"
          ]
        }
      ]
    },
    {
      "cell_type": "code",
      "source": [
        "# Prime number upto n\n",
        "\n",
        "def is_prime(num):\n",
        "    if num < 2:\n",
        "        return False\n",
        "    for i in range(2, int(num ** 0.5) + 1):\n",
        "        if num % i == 0:\n",
        "            return False\n",
        "    return True\n",
        "\n",
        "def generate_primes_up_to_n(n):\n",
        "    prime_numbers = []\n",
        "    for number in range(2, n + 1):\n",
        "        if is_prime(number):\n",
        "            prime_numbers.append(number)\n",
        "    return prime_numbers\n",
        "\n",
        "# Input the value of N\n",
        "N = int(input(\"Enter a positive integer N: \"))\n",
        "\n",
        "if N < 2:\n",
        "    print(\"There are no prime numbers in the given range.\")\n",
        "else:\n",
        "    print(\"Prime numbers from 1 to\", N, \"are:\")\n",
        "    prime_numbers = generate_primes_up_to_n(N)\n",
        "    print(prime_numbers)\n"
      ],
      "metadata": {
        "colab": {
          "base_uri": "https://localhost:8080/"
        },
        "id": "MdWbitFS_AGL",
        "outputId": "cab55dc9-2f8b-46b8-8fca-03a1c175f728"
      },
      "execution_count": 77,
      "outputs": [
        {
          "output_type": "stream",
          "name": "stdout",
          "text": [
            "Enter a positive integer N: 20\n",
            "Prime numbers from 1 to 20 are:\n",
            "[2, 3, 5, 7, 11, 13, 17, 19]\n"
          ]
        }
      ]
    },
    {
      "cell_type": "code",
      "source": [
        "num =int(input(\"Enter the range: \"))\n",
        "\n",
        "for n in range(2,num):\n",
        "\n",
        "      for i in range(2,n):\n",
        "\n",
        "            if(n%i==0):\n",
        "\n",
        "                      break\n",
        "\n",
        "      else:\n",
        "\n",
        "            print(n)"
      ],
      "metadata": {
        "colab": {
          "base_uri": "https://localhost:8080/"
        },
        "id": "sS-KXJ90GBFu",
        "outputId": "5a1e8a77-a0e4-471f-d324-0d200e597d8c"
      },
      "execution_count": 78,
      "outputs": [
        {
          "output_type": "stream",
          "name": "stdout",
          "text": [
            "Enter the range: 30\n",
            "2\n",
            "3\n",
            "5\n",
            "7\n",
            "11\n",
            "13\n",
            "17\n",
            "19\n",
            "23\n",
            "29\n"
          ]
        }
      ]
    },
    {
      "cell_type": "code",
      "source": [],
      "metadata": {
        "id": "kSfmyQym1S51"
      },
      "execution_count": null,
      "outputs": []
    },
    {
      "cell_type": "code",
      "source": [
        "# reverse a number\n",
        "\n",
        "num = int(input(\"Enter a positive number:\"))\n",
        "\n",
        "reverse = 0\n",
        "\n",
        "while(num != 0) :\n",
        "  sum = num % 10\n",
        "  reverse = (reverse * 10) + sum\n",
        "  num = num // 10\n",
        "\n",
        "print(\"The reversed digit is:\",reverse)\n"
      ],
      "metadata": {
        "colab": {
          "base_uri": "https://localhost:8080/"
        },
        "id": "HUPQJTogGPt1",
        "outputId": "f20a985e-ca63-4188-b799-6fa5e9ec5d1b"
      },
      "execution_count": 94,
      "outputs": [
        {
          "output_type": "stream",
          "name": "stdout",
          "text": [
            "Enter a positive number:12345\n",
            "The reversed digit is: 54321\n"
          ]
        }
      ]
    },
    {
      "cell_type": "code",
      "source": [],
      "metadata": {
        "id": "jKmeimPgG0gc"
      },
      "execution_count": null,
      "outputs": []
    }
  ]
}