{
  "nbformat": 4,
  "nbformat_minor": 0,
  "metadata": {
    "colab": {
      "provenance": [],
      "authorship_tag": "ABX9TyPPVnEh/YF2pW/RUlCRC8Wi",
      "include_colab_link": true
    },
    "kernelspec": {
      "name": "python3",
      "display_name": "Python 3"
    },
    "language_info": {
      "name": "python"
    }
  },
  "cells": [
    {
      "cell_type": "markdown",
      "metadata": {
        "id": "view-in-github",
        "colab_type": "text"
      },
      "source": [
        "<a href=\"https://colab.research.google.com/github/sushanttwayana/Python_Starter/blob/main/Python_Day4(functions).ipynb\" target=\"_parent\"><img src=\"https://colab.research.google.com/assets/colab-badge.svg\" alt=\"Open In Colab\"/></a>"
      ]
    },
    {
      "cell_type": "code",
      "execution_count": null,
      "metadata": {
        "colab": {
          "base_uri": "https://localhost:8080/"
        },
        "id": "yvGDRcznUWGV",
        "outputId": "0bbb2b8d-668b-47ff-e4e3-1d6b61dba6a8"
      },
      "outputs": [
        {
          "output_type": "stream",
          "name": "stdout",
          "text": [
            "Enter an number:3\n",
            "The suqare of 3 is: 9\n",
            "The cube of 3 is: 27\n"
          ]
        }
      ],
      "source": [
        "# functions and return statements\n",
        "\n",
        "#Square and cube of a number\n",
        "\n",
        "def cube(n) :\n",
        "  return(n ** 3)\n",
        "\n",
        "def square(n):\n",
        "  return( n ** 2)\n",
        "\n",
        "num = int(input(\"Enter an number:\"))\n",
        "\n",
        "sresult = square(num)\n",
        "cresult = cube(num)\n",
        "\n",
        "print(\"The suqare of\", num, \"is:\",sresult)\n",
        "print(\"The cube of\", num, \"is:\",cresult)"
      ]
    },
    {
      "cell_type": "code",
      "source": [
        "#Find the maximum and minimum value\n",
        "\n",
        "def max_value(x, y):\n",
        "  if x > y:\n",
        "    return(x)\n",
        "  else :\n",
        "    return(y)\n",
        "\n",
        "\n",
        "def min_value(x, y):\n",
        "  if x < y:\n",
        "    return(x)\n",
        "  else :\n",
        "    return(y)\n",
        "\n",
        "n1 = int(input(\"Enter the first number:\"))\n",
        "n2 = int(input(\"Enter the second number:\"))\n",
        "\n",
        "print(\"The maximum value is:\",max_value(n1 , n2))\n",
        "print(\"The manimum value is:\",min_value(n1 , n2))"
      ],
      "metadata": {
        "colab": {
          "base_uri": "https://localhost:8080/"
        },
        "id": "d_vUsBAVWGRi",
        "outputId": "353fa387-92d3-4249-86da-09bab72f2c68"
      },
      "execution_count": null,
      "outputs": [
        {
          "output_type": "stream",
          "name": "stdout",
          "text": [
            "Enter the first number:10\n",
            "Enter the second number:5\n",
            "The maximum value is: 10\n",
            "The manimum value is: 5\n"
          ]
        }
      ]
    },
    {
      "cell_type": "code",
      "source": [
        "# factorial\n",
        "\n",
        "def fact(n) :\n",
        " f = 1\n",
        " for i in range(1, (n+1)):\n",
        "  f = f * i\n",
        " return(f)\n",
        "\n",
        "num = int(input('Enter any positive number:'))\n",
        "print(\"The factorial of\",num,\"is:\",fact(num))\n"
      ],
      "metadata": {
        "id": "-_4TuVilavWh",
        "colab": {
          "base_uri": "https://localhost:8080/"
        },
        "outputId": "95705e6d-f8b0-4c60-a894-4ed807d5eb52"
      },
      "execution_count": 12,
      "outputs": [
        {
          "output_type": "stream",
          "name": "stdout",
          "text": [
            "Enter any positive number:5\n",
            "The factorial of 5 is: 120\n"
          ]
        }
      ]
    },
    {
      "cell_type": "code",
      "source": [
        "#calender\n",
        "\n",
        "import calendar\n",
        "yy = 2023\n",
        "mm = 8\n",
        "dd = 25\n",
        "print(calendar.month(yy,mm,dd))\n"
      ],
      "metadata": {
        "colab": {
          "base_uri": "https://localhost:8080/"
        },
        "id": "bJIXh01Rfwhi",
        "outputId": "616a95f9-7424-489c-f6e3-13617ccda997"
      },
      "execution_count": 6,
      "outputs": [
        {
          "output_type": "stream",
          "name": "stdout",
          "text": [
            "                                                                                     August 2023\n",
            "          Monday                   Tuesday                  Wednesday                  Thursday                   Friday                   Saturday                   Sunday\n",
            "                                       1                         2                         3                         4                         5                         6\n",
            "             7                         8                         9                        10                        11                        12                        13\n",
            "            14                        15                        16                        17                        18                        19                        20\n",
            "            21                        22                        23                        24                        25                        26                        27\n",
            "            28                        29                        30                        31\n",
            "\n"
          ]
        }
      ]
    },
    {
      "cell_type": "markdown",
      "source": [],
      "metadata": {
        "id": "LyQjWKo4itGs"
      }
    },
    {
      "cell_type": "code",
      "source": [
        "# given number is in the range or not\n",
        "\n",
        "def test_num(n) :\n",
        "  if n in range (1,11):\n",
        "    print(\"%s is in the given range\"%str(n))\n",
        "\n",
        "  else:\n",
        "    print(\"%s is not in the given range\"%str(n))\n",
        "\n",
        "\n",
        "test_num(15)"
      ],
      "metadata": {
        "id": "PsbkzXSPVS_z",
        "colab": {
          "base_uri": "https://localhost:8080/"
        },
        "outputId": "9e3728b0-ad41-4877-c619-3acc9249bb21"
      },
      "execution_count": 17,
      "outputs": [
        {
          "output_type": "stream",
          "name": "stdout",
          "text": [
            "15 is not in the given range\n"
          ]
        }
      ]
    },
    {
      "cell_type": "code",
      "source": [
        "#multiply the list of number\n",
        "\n",
        "def multiply(numbers):\n",
        "  total = 1\n",
        "  for x in numbers:\n",
        "    total *= x\n",
        "\n",
        "  return total\n",
        "\n",
        "print(multiply((8,3,2,-1,7)))"
      ],
      "metadata": {
        "colab": {
          "base_uri": "https://localhost:8080/"
        },
        "id": "rxl_AkXtiFKr",
        "outputId": "efe6bdbc-678a-459b-dee6-0dd5de0bcfce"
      },
      "execution_count": 20,
      "outputs": [
        {
          "output_type": "stream",
          "name": "stdout",
          "text": [
            "-336\n"
          ]
        }
      ]
    },
    {
      "cell_type": "code",
      "source": [
        "#recursion using McCarthy's 91 function\n",
        "\n",
        "def M(n) :\n",
        "  if(n > 100):\n",
        "    return n-10\n",
        "\n",
        "  else:\n",
        "    return M(M(n+11))\n",
        "\n",
        "print(M(102))"
      ],
      "metadata": {
        "colab": {
          "base_uri": "https://localhost:8080/"
        },
        "id": "7gtX1fHUnX6N",
        "outputId": "d7a32258-7142-4560-b711-549dd2e3c877"
      },
      "execution_count": 27,
      "outputs": [
        {
          "output_type": "stream",
          "name": "stdout",
          "text": [
            "92\n"
          ]
        }
      ]
    },
    {
      "cell_type": "code",
      "source": [
        "# Nested Fuction\n",
        "\n",
        "def outer_func():\n",
        "  var = 10\n",
        "\n",
        "  def inner_func():\n",
        "    var = 20\n",
        "    print(\"Inner variable:\",var)\n",
        "\n",
        "  inner_func()\n",
        "  print(\"Outer variable:\",var)\n",
        "\n",
        "outer_func()"
      ],
      "metadata": {
        "colab": {
          "base_uri": "https://localhost:8080/"
        },
        "id": "WzLc4jtFo9Uu",
        "outputId": "f495310f-cb66-4431-cb10-153e97d72f9b"
      },
      "execution_count": 28,
      "outputs": [
        {
          "output_type": "stream",
          "name": "stdout",
          "text": [
            "Inner variable: 20\n",
            "Outer variable: 10\n"
          ]
        }
      ]
    },
    {
      "cell_type": "code",
      "source": [
        "def cube(x):\n",
        "  def square(x):\n",
        "    return (x * x)\n",
        "\n",
        "  c = square(n) * x\n",
        "  print(c)\n",
        "\n",
        "n = int(input('Enter a number:'))\n",
        "cube(n)"
      ],
      "metadata": {
        "colab": {
          "base_uri": "https://localhost:8080/"
        },
        "id": "DST53YGpqOOb",
        "outputId": "977c9295-9734-4e93-d57b-1846fd947aff"
      },
      "execution_count": 29,
      "outputs": [
        {
          "output_type": "stream",
          "name": "stdout",
          "text": [
            "Enter a number:5\n",
            "125\n"
          ]
        }
      ]
    },
    {
      "cell_type": "code",
      "source": [
        "from re import S\n",
        "# lambda function\n",
        "# lambda arguments : expression \\\\ works similar to a function taking arguments\n",
        "\n",
        "sum = lambda x, y: x + y\n",
        "print(\"Sum = \", sum(3,5))\n",
        "\n",
        "# Similar to\n",
        "# def sum(x,y):\n",
        "#   return x+y"
      ],
      "metadata": {
        "colab": {
          "base_uri": "https://localhost:8080/"
        },
        "id": "u6aYNIgNu3WT",
        "outputId": "b8e44be0-c7da-4004-f517-d8697cc7cfca"
      },
      "execution_count": 30,
      "outputs": [
        {
          "output_type": "stream",
          "name": "stdout",
          "text": [
            "Sum =  8\n"
          ]
        }
      ]
    },
    {
      "cell_type": "code",
      "source": [
        "#lambda function as an argument to a function\n",
        "\n",
        "def func(f, n):\n",
        "  print(f(n))\n",
        "\n",
        "twice = lambda x : x *2\n",
        "thrice = lambda x : x *3\n",
        "\n",
        "func(twice, 4)\n",
        "func(thrice, 3)"
      ],
      "metadata": {
        "colab": {
          "base_uri": "https://localhost:8080/"
        },
        "id": "nxp-J_0KwYLe",
        "outputId": "822d441e-ef81-4449-f316-f450cf8ee422"
      },
      "execution_count": 31,
      "outputs": [
        {
          "output_type": "stream",
          "name": "stdout",
          "text": [
            "8\n",
            "9\n"
          ]
        }
      ]
    },
    {
      "cell_type": "code",
      "source": [
        "#using lambda function to calculate sum of first 10 natural numbers\n",
        "\n",
        "x = lambda  : sum(range(1, 11))\n",
        "print(x)"
      ],
      "metadata": {
        "colab": {
          "base_uri": "https://localhost:8080/"
        },
        "id": "UB1gS3J4xLJW",
        "outputId": "3a7abdd2-1cc3-4dc8-8894-69f5e8b739bd"
      },
      "execution_count": 37,
      "outputs": [
        {
          "output_type": "stream",
          "name": "stdout",
          "text": [
            "<function <lambda> at 0x7db00e3b9bd0>\n"
          ]
        }
      ]
    },
    {
      "cell_type": "code",
      "source": [
        "def small(x, y):\n",
        "  if(x < y): # -5 < -3 (true)\n",
        "    return x\n",
        "\n",
        "  else :\n",
        "    return y\n",
        "\n",
        "sum = lambda x,y : x + y #-5\n",
        "diff = lambda x,y : x -y #-3\n",
        "\n",
        "print(\"Smaller of two numbers:\", small(sum(-3, -2), diff(-1, 2)))"
      ],
      "metadata": {
        "colab": {
          "base_uri": "https://localhost:8080/"
        },
        "id": "b_uw4F0Ux7J0",
        "outputId": "0323a9b8-c5c6-4029-95ce-b8693bf627e4"
      },
      "execution_count": 39,
      "outputs": [
        {
          "output_type": "stream",
          "name": "stdout",
          "text": [
            "Smaller of two numbers: -5\n"
          ]
        }
      ]
    },
    {
      "cell_type": "code",
      "source": [
        "# default arguments\n",
        "\n",
        "def display(name , course = \"Python\"):\n",
        "  print(\"Name:\", name)\n",
        "  print(\"Course:\"+ course)\n",
        "\n",
        "display(name = \"Alexa\")"
      ],
      "metadata": {
        "colab": {
          "base_uri": "https://localhost:8080/"
        },
        "id": "vBB1C78QzTmD",
        "outputId": "d362775a-edb2-4891-efa9-c14bc77c0e35"
      },
      "execution_count": 42,
      "outputs": [
        {
          "output_type": "stream",
          "name": "stdout",
          "text": [
            "Name: Alexa\n",
            "Course:Python\n"
          ]
        }
      ]
    },
    {
      "cell_type": "code",
      "source": [
        "#Keyword argument  (Order of the arguments doesnot plays an crucial role)\n",
        "\n",
        "def display(name, age, salary):\n",
        "  print(\"Name: \",name)\n",
        "  print(\"Age: \",age)\n",
        "  print(\"Salary: \",salary)\n",
        "\n",
        "n = \"Ram\"\n",
        "a = 21\n",
        "s = 30000\n",
        "\n",
        "display(salary = s, name = n, age = a)\n",
        "\n"
      ],
      "metadata": {
        "colab": {
          "base_uri": "https://localhost:8080/"
        },
        "id": "VHsW_QpI0Whf",
        "outputId": "6040a981-c232-4b88-ecc4-3a37f4c486fb"
      },
      "execution_count": 43,
      "outputs": [
        {
          "output_type": "stream",
          "name": "stdout",
          "text": [
            "Name:  Ram\n",
            "Age:  21\n",
            "Salary:  30000\n"
          ]
        }
      ]
    },
    {
      "cell_type": "code",
      "source": [],
      "metadata": {
        "id": "a7bsBpuD1N-F"
      },
      "execution_count": null,
      "outputs": []
    },
    {
      "cell_type": "code",
      "source": [
        "def display(str, int, float):\n",
        "  print(\"The string is :\",str)\n",
        "  print(\"The integer value is :\",int)\n",
        "  print(\"The floating value is :\",float)\n",
        "\n",
        "display(float = 56.7868, str = \"Hello\", int = 1234)"
      ],
      "metadata": {
        "colab": {
          "base_uri": "https://localhost:8080/"
        },
        "id": "_UllLY5z2Bru",
        "outputId": "e964b0bb-9b84-4665-daad-3d9a6ea6e0d9"
      },
      "execution_count": 44,
      "outputs": [
        {
          "output_type": "stream",
          "name": "stdout",
          "text": [
            "The string is : Hello\n",
            "The integer value is : 1234\n",
            "The floating value is : 56.7868\n"
          ]
        }
      ]
    },
    {
      "cell_type": "code",
      "source": [
        "# variable-length arguments\n",
        "# def function_name([arg1, arg2,.......], * var_args_tuple):\n",
        "\n",
        "def fun(name, *fav_subjects):\n",
        "  print(name,\"likes to learn,\")\n",
        "  for subject in fav_subjects:\n",
        "    print(subject)\n",
        "\n",
        "fun(\"Laxman\", \"Python\",\"R\",\"ML\",\"DL\")\n"
      ],
      "metadata": {
        "colab": {
          "base_uri": "https://localhost:8080/"
        },
        "id": "iELLjZaa2na3",
        "outputId": "8ab7159f-d8b1-4f6d-f120-64018f32fb89"
      },
      "execution_count": 46,
      "outputs": [
        {
          "output_type": "stream",
          "name": "stdout",
          "text": [
            "Laxman likes to learn,\n",
            "Python\n",
            "R\n",
            "ML\n",
            "DL\n"
          ]
        }
      ]
    },
    {
      "cell_type": "code",
      "source": [
        "# Global Variables\n",
        "\n",
        "x = \"awesome\"\n",
        "\n",
        "def myfunc():\n",
        "  global a\n",
        "  a = \"fantastic\"\n",
        "  print(\"Python is \"+ x)\n",
        "\n",
        "myfunc()\n",
        "print(\" Python :\"+ a)"
      ],
      "metadata": {
        "colab": {
          "base_uri": "https://localhost:8080/"
        },
        "id": "Co9U711b4KUe",
        "outputId": "eb70db6f-d71d-40dc-cec8-1fa8879270c3"
      },
      "execution_count": 48,
      "outputs": [
        {
          "output_type": "stream",
          "name": "stdout",
          "text": [
            "Python is awesome\n",
            " Python :fantastic\n"
          ]
        }
      ]
    },
    {
      "cell_type": "code",
      "source": [
        "#print the numbers from a given number n till 0 using recursion\n",
        "\n",
        "def display(n) :\n",
        "  if(n != 0):\n",
        "    print(n,end = ' ')\n",
        "    display(n-1)\n",
        "\n",
        "  else:\n",
        "    print(\"0\")\n",
        "num = int(input(\"Enter the number:\"))\n",
        "display(num)\n"
      ],
      "metadata": {
        "colab": {
          "base_uri": "https://localhost:8080/"
        },
        "id": "qHGIaVhX7JcY",
        "outputId": "e156a140-0be3-4096-ae5f-8f5fb3054219"
      },
      "execution_count": 52,
      "outputs": [
        {
          "output_type": "stream",
          "name": "stdout",
          "text": [
            "Enter the number:10\n",
            "10 9 8 7 6 5 4 3 2 1 0\n"
          ]
        }
      ]
    },
    {
      "cell_type": "code",
      "source": [
        "# factorial of a number using recursion\n",
        "\n",
        "def fact(n):\n",
        "\n",
        "  if(n == 1 or n == 0):\n",
        "    return 1\n",
        "\n",
        "  else:\n",
        "    return(n * fact(n-1))\n",
        "\n",
        "num = int(input(\"Enter a positive integer:\"))\n",
        "print(\"The factorial of the\", num , \"is:\", fact(num))"
      ],
      "metadata": {
        "colab": {
          "base_uri": "https://localhost:8080/"
        },
        "id": "p7M6ZywP8f1g",
        "outputId": "a261f13c-af70-4f47-a396-2a1e76c11027"
      },
      "execution_count": 55,
      "outputs": [
        {
          "output_type": "stream",
          "name": "stdout",
          "text": [
            "Enter a positive integer:6\n",
            "The factorial of the 6 is: 720\n"
          ]
        }
      ]
    },
    {
      "cell_type": "code",
      "source": [
        "# fibonaci series\n",
        "\n",
        "n = int(input('Enter how many fibonacci:'))\n",
        "\n",
        "f1 = 0\n",
        "f2 = 1\n",
        "count = 2 # count the number of fibonacci\n",
        "\n",
        "if n == 1:\n",
        "  print(f1)\n",
        "\n",
        "elif n==2 :\n",
        "  print(f1,\"\\t\",f2)\n",
        "\n",
        "else:\n",
        "  print(f1,\"\",f2, end=' ')\n",
        "\n",
        "  while count < n:\n",
        "    f = f1 + f2\n",
        "    print(f,end =' ')\n",
        "    f1 = f2\n",
        "    f2 = f\n",
        "    count += 1 #increment counter\n",
        "\n"
      ],
      "metadata": {
        "colab": {
          "base_uri": "https://localhost:8080/"
        },
        "id": "q2M-ZQ_j9s1O",
        "outputId": "a7114eec-b5e0-4253-af64-060be96511cc"
      },
      "execution_count": 59,
      "outputs": [
        {
          "output_type": "stream",
          "name": "stdout",
          "text": [
            "Enter how many fibonacci:10\n",
            "0  1 1 2 3 5 8 13 21 34 "
          ]
        }
      ]
    },
    {
      "cell_type": "code",
      "source": [
        "from traitlets.config.application import T\n",
        "#calculate the sine value of given angle\n",
        "\n",
        "x, n = [int(i) for i in input(\"Enter angle value, no of iterations:\").split(',')]\n",
        "\n",
        "#convert the angle to radian\n",
        "r = (x * 3.14159)/180\n",
        "\n",
        "#first term\n",
        "t = r #(x)\n",
        "\n",
        "sum = r\n",
        "print('Iteration=%d \\t Sum=%f' %(1,sum))\n",
        "\n",
        "#denominator for 2nd term\n",
        "i = 2\n",
        "\n",
        "#repeat for 2nd to n terms\n",
        "\n",
        "for j in range(2, n+1):\n",
        "  t = (-1)*t*r*r/(i*(i+1))#find the next term\n",
        "  sum = sum + t\n",
        "  print('Iteration=%d \\t Sum=%f' %(j,sum))\n",
        "  i += 2\n"
      ],
      "metadata": {
        "colab": {
          "base_uri": "https://localhost:8080/"
        },
        "id": "xennGcTrAcNA",
        "outputId": "693d794a-7abe-42a2-ff99-bd35b5321961"
      },
      "execution_count": 62,
      "outputs": [
        {
          "output_type": "stream",
          "name": "stdout",
          "text": [
            "Enter angle value, no of iterations:30,5\n",
            "Iteration=1 \t Sum=0.523598\n",
            "Iteration=2 \t Sum=0.499674\n",
            "Iteration=3 \t Sum=0.500002\n",
            "Iteration=4 \t Sum=0.500000\n",
            "Iteration=5 \t Sum=0.500000\n"
          ]
        }
      ]
    },
    {
      "cell_type": "code",
      "source": [
        "# program to evaluate exponential series\n",
        "\n",
        "x, n = [int(i) for i in input(\"Enter the power of e, Number of iterations:\").split(',')]\n",
        "\n",
        "t = 1\n",
        "sum = t\n",
        "\n",
        "print('Iteration=%d \\t Sum=%f' %(t,sum))\n",
        "\n",
        "#repeat for 1st to n-1 terms\n",
        "\n",
        "for j in range(1, n+1):\n",
        "  t = t * x/j\n",
        "  sum = sum + t\n",
        "  print('Iteration=%d \\t Sum=%f' %(j,sum))"
      ],
      "metadata": {
        "colab": {
          "base_uri": "https://localhost:8080/"
        },
        "id": "EI06yVS7y8qj",
        "outputId": "de0e324f-7267-44ec-a82a-cb16e9380c13"
      },
      "execution_count": 69,
      "outputs": [
        {
          "output_type": "stream",
          "name": "stdout",
          "text": [
            "Enter the power of e, Number of iterations:10,30\n",
            "Iteration=1 \t Sum=1.000000\n",
            "Iteration=1 \t Sum=11.000000\n",
            "Iteration=2 \t Sum=61.000000\n",
            "Iteration=3 \t Sum=227.666667\n",
            "Iteration=4 \t Sum=644.333333\n",
            "Iteration=5 \t Sum=1477.666667\n",
            "Iteration=6 \t Sum=2866.555556\n",
            "Iteration=7 \t Sum=4850.682540\n",
            "Iteration=8 \t Sum=7330.841270\n",
            "Iteration=9 \t Sum=10086.573192\n",
            "Iteration=10 \t Sum=12842.305115\n",
            "Iteration=11 \t Sum=15347.515953\n",
            "Iteration=12 \t Sum=17435.191652\n",
            "Iteration=13 \t Sum=19041.096036\n",
            "Iteration=14 \t Sum=20188.170595\n",
            "Iteration=15 \t Sum=20952.886969\n",
            "Iteration=16 \t Sum=21430.834702\n",
            "Iteration=17 \t Sum=21711.980427\n",
            "Iteration=18 \t Sum=21868.172497\n",
            "Iteration=19 \t Sum=21950.378849\n",
            "Iteration=20 \t Sum=21991.482026\n",
            "Iteration=21 \t Sum=22011.054967\n",
            "Iteration=22 \t Sum=22019.951758\n",
            "Iteration=23 \t Sum=22023.819928\n",
            "Iteration=24 \t Sum=22025.431666\n",
            "Iteration=25 \t Sum=22026.076361\n",
            "Iteration=26 \t Sum=22026.324321\n",
            "Iteration=27 \t Sum=22026.416157\n",
            "Iteration=28 \t Sum=22026.448956\n",
            "Iteration=29 \t Sum=22026.460266\n",
            "Iteration=30 \t Sum=22026.464036\n"
          ]
        }
      ]
    }
  ]
}