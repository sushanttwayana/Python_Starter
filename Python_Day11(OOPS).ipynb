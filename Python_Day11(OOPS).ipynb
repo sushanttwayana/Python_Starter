{
  "nbformat": 4,
  "nbformat_minor": 0,
  "metadata": {
    "colab": {
      "provenance": [],
      "authorship_tag": "ABX9TyMcI5lrslo+pGiCN3A+ARve",
      "include_colab_link": true
    },
    "kernelspec": {
      "name": "python3",
      "display_name": "Python 3"
    },
    "language_info": {
      "name": "python"
    }
  },
  "cells": [
    {
      "cell_type": "markdown",
      "metadata": {
        "id": "view-in-github",
        "colab_type": "text"
      },
      "source": [
        "<a href=\"https://colab.research.google.com/github/sushanttwayana/Python_Starter/blob/main/Python_Day11(OOPS).ipynb\" target=\"_parent\"><img src=\"https://colab.research.google.com/assets/colab-badge.svg\" alt=\"Open In Colab\"/></a>"
      ]
    },
    {
      "cell_type": "code",
      "execution_count": null,
      "metadata": {
        "colab": {
          "base_uri": "https://localhost:8080/"
        },
        "id": "E2VevsEB54OA",
        "outputId": "03bdb103-5acb-4740-defb-64f25d6ca270"
      },
      "outputs": [
        {
          "output_type": "stream",
          "name": "stdout",
          "text": [
            "Hello, my name is Alice and I am 25 years old.\n",
            "Hello, my name is Bob and I am 30 years old.\n",
            "Happy Birthday, Alice! You are now 26 years old.\n",
            "Happy Birthday, Bob! You are now 31 years old.\n"
          ]
        }
      ],
      "source": [
        "class Person:\n",
        "    def __init__(self, name, age):\n",
        "        self.name = name\n",
        "        self.age = age\n",
        "\n",
        "    def introduce(self):\n",
        "        print(f\"Hello, my name is {self.name} and I am {self.age} years old.\")\n",
        "\n",
        "    def celebrate_birthday(self):\n",
        "        self.age += 1\n",
        "        print(f\"Happy Birthday, {self.name}! You are now {self.age} years old.\")\n",
        "\n",
        "# Creating instances of the Person class\n",
        "person1 = Person(\"Alice\", 25)\n",
        "person2 = Person(\"Bob\", 30)\n",
        "\n",
        "# Calling methods on the instances\n",
        "person1.introduce()\n",
        "person2.introduce()\n",
        "\n",
        "person1.celebrate_birthday()\n",
        "person2.celebrate_birthday()\n"
      ]
    },
    {
      "cell_type": "code",
      "source": [
        "# classes, objects\n",
        "\n",
        "class Maths:\n",
        "\n",
        "  def subtract(self, i, j): # self is default argument or default paramter of the function used to refer the object of the class\n",
        "      return i - j\n",
        "\n",
        "  def add(self, i, j):\n",
        "      return i + j\n",
        "\n",
        "# create an object\n",
        "\n",
        "m = Maths()\n",
        "print(m.subtract(10, 5))\n",
        "print(m.add(10, 5))"
      ],
      "metadata": {
        "colab": {
          "base_uri": "https://localhost:8080/"
        },
        "id": "fDTST4TxcOaY",
        "outputId": "1d4c02da-4b63-4023-8865-3258804b12a0"
      },
      "execution_count": 11,
      "outputs": [
        {
          "output_type": "stream",
          "name": "stdout",
          "text": [
            "5\n",
            "15\n"
          ]
        }
      ]
    },
    {
      "cell_type": "code",
      "source": [
        "# call function inside the class\n",
        "\n",
        "class Maths:\n",
        "\n",
        "  def subtract(self, i, j):\n",
        "    return (i - j)\n",
        "\n",
        "  def testsub(self):\n",
        "    print(self.subtract(7, 6))\n",
        "\n",
        "my_instance = Maths()\n",
        "my_instance.testsub()"
      ],
      "metadata": {
        "colab": {
          "base_uri": "https://localhost:8080/"
        },
        "id": "3RqdRmH3en34",
        "outputId": "c64f77be-4083-49c6-b201-76a875d0052a"
      },
      "execution_count": 16,
      "outputs": [
        {
          "output_type": "stream",
          "name": "stdout",
          "text": [
            "1\n"
          ]
        }
      ]
    },
    {
      "cell_type": "code",
      "source": [
        "# constructer -> default function created inside the class, and gets activated whenever an object of the same class is created\n",
        "# __init__()\n",
        "\n",
        "class student:\n",
        "\n",
        "  def __init__(self, s):\n",
        "    self.name = s\n",
        "\n",
        "  def hello(self):\n",
        "    print(\"Hello %s\" %self.name)\n",
        "\n",
        "t = student(\"Arun\") # initialize the constructer\n",
        "t.hello()"
      ],
      "metadata": {
        "colab": {
          "base_uri": "https://localhost:8080/"
        },
        "id": "ASgbikcphOmn",
        "outputId": "d661605a-1c00-4c88-f36d-8744d3b9bf53"
      },
      "execution_count": 18,
      "outputs": [
        {
          "output_type": "stream",
          "name": "stdout",
          "text": [
            "Hello Arun\n"
          ]
        }
      ]
    },
    {
      "cell_type": "code",
      "source": [
        "# area of rectangle\n",
        "\n",
        "class rectangle :\n",
        "\n",
        "  def __init__(self,l, b):\n",
        "\n",
        "    self.l = l\n",
        "    self.b = b\n",
        "\n",
        "\n",
        "  def area(self):\n",
        "    return self.l * self.b\n",
        "\n",
        "\n",
        "r = rectangle(10, 8)\n",
        "print(r.area())\n"
      ],
      "metadata": {
        "colab": {
          "base_uri": "https://localhost:8080/"
        },
        "id": "7Er3VUu4iOlk",
        "outputId": "aad9aecc-8b9f-4443-bc48-5dda606d9726"
      },
      "execution_count": 20,
      "outputs": [
        {
          "output_type": "stream",
          "name": "stdout",
          "text": [
            "80\n"
          ]
        }
      ]
    },
    {
      "cell_type": "code",
      "source": [
        "# area and perimetere of the circle\n",
        "\n",
        "import math\n",
        "class circle:\n",
        "\n",
        "  def __init__(self, r):\n",
        "    self.r = r\n",
        "\n",
        "  def area(self):\n",
        "    return(math.pi * self.r * self.r)\n",
        "\n",
        "  def perimeter(self):\n",
        "    return(2 * math.pi * self.r)\n",
        "\n",
        "radius = circle(8)\n",
        "\n",
        "print(\"Perimeter of circle is:\", radius.perimeter())\n",
        "print(\"Area of circle is:\", radius.area())"
      ],
      "metadata": {
        "colab": {
          "base_uri": "https://localhost:8080/"
        },
        "id": "5w_KQGXMi6tT",
        "outputId": "208272f5-b38b-4dcb-f860-eb831fc9d7aa"
      },
      "execution_count": 23,
      "outputs": [
        {
          "output_type": "stream",
          "name": "stdout",
          "text": [
            "Perimeter of circle is: 50.26548245743669\n",
            "Area of circle is: 201.06192982974676\n"
          ]
        }
      ]
    },
    {
      "cell_type": "code",
      "source": [
        "# inheritance -> parent and child class\n",
        "\n",
        "class shape:\n",
        "  ------------------\n",
        "\n",
        "class rectangle(shape):\n",
        "  ------------------"
      ],
      "metadata": {
        "id": "uEduDh0T3XAY"
      },
      "execution_count": null,
      "outputs": []
    },
    {
      "cell_type": "code",
      "source": [
        "# create vehicle class and it has max_speed and mileage of the vehicle\n",
        "\n",
        "class vehicle:\n",
        "\n",
        "  def __init__(self, max_speed, mileage):\n",
        "\n",
        "    self.speed = max_speed\n",
        "    self.mileage = mileage\n",
        "\n",
        "model_X = vehicle(125, 45)\n",
        "\n",
        "print(\"Maximum speed:\", model_X.speed)\n",
        "print(\"Mileage:\", model_X.mileage)\n",
        "\n",
        ""
      ],
      "metadata": {
        "colab": {
          "base_uri": "https://localhost:8080/"
        },
        "id": "B_LF6mYb3o1l",
        "outputId": "dec9b81f-903b-456e-8cd2-cce2d4b8452c"
      },
      "execution_count": 25,
      "outputs": [
        {
          "output_type": "stream",
          "name": "stdout",
          "text": [
            "Maximum speed: 125\n",
            "Mileage: 45\n"
          ]
        }
      ]
    },
    {
      "cell_type": "code",
      "source": [
        "# create a vehicle class without any varibale or methods\n",
        "\n",
        "class vehicle:\n",
        "  pass # no variables or methods defined just inherit"
      ],
      "metadata": {
        "id": "W322ktuP4aZe"
      },
      "execution_count": null,
      "outputs": []
    },
    {
      "cell_type": "code",
      "source": [
        "# Method Overriding\n",
        "\n",
        "#parent class\n",
        "class counter :\n",
        "\n",
        "  def __init__(self):\n",
        "    self.value = 0\n",
        "\n",
        "  def increment(self):\n",
        "    self.value += 1\n",
        "\n",
        "# child class\n",
        "\n",
        "class custom_counter(counter):\n",
        "\n",
        "  def __init__(self, size):\n",
        "    # calling parent class constructer from the child class constructer\n",
        "    counter.__init__(self) # initialize the self.value to 0\n",
        "    self.stepsize = size\n",
        "\n",
        "  def increment(self): # this function will override the parent class increment function ie; method overridiing\n",
        "    self.value = self.stepsize + 1\n",
        "    return self.value\n",
        "\n",
        "# obejct of custom_counter\n",
        "\n",
        "# cc = custom_counter(4)\n",
        "\n",
        "for i in range(11):\n",
        "  cc = custom_counter(i)\n",
        "  print(cc.increment(), end = \" \")\n",
        "\n"
      ],
      "metadata": {
        "colab": {
          "base_uri": "https://localhost:8080/"
        },
        "id": "pInErmG84on-",
        "outputId": "276d8ad0-e7aa-4774-9e41-e26a0e53f41e"
      },
      "execution_count": 34,
      "outputs": [
        {
          "output_type": "stream",
          "name": "stdout",
          "text": [
            "1 2 3 4 5 6 7 8 9 10 11 "
          ]
        }
      ]
    },
    {
      "cell_type": "code",
      "source": [
        "# Inheritance for the vehicle class\n",
        "\n",
        "class vehicle :\n",
        "\n",
        "  def __init__(self, name, max_speed, mileage):\n",
        "    self.name = name\n",
        "    self.max_speed = max_speed\n",
        "    self.mileage = mileage\n",
        "\n",
        "class car(vehicle):\n",
        "  pass\n",
        "\n",
        "my_car = car(\"BMW\", \"300km/hr\", \"30km/ltr\")\n",
        "\n",
        "print(\"Vehicle name:\", my_car.name)\n",
        "print(\"Maximum Speed:\", my_car.max_speed)\n",
        "print(\"Mileage:\", my_car.mileage)\n",
        "\n"
      ],
      "metadata": {
        "colab": {
          "base_uri": "https://localhost:8080/"
        },
        "id": "AUcuoMBM700e",
        "outputId": "8bc36741-7345-49c9-c0d8-f74474bf7da3"
      },
      "execution_count": 37,
      "outputs": [
        {
          "output_type": "stream",
          "name": "stdout",
          "text": [
            "Vehicle name: BMW\n",
            "Maximum Speed: 300km/hr\n",
            "Mileage: 30km/ltr\n"
          ]
        }
      ]
    },
    {
      "cell_type": "code",
      "source": [],
      "metadata": {
        "id": "lS3Vy4IQ44VX"
      },
      "execution_count": null,
      "outputs": []
    }
  ]
}