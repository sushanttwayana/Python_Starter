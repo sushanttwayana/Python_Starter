{
  "nbformat": 4,
  "nbformat_minor": 0,
  "metadata": {
    "colab": {
      "provenance": [],
      "authorship_tag": "ABX9TyMQOuq8+GVN7inIwczL3301",
      "include_colab_link": true
    },
    "kernelspec": {
      "name": "python3",
      "display_name": "Python 3"
    },
    "language_info": {
      "name": "python"
    }
  },
  "cells": [
    {
      "cell_type": "markdown",
      "metadata": {
        "id": "view-in-github",
        "colab_type": "text"
      },
      "source": [
        "<a href=\"https://colab.research.google.com/github/sushanttwayana/Python_Starter/blob/main/Python_Day6_1(Working_with_lists_and_strings).ipynb\" target=\"_parent\"><img src=\"https://colab.research.google.com/assets/colab-badge.svg\" alt=\"Open In Colab\"/></a>"
      ]
    },
    {
      "cell_type": "code",
      "execution_count": 2,
      "metadata": {
        "colab": {
          "base_uri": "https://localhost:8080/"
        },
        "id": "9Kxcv7n_WvDW",
        "outputId": "acadf869-c50f-464b-c778-9ac06fb93bde"
      },
      "outputs": [
        {
          "output_type": "stream",
          "name": "stdout",
          "text": [
            "[1, 2, 3, 4, 5, 6]\n",
            "[1, 2, 3, 1, 2, 3, 1, 2, 3, 1, 2, 3, 1, 2, 3]\n"
          ]
        }
      ],
      "source": [
        "#working with operator on lists\n",
        "\n",
        "# + operator\n",
        "L1 = [1, 2, 3]\n",
        "L2 = [4, 5, 6]\n",
        "L3 =  L1 + L2\n",
        "\n",
        "print(L3)\n",
        "\n",
        "# * operator\n",
        "\n",
        "L4 = L1 * 5 # repeat 5 times\n",
        "print(L4)\n"
      ]
    },
    {
      "cell_type": "code",
      "source": [
        "#list methods\n",
        "\n",
        "list1 = [10, 20, 30, 40, 50]\n",
        "\n",
        "print(list1.reverse())\n",
        "\n",
        "list1.append(60)\n",
        "print(list1)\n",
        "\n",
        "list2 = []\n",
        "list3 = []\n",
        "y = 0\n",
        "\n",
        "for i in range(5):\n",
        "  x = int(input(\"Enter the elements:\"))\n",
        "  y += 10\n",
        "  list3.append(y)\n",
        "  list2.append(x)\n",
        "\n",
        "print(\"List content 2 is \", list2)\n",
        "print(\"List content 3 is \", list3)"
      ],
      "metadata": {
        "colab": {
          "base_uri": "https://localhost:8080/"
        },
        "id": "2OIeuf-cXZ-y",
        "outputId": "1cdc6ef6-f171-4b2c-ec49-3ba858aa775c"
      },
      "execution_count": 13,
      "outputs": [
        {
          "output_type": "stream",
          "name": "stdout",
          "text": [
            "None\n",
            "[50, 40, 30, 20, 10, 60]\n",
            "Enter the elements:1\n",
            "Enter the elements:2\n",
            "Enter the elements:3\n",
            "Enter the elements:4\n",
            "Enter the elements:5\n",
            "List content 2 is  [1, 2, 3, 4, 5]\n",
            "List content 3 is  [10, 20, 30, 40, 50]\n"
          ]
        }
      ]
    },
    {
      "cell_type": "code",
      "source": [
        "#clear and count\n",
        "\n",
        "list =[10, 11, 12, 13, 14, 10, 12, 10, 15]\n",
        "\n",
        "x = 10\n",
        "y = list.count(x)\n",
        "\n",
        "print(\"No of occurences of 10 is:\", y)\n",
        "\n",
        "list.clear()\n",
        "print(list)"
      ],
      "metadata": {
        "colab": {
          "base_uri": "https://localhost:8080/"
        },
        "id": "3emUTYDkZigw",
        "outputId": "f3042033-56ce-4f61-e46d-b318ed0033a3"
      },
      "execution_count": 17,
      "outputs": [
        {
          "output_type": "stream",
          "name": "stdout",
          "text": [
            "No of occurences of 10 is: 3\n",
            "[]\n"
          ]
        }
      ]
    },
    {
      "cell_type": "code",
      "source": [
        "# extend -> add two list\n",
        "\n",
        "L1 = [1, 2, 3]\n",
        "L2 = [4, 5, 6]\n",
        "\n",
        "L1.extend(L2)\n",
        "print(L1)\n",
        "print(L2)\n",
        "\n",
        "x = 6\n",
        "print(L1.index(x))"
      ],
      "metadata": {
        "colab": {
          "base_uri": "https://localhost:8080/"
        },
        "id": "AHx-84PYaioE",
        "outputId": "f4395101-98bd-483f-da9f-bc790bbd936a"
      },
      "execution_count": 21,
      "outputs": [
        {
          "output_type": "stream",
          "name": "stdout",
          "text": [
            "[1, 2, 3, 4, 5, 6]\n",
            "[4, 5, 6]\n",
            "5\n"
          ]
        }
      ]
    },
    {
      "cell_type": "code",
      "source": [
        "#insert, pop, remove, sort\n",
        "\n",
        "l1 = [1, 2, 3, 4, 5]\n",
        "index = 2\n",
        "x = 0\n",
        "\n",
        "l1.insert(index, x)\n",
        "print(l1)\n",
        "\n",
        "x1 = l1.pop()\n",
        "print(x1)\n",
        "\n",
        "print(l1)\n",
        "\n",
        "l1.remove(x)\n",
        "print(l1)"
      ],
      "metadata": {
        "colab": {
          "base_uri": "https://localhost:8080/"
        },
        "id": "7mzDIDcGbH78",
        "outputId": "98426f19-2e74-49cb-966f-311c311afaa8"
      },
      "execution_count": 26,
      "outputs": [
        {
          "output_type": "stream",
          "name": "stdout",
          "text": [
            "[1, 2, 0, 3, 4, 5]\n",
            "5\n",
            "[1, 2, 0, 3, 4]\n",
            "[1, 2, 3, 4]\n"
          ]
        }
      ]
    },
    {
      "cell_type": "code",
      "source": [
        "l1 = [50, 40, 30, 20, 10]\n",
        "\n",
        "l1.sort()\n",
        "print(l1)\n",
        "\n",
        "l1.sort(reverse = True)\n",
        "print(l1)"
      ],
      "metadata": {
        "colab": {
          "base_uri": "https://localhost:8080/"
        },
        "id": "rip-Fp8Y_NQk",
        "outputId": "6d43cfd0-85e3-4892-9e9f-f9b92cafe78f"
      },
      "execution_count": 28,
      "outputs": [
        {
          "output_type": "stream",
          "name": "stdout",
          "text": [
            "[10, 20, 30, 40, 50]\n",
            "[50, 40, 30, 20, 10]\n"
          ]
        }
      ]
    },
    {
      "cell_type": "code",
      "source": [
        "# maximunm and minimum value\n",
        "\n",
        "list = [41, 21, 31, 11, 71, 61, 11, 81]\n",
        "\n",
        "min_l = max_l = list[0]\n",
        "\n",
        "for item in list:\n",
        "\n",
        "  if item < min_l:\n",
        "    min_l = item\n",
        "\n",
        "  if item > max_l:\n",
        "    max_l = item\n",
        "\n",
        "print(\"The minimimum number in the list is:\", min_l)\n",
        "print(\"The minimimum number in the list is:\", min(list))\n",
        "\n",
        "#directly using max and min\n",
        "print(\"The maxmimum number in the list is\", max_l)\n",
        "print(\"The maxmimum number in the list is\", max(list))\n"
      ],
      "metadata": {
        "colab": {
          "base_uri": "https://localhost:8080/"
        },
        "id": "5eibrcA1_bQe",
        "outputId": "158f586e-987b-4033-fb03-9f29dc26b021"
      },
      "execution_count": 30,
      "outputs": [
        {
          "output_type": "stream",
          "name": "stdout",
          "text": [
            "The minimimum number in the list is: 11\n",
            "The minimimum number in the list is: 11\n",
            "The maxmimum number in the list is 81\n",
            "The maxmimum number in the list is 81\n"
          ]
        }
      ]
    },
    {
      "cell_type": "code",
      "source": [
        "# list comprehension -> \"create a list of x for each y in z\"\n",
        "\n",
        "squares = [x**2 for x in range(11)]\n",
        "print(squares)\n",
        "\n",
        "even_square = [x**2 for x in range(11) if x % 2 ==0]\n",
        "print(even_square)"
      ],
      "metadata": {
        "colab": {
          "base_uri": "https://localhost:8080/"
        },
        "id": "mfwy61b7BO95",
        "outputId": "89970579-501d-4342-a894-6eac78c10288"
      },
      "execution_count": 33,
      "outputs": [
        {
          "output_type": "stream",
          "name": "stdout",
          "text": [
            "[0, 1, 4, 9, 16, 25, 36, 49, 64, 81, 100]\n",
            "[0, 4, 16, 36, 64, 100]\n"
          ]
        }
      ]
    },
    {
      "cell_type": "code",
      "source": [
        "# STRINGS\n",
        "\n",
        "maya = \"Sumina\"\n",
        "index = 0\n",
        "\n",
        "for i in maya:\n",
        "  print(\"maya[\",index,\"]:\", i)\n",
        "  index += 1\n",
        ""
      ],
      "metadata": {
        "colab": {
          "base_uri": "https://localhost:8080/"
        },
        "id": "sGjDRHA5B_c4",
        "outputId": "05de628e-5bc5-4aa7-91c7-ed410c519d97"
      },
      "execution_count": 35,
      "outputs": [
        {
          "output_type": "stream",
          "name": "stdout",
          "text": [
            "maya[ 0 ]: S\n",
            "maya[ 1 ]: u\n",
            "maya[ 2 ]: m\n",
            "maya[ 3 ]: i\n",
            "maya[ 4 ]: n\n",
            "maya[ 5 ]: a\n"
          ]
        }
      ]
    },
    {
      "cell_type": "code",
      "source": [
        "str1 = \"Hello, Welcome to \"\n",
        "str2 = \"Python!\"\n",
        "i = -1\n",
        "j = 2\n",
        "\n",
        "print(str1[i])\n",
        "print(str1[j * 3 + 1])\n",
        "\n",
        "str3 = str1 + str2\n",
        "# str1 += str2\n",
        "print(\"The concanated string is:\",str3)\n",
        "\n",
        "print(str2 * 3, end = \" \")\n",
        "var = 3.11\n",
        "\n",
        "print(str1 + str2 + str(var))"
      ],
      "metadata": {
        "colab": {
          "base_uri": "https://localhost:8080/"
        },
        "id": "8YAWFqiRDfBI",
        "outputId": "5fabc200-6ae3-4943-e477-77814e339589"
      },
      "execution_count": 46,
      "outputs": [
        {
          "output_type": "stream",
          "name": "stdout",
          "text": [
            " \n",
            "W\n",
            "The concanated string is: Hello, Welcome to Python!\n",
            "Python!Python!Python! Hello, Welcome to Python!3.11\n"
          ]
        }
      ]
    },
    {
      "cell_type": "code",
      "source": [
        "#Built in functions in strings\n",
        "\n",
        "str1 = \"Hello123\"\n",
        "str2 = \"hello 123\" # space is not a number or an alphabet\n",
        "str3 =  \"456\"\n",
        "\n",
        "print(len(str1))\n",
        "\n",
        "#isalnum() -> return true if all of the element of the string is a number or alphabet\n",
        "print(str1.isalnum())\n",
        "print(str2.isalnum())\n",
        "\n",
        "#isalpha() -> all the characters must be alphabet then returns true\n",
        "\n",
        "print(str1.isalpha())\n",
        "\n",
        "#isdigit -> returns true if string contains only digits\n",
        "print(str1.isdigit())\n",
        "print(str3.isdigit())\n",
        "\n",
        "#islower -> every character must be lower case then returns true\n",
        "print(\"lower\",str1.islower())\n",
        "print(\"lower\", str2.islower())\n",
        "\n",
        "#is upper -> every character must be upper\n",
        "print(\"upper\",str1.isupper())\n",
        "\n"
      ],
      "metadata": {
        "colab": {
          "base_uri": "https://localhost:8080/"
        },
        "id": "D8JCDKTEE_zo",
        "outputId": "9eb18bbf-3d76-4cd4-b7cb-ea1318505673"
      },
      "execution_count": 63,
      "outputs": [
        {
          "output_type": "stream",
          "name": "stdout",
          "text": [
            "8\n",
            "True\n",
            "False\n",
            "False\n",
            "False\n",
            "True\n",
            "lower False\n",
            "lower True\n",
            "upper False\n"
          ]
        }
      ]
    },
    {
      "cell_type": "code",
      "source": [
        "# isspace() -> if string contains whitespace only\n",
        "\n",
        "str0 = \"Sumina Awa\"\n",
        "str1 = \"                          \"\n",
        "print(str0.isspace())\n",
        "print(str1.isspace())"
      ],
      "metadata": {
        "colab": {
          "base_uri": "https://localhost:8080/"
        },
        "id": "oZ1jlFJBIDag",
        "outputId": "7fd903c3-7b59-4b3e-dee1-09255ae4b7bd"
      },
      "execution_count": 65,
      "outputs": [
        {
          "output_type": "stream",
          "name": "stdout",
          "text": [
            "False\n",
            "True\n"
          ]
        }
      ]
    },
    {
      "cell_type": "code",
      "source": [
        "#capitalize -> converts the first string into capital letter\n",
        "\n",
        "str0 = \"sumina awa\"\n",
        "print(str0.capitalize())\n",
        "\n",
        "print(str0.upper())\n",
        "print(str0.lower())\n",
        "\n",
        "str1 = \" HEllO   \"\n",
        "#strip -> removes all the whitespaces which are leading and trailing whitespaces\n",
        "\n",
        "print(str1)\n",
        "print(str1.lstrip())\n",
        "print(str1.rstrip())\n",
        "print(str1.strip())\n"
      ],
      "metadata": {
        "colab": {
          "base_uri": "https://localhost:8080/"
        },
        "id": "GWVEULWTIdUv",
        "outputId": "f7a72347-f12a-4135-fe73-3f644652320d"
      },
      "execution_count": 71,
      "outputs": [
        {
          "output_type": "stream",
          "name": "stdout",
          "text": [
            "Sumina awa\n",
            "SUMINA AWA\n",
            "sumina awa\n",
            " HEllO   \n",
            "HEllO   \n",
            " HEllO\n",
            "HEllO\n"
          ]
        }
      ]
    },
    {
      "cell_type": "code",
      "source": [
        "#ID of the string -> memory address of the string\n",
        "\n",
        "a= 10\n",
        "print(\"Value of a:\", a)\n",
        "print(\"Adress of a: \",id(a))\n",
        "\n",
        "b = 10\n",
        "print(\"Value of b:\", b)\n",
        "print(\"Adress of b: \",id(b))\n"
      ],
      "metadata": {
        "colab": {
          "base_uri": "https://localhost:8080/"
        },
        "id": "I-1OFsfCJqlJ",
        "outputId": "e22e44c2-dd44-40ea-963d-ae3c746b8270"
      },
      "execution_count": 73,
      "outputs": [
        {
          "output_type": "stream",
          "name": "stdout",
          "text": [
            "Value of a: 10\n",
            "Adress of a:  135736106926608\n",
            "Value of b: 10\n",
            "Adress of b:  135736106926608\n"
          ]
        }
      ]
    },
    {
      "cell_type": "code",
      "source": [
        "str1 = \"Sumina Awa\"\n",
        "str1.lower()\n",
        "print(\"ID of str1 is:\", id(str1))\n",
        "\n",
        "str2 = \"Sumina Awa\"\n",
        "str2.lower()\n",
        "print(\"ID of str2 is:\", id(str2))\n",
        "\n",
        "if id(str1) == id(str2) :\n",
        "  print(\"Both the strings are same.\")\n",
        "\n",
        "else :\n",
        "  print(\"The strings are different\")"
      ],
      "metadata": {
        "colab": {
          "base_uri": "https://localhost:8080/"
        },
        "id": "ldAYIRmeKXUh",
        "outputId": "fb765f0f-a4b3-4c36-8978-4b3fa9550837"
      },
      "execution_count": 84,
      "outputs": [
        {
          "output_type": "stream",
          "name": "stdout",
          "text": [
            "ID of str1 is: 135734833822512\n",
            "ID of str2 is: 135734833813424\n",
            "The strings are different\n"
          ]
        }
      ]
    },
    {
      "cell_type": "code",
      "source": [],
      "metadata": {
        "id": "pQJ2lnG7G5S-"
      },
      "execution_count": null,
      "outputs": []
    },
    {
      "cell_type": "code",
      "source": [],
      "metadata": {
        "id": "v7Cjp6kh-_CK"
      },
      "execution_count": null,
      "outputs": []
    }
  ]
}