{
  "nbformat": 4,
  "nbformat_minor": 0,
  "metadata": {
    "colab": {
      "provenance": [],
      "authorship_tag": "ABX9TyPaor9V+F9NrhaYT/hkA1BR",
      "include_colab_link": true
    },
    "kernelspec": {
      "name": "python3",
      "display_name": "Python 3"
    },
    "language_info": {
      "name": "python"
    }
  },
  "cells": [
    {
      "cell_type": "markdown",
      "metadata": {
        "id": "view-in-github",
        "colab_type": "text"
      },
      "source": [
        "<a href=\"https://colab.research.google.com/github/sushanttwayana/Python_Starter/blob/main/Python_Day8(File_Handling).ipynb\" target=\"_parent\"><img src=\"https://colab.research.google.com/assets/colab-badge.svg\" alt=\"Open In Colab\"/></a>"
      ]
    },
    {
      "cell_type": "code",
      "execution_count": null,
      "metadata": {
        "id": "SVGRFixMV7xn",
        "outputId": "7dbbc24d-fab5-4903-d663-ca3c88eb22f8",
        "colab": {
          "base_uri": "https://localhost:8080/"
        }
      },
      "outputs": [
        {
          "output_type": "stream",
          "name": "stdout",
          "text": [
            "Input file not found.\n"
          ]
        }
      ],
      "source": [
        "# Function to calculate the sum and average of numbers in a list\n",
        "def calculate_sum_and_average(numbers):\n",
        "    total = sum(numbers)\n",
        "    average = total / len(numbers)\n",
        "    return total, average\n",
        "\n",
        "# Input file name\n",
        "input_file_name = \"input_numbers.txt\"\n",
        "# Output file name\n",
        "output_file_name = \"output_result.txt\"\n",
        "\n",
        "try:\n",
        "    # Open the input file for reading\n",
        "    with open(input_file_name, 'r') as input_file:\n",
        "        # Read the numbers from the input file and store them in a list\n",
        "        numbers = [float(line.strip()) for line in input_file]\n",
        "\n",
        "    # Calculate the sum and average of the numbers\n",
        "    total, average = calculate_sum_and_average(numbers)\n",
        "\n",
        "    # Open the output file for writing\n",
        "    with open(output_file_name, 'w') as output_file:\n",
        "        # Write the results to the output file\n",
        "        output_file.write(f\"Total: {total}\\n\")\n",
        "        output_file.write(f\"Average: {average}\\n\")\n",
        "\n",
        "    print(\"Results have been written to\", output_file_name)\n",
        "\n",
        "except FileNotFoundError:\n",
        "    print(\"Input file not found.\")\n",
        "except Exception as e:\n",
        "    print(\"An error occurred:\", str(e))\n"
      ]
    },
    {
      "cell_type": "code",
      "source": [
        "file = open(\"File1.txt\",\"w\")\n",
        "file.write(\"Hello Everyone\")\n",
        "file.close()\n",
        "print(\"Data are witten into the file\")"
      ],
      "metadata": {
        "colab": {
          "base_uri": "https://localhost:8080/"
        },
        "id": "rIJmbXLyd2Lb",
        "outputId": "26530cf1-76be-4d00-99e3-47b787f88a4a"
      },
      "execution_count": null,
      "outputs": [
        {
          "output_type": "stream",
          "name": "stdout",
          "text": [
            "Data are witten into the file\n"
          ]
        }
      ]
    },
    {
      "cell_type": "code",
      "source": [
        "# writing list of string in the flie\n",
        "\n",
        "file = open(\"File1.txt\",\"w\")\n",
        "lines = [\"Hello\\t \", \"Weclome to Python Programming \", \"Enjoy Learning\"]\n",
        "\n",
        "file.writelines(lines)\n",
        "file.close()\n",
        "print(\"Sucess\")"
      ],
      "metadata": {
        "colab": {
          "base_uri": "https://localhost:8080/"
        },
        "id": "ZS20tdrMewKq",
        "outputId": "cb98fc97-f7ea-425e-a26f-44b55162e6c5"
      },
      "execution_count": null,
      "outputs": [
        {
          "output_type": "stream",
          "name": "stdout",
          "text": [
            "Sucess\n"
          ]
        }
      ]
    },
    {
      "cell_type": "code",
      "source": [
        "# append\n",
        "\n",
        "\n",
        "file = open(\"File1.txt\",\"a\")\n",
        "file.write(\"\\nPython is a very powerful language.\")\n",
        "file.close()\n",
        "print(\"Sucess\")"
      ],
      "metadata": {
        "colab": {
          "base_uri": "https://localhost:8080/"
        },
        "id": "7MT1qqm5f1H6",
        "outputId": "3c01a38a-67bd-4700-b1bd-4783890c4a40"
      },
      "execution_count": null,
      "outputs": [
        {
          "output_type": "stream",
          "name": "stdout",
          "text": [
            "Sucess\n"
          ]
        }
      ]
    },
    {
      "cell_type": "code",
      "source": [
        "# read\n",
        "# fileObj.read([count])\n",
        "\n",
        "file = open(\"File1.txt\",\"r\")\n",
        "print(file.read(13))\n",
        "file.close()\n",
        "\n"
      ],
      "metadata": {
        "colab": {
          "base_uri": "https://localhost:8080/"
        },
        "id": "gA5vfneWgOws",
        "outputId": "261ec925-c2c4-4854-cc6b-8a75502307c0"
      },
      "execution_count": null,
      "outputs": [
        {
          "output_type": "stream",
          "name": "stdout",
          "text": [
            "Hello Weclome\n"
          ]
        }
      ]
    },
    {
      "cell_type": "code",
      "source": [
        "# print line by line\n",
        "file = open(\"File2.txt\",\"w\")\n",
        "lines = [\"Hello\\t \", \"Weclome to Python Programming \", \"Enjoy Learning\"]\n",
        "\n",
        "file.writelines(lines)\n",
        "file.close()\n",
        "print(\"Sucess\")\n",
        "\n"
      ],
      "metadata": {
        "colab": {
          "base_uri": "https://localhost:8080/"
        },
        "id": "thtJ4eLEgvH0",
        "outputId": "f7dce967-ce94-4b22-a85e-23a1ce1d1825"
      },
      "execution_count": null,
      "outputs": [
        {
          "output_type": "stream",
          "name": "stdout",
          "text": [
            "Sucess\n",
            "first line: Hello\t Weclome to Python Programming Enjoy Learning\n",
            "second line: \n",
            "third line: \n"
          ]
        }
      ]
    },
    {
      "cell_type": "code",
      "source": [
        "file1 = open(\"File2.txt\", \"r\")\n",
        "#file.readline()\n",
        "print(file1.readlines())\n",
        "\n",
        "#list(fileObj)\n",
        "print(list(file1))\n",
        "\n",
        "file1.close()"
      ],
      "metadata": {
        "colab": {
          "base_uri": "https://localhost:8080/"
        },
        "id": "Zw_FoV0Kh_U1",
        "outputId": "d0c1e9ee-a5a0-4ac3-dc07-12d536a28876"
      },
      "execution_count": null,
      "outputs": [
        {
          "output_type": "stream",
          "name": "stdout",
          "text": [
            "['Hello\\t\\n', 'Weclome to Python \\n', 'Programming \\n', 'Enjoy Learning']\n",
            "[]\n"
          ]
        }
      ]
    },
    {
      "cell_type": "code",
      "source": [
        "file2 = open(\"File2.txt\")\n",
        "\n",
        "for line in file2 :\n",
        "  print(line)\n",
        "\n",
        "file2.close()"
      ],
      "metadata": {
        "colab": {
          "base_uri": "https://localhost:8080/"
        },
        "id": "czvlZ69QlTCV",
        "outputId": "97d69bc3-f8b8-4abd-fbde-dc4253ca0a8a"
      },
      "execution_count": null,
      "outputs": [
        {
          "output_type": "stream",
          "name": "stdout",
          "text": [
            "Hello\t\n",
            "\n",
            "Weclome to Python \n",
            "\n",
            "Programming \n",
            "\n",
            "Enjoy Learning\n"
          ]
        }
      ]
    },
    {
      "cell_type": "code",
      "source": [
        "# rename(old_filename, new_filename)\n",
        "\n",
        "import os #file related operations\n",
        "\n",
        "os.rename(\"n\",\"new_file.txt\")\n",
        "print(\"File is renamed\")\n"
      ],
      "metadata": {
        "colab": {
          "base_uri": "https://localhost:8080/"
        },
        "id": "kC4tkYUGl0BJ",
        "outputId": "7b6f1679-a61d-4d3c-cb26-f2d4644e06da"
      },
      "execution_count": null,
      "outputs": [
        {
          "output_type": "stream",
          "name": "stdout",
          "text": [
            "File is renamed\n"
          ]
        }
      ]
    },
    {
      "cell_type": "code",
      "source": [
        "#remove(filename)\n",
        "\n",
        "import os\n",
        "file = open(\"File3.txt\", \"w\")\n",
        "os.remove(\"File3.txt\")\n",
        "print(\"File Deleted\")"
      ],
      "metadata": {
        "colab": {
          "base_uri": "https://localhost:8080/"
        },
        "id": "nPT922AQmpzi",
        "outputId": "32283445-97b9-407d-c6ac-7be8587ba9a8"
      },
      "execution_count": null,
      "outputs": [
        {
          "output_type": "stream",
          "name": "stdout",
          "text": [
            "File Deleted\n"
          ]
        }
      ]
    },
    {
      "cell_type": "code",
      "source": [
        "# open file using keyword\n",
        "\n",
        "with open(\"File1.txt\", \"r\") as file:\n",
        "  print(file.read())\n",
        "\n",
        "file.close()"
      ],
      "metadata": {
        "colab": {
          "base_uri": "https://localhost:8080/"
        },
        "id": "zbdKzVnsnAZe",
        "outputId": "61fb975a-1a74-4926-d4b7-825ec7a7c32e"
      },
      "execution_count": null,
      "outputs": [
        {
          "output_type": "stream",
          "name": "stdout",
          "text": [
            "Hello Weclome to Python Programming Enjoy Learning\n",
            "Python is a very powerful language.\n"
          ]
        }
      ]
    },
    {
      "cell_type": "code",
      "source": [
        "#splitting words\n",
        "\n",
        "with open(\"File1.txt\", \"r\") as file:\n",
        "  line = file.readline()\n",
        "  words = line.split('\\n') # can be split using , or . or space or other distinguishable charcters\n",
        "  print(words)\n",
        "\n"
      ],
      "metadata": {
        "colab": {
          "base_uri": "https://localhost:8080/"
        },
        "id": "ZJsUmCPinijQ",
        "outputId": "983dc40b-e778-4560-ea55-4d041a6289ee"
      },
      "execution_count": null,
      "outputs": [
        {
          "output_type": "stream",
          "name": "stdout",
          "text": [
            "['Hello Weclome to Python Programming Enjoy Learning', '']\n"
          ]
        }
      ]
    },
    {
      "cell_type": "code",
      "source": [
        "#splitting words\n",
        "\n",
        "with open(\"File1.txt\", \"r\") as file:\n",
        "  line = file.readline()\n",
        "  words = line.split()\n",
        "  print(words)\n",
        "\n",
        "file.close()"
      ],
      "metadata": {
        "colab": {
          "base_uri": "https://localhost:8080/"
        },
        "outputId": "7a83dfc4-085c-4287-a346-d26eae98ba08",
        "id": "Tp4Cpuzfnlvd"
      },
      "execution_count": null,
      "outputs": [
        {
          "output_type": "stream",
          "name": "stdout",
          "text": [
            "['Hello', 'Weclome', 'to', 'Python', 'Programming', 'Enjoy', 'Learning']\n"
          ]
        }
      ]
    },
    {
      "cell_type": "code",
      "source": [
        "# program the accepts the filename as an input from the user & count the number of characters occured in the file\n",
        "\n",
        "filename = input(\"Enter the filename:\")\n",
        "\n",
        "with open(filename) as file:\n",
        "  text = file.read()\n",
        "  letter = input(\"Input the charcter to be searched:\")\n",
        "  count  = 1\n",
        "\n",
        "  for char in text :\n",
        "    if char == letter:\n",
        "      count += 1\n",
        "\n",
        "print(\"The number of charcter %c occured  in the file is %d \" %(letter, count))"
      ],
      "metadata": {
        "colab": {
          "base_uri": "https://localhost:8080/"
        },
        "id": "zH8l4A-8oxI2",
        "outputId": "38a81133-6fe0-4e1d-a0c3-e31688604eff"
      },
      "execution_count": null,
      "outputs": [
        {
          "output_type": "stream",
          "name": "stdout",
          "text": [
            "Enter the filename:File1.txt\n",
            "Input the charcter to be searched:a\n",
            "The number of charcter a occured  in the file is 6 \n"
          ]
        }
      ]
    },
    {
      "cell_type": "code",
      "source": [
        "# program to copy first 10 bytes of the file into another file\n",
        "\n",
        "with open(\"File1.txt\",\"rb\") as file1:\n",
        "  with open(\"file3.txt\", \"wb\") as file3:\n",
        "     buf = file1.read(30)\n",
        "     file3.write(buf)\n",
        "\n",
        "print(\"File Copied\")"
      ],
      "metadata": {
        "colab": {
          "base_uri": "https://localhost:8080/"
        },
        "id": "4qt6Yas2qOVW",
        "outputId": "f3deff82-82c0-4d4e-c344-02e500382ee9"
      },
      "execution_count": 47,
      "outputs": [
        {
          "output_type": "stream",
          "name": "stdout",
          "text": [
            "File Copied\n"
          ]
        }
      ]
    }
  ]
}