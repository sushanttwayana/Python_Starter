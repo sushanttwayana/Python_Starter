{
  "nbformat": 4,
  "nbformat_minor": 0,
  "metadata": {
    "colab": {
      "provenance": [],
      "authorship_tag": "ABX9TyOYwKvkIrIUzrVBRZNYLYV7",
      "include_colab_link": true
    },
    "kernelspec": {
      "name": "python3",
      "display_name": "Python 3"
    },
    "language_info": {
      "name": "python"
    }
  },
  "cells": [
    {
      "cell_type": "markdown",
      "metadata": {
        "id": "view-in-github",
        "colab_type": "text"
      },
      "source": [
        "<a href=\"https://colab.research.google.com/github/sushanttwayana/Python_Starter/blob/main/Python_Day8(File_Handling).ipynb\" target=\"_parent\"><img src=\"https://colab.research.google.com/assets/colab-badge.svg\" alt=\"Open In Colab\"/></a>"
      ]
    },
    {
      "cell_type": "code",
      "execution_count": 1,
      "metadata": {
        "id": "SVGRFixMV7xn",
        "colab": {
          "base_uri": "https://localhost:8080/"
        },
        "outputId": "7dbbc24d-fab5-4903-d663-ca3c88eb22f8"
      },
      "outputs": [
        {
          "output_type": "stream",
          "name": "stdout",
          "text": [
            "Input file not found.\n"
          ]
        }
      ],
      "source": [
        "# Function to calculate the sum and average of numbers in a list\n",
        "def calculate_sum_and_average(numbers):\n",
        "    total = sum(numbers)\n",
        "    average = total / len(numbers)\n",
        "    return total, average\n",
        "\n",
        "# Input file name\n",
        "input_file_name = \"input_numbers.txt\"\n",
        "# Output file name\n",
        "output_file_name = \"output_result.txt\"\n",
        "\n",
        "try:\n",
        "    # Open the input file for reading\n",
        "    with open(input_file_name, 'r') as input_file:\n",
        "        # Read the numbers from the input file and store them in a list\n",
        "        numbers = [float(line.strip()) for line in input_file]\n",
        "\n",
        "    # Calculate the sum and average of the numbers\n",
        "    total, average = calculate_sum_and_average(numbers)\n",
        "\n",
        "    # Open the output file for writing\n",
        "    with open(output_file_name, 'w') as output_file:\n",
        "        # Write the results to the output file\n",
        "        output_file.write(f\"Total: {total}\\n\")\n",
        "        output_file.write(f\"Average: {average}\\n\")\n",
        "\n",
        "    print(\"Results have been written to\", output_file_name)\n",
        "\n",
        "except FileNotFoundError:\n",
        "    print(\"Input file not found.\")\n",
        "except Exception as e:\n",
        "    print(\"An error occurred:\", str(e))\n"
      ]
    }
  ]
}