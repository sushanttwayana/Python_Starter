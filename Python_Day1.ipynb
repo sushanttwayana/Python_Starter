{
  "nbformat": 4,
  "nbformat_minor": 0,
  "metadata": {
    "colab": {
      "provenance": [],
      "authorship_tag": "ABX9TyNt5aLz/mC+axZKG+T1fhg+",
      "include_colab_link": true
    },
    "kernelspec": {
      "name": "python3",
      "display_name": "Python 3"
    },
    "language_info": {
      "name": "python"
    }
  },
  "cells": [
    {
      "cell_type": "markdown",
      "metadata": {
        "id": "view-in-github",
        "colab_type": "text"
      },
      "source": [
        "<a href=\"https://colab.research.google.com/github/sushanttwayana/Python_Starter/blob/main/Python_Day1.ipynb\" target=\"_parent\"><img src=\"https://colab.research.google.com/assets/colab-badge.svg\" alt=\"Open In Colab\"/></a>"
      ]
    },
    {
      "cell_type": "code",
      "execution_count": 1,
      "metadata": {
        "colab": {
          "base_uri": "https://localhost:8080/"
        },
        "id": "ZZP0DpMTqGS0",
        "outputId": "3593a289-e0d9-46ad-acca-cb49b26afef4"
      },
      "outputs": [
        {
          "output_type": "stream",
          "name": "stdout",
          "text": [
            "Sum =  20\n"
          ]
        }
      ],
      "source": [
        "a = b = 10\n",
        "print(\"Sum = \",(a+b))"
      ]
    },
    {
      "cell_type": "code",
      "source": [
        "m = 3\n",
        "c = 2\n",
        "E = m * c ** 2 # this represents the power\n",
        "print(\"The value of E is\", E)\n"
      ],
      "metadata": {
        "colab": {
          "base_uri": "https://localhost:8080/"
        },
        "id": "QiCdm0VxqTGh",
        "outputId": "fd1ed3ba-0b02-4892-bf30-68116b465615"
      },
      "execution_count": 2,
      "outputs": [
        {
          "output_type": "stream",
          "name": "stdout",
          "text": [
            "The value of E is 12\n"
          ]
        }
      ]
    },
    {
      "cell_type": "code",
      "source": [
        "a = 10\n",
        "b = 5\n",
        "print(a//b) # for the integer value operation i.e. we wont get the floating point value floor operation"
      ],
      "metadata": {
        "colab": {
          "base_uri": "https://localhost:8080/"
        },
        "id": "Mre6cO3Os-vW",
        "outputId": "089ec39e-dca1-49e5-e9a1-1820f5754a02"
      },
      "execution_count": 4,
      "outputs": [
        {
          "output_type": "stream",
          "name": "stdout",
          "text": [
            "2\n"
          ]
        }
      ]
    },
    {
      "cell_type": "code",
      "source": [
        "a = int(input(\"Enter first number:\"))\n",
        "b = int(input(\"Enter second number:\"))\n",
        "avg = (a + b)/2\n",
        "print(\"Average = \", avg)"
      ],
      "metadata": {
        "colab": {
          "base_uri": "https://localhost:8080/"
        },
        "id": "9dQPo8YKtOUq",
        "outputId": "491b55ea-92d3-4171-8007-ef559bb358e0"
      },
      "execution_count": 5,
      "outputs": [
        {
          "output_type": "stream",
          "name": "stdout",
          "text": [
            "Enter first number:5\n",
            "Enter second number:5\n",
            "Average =  5.0\n"
          ]
        }
      ]
    },
    {
      "cell_type": "code",
      "source": [
        " #Python code to find the circumference and area of a circle with a given radius\n",
        "\n",
        "radius = float(input(\"Enter the radius: \"))\n",
        "area = 3.1415 * radius *radius\n",
        "circumference = 2 * 3.1415 * radius\n",
        "print(\"Area of the circle is :\", area)\n",
        "print(\"Circumference of the circle is:\", circumference)"
      ],
      "metadata": {
        "colab": {
          "base_uri": "https://localhost:8080/"
        },
        "id": "NmNzfSVquF8A",
        "outputId": "becab919-fee7-4285-e283-a0bfaa9c3dda"
      },
      "execution_count": 52,
      "outputs": [
        {
          "output_type": "stream",
          "name": "stdout",
          "text": [
            "Enter the radius: 4\n",
            "Area of the circle is : 50.264\n",
            "Circumference of the circle is: 25.132\n"
          ]
        }
      ]
    },
    {
      "cell_type": "code",
      "source": [
        "#program to add two functions\n",
        "def add(x, y):\n",
        "  print(\"Sum:\", (x+y))\n",
        "\n",
        "def message():\n",
        "  print(\"Welcome to Python Programming\")\n",
        "\n",
        "add(10,10)\n",
        "message()\n"
      ],
      "metadata": {
        "colab": {
          "base_uri": "https://localhost:8080/"
        },
        "id": "OoqfED5pxRsJ",
        "outputId": "7e31894e-992b-4e2c-c716-6b6e0ada33b7"
      },
      "execution_count": 8,
      "outputs": [
        {
          "output_type": "stream",
          "name": "stdout",
          "text": [
            "Sum: 20\n",
            "Welcome to Python Programming\n"
          ]
        }
      ]
    },
    {
      "cell_type": "code",
      "source": [
        "#int datatype\n",
        "a = -57\n",
        "\n",
        "#float datatype\n",
        "num = 55.67867\n",
        "x = 22.55e3 # 22.55 * 10^3\n",
        "print(x)\n",
        "\n",
        "#complex datatype\n",
        "c1 = -1 - 5.5j\n"
      ],
      "metadata": {
        "colab": {
          "base_uri": "https://localhost:8080/"
        },
        "id": "6omDBUpmz2Ah",
        "outputId": "1df0c644-ba99-48c5-dad2-06cfac8d0b60"
      },
      "execution_count": 9,
      "outputs": [
        {
          "output_type": "stream",
          "name": "stdout",
          "text": [
            "22550.0\n"
          ]
        }
      ]
    },
    {
      "cell_type": "code",
      "source": [
        "# program to add two complex numbers\n",
        "c1 = 2.5 + 2.5j\n",
        "c2 = 3.0 - 0.5j\n",
        "c3 = c1 + c2\n",
        "print(\"Sum= \",c3)"
      ],
      "metadata": {
        "colab": {
          "base_uri": "https://localhost:8080/"
        },
        "id": "m0JByikW0apU",
        "outputId": "e7359260-39ea-4d85-a306-5e1331f6f7cf"
      },
      "execution_count": 10,
      "outputs": [
        {
          "output_type": "stream",
          "name": "stdout",
          "text": [
            "Sum=  (5.5+2j)\n"
          ]
        }
      ]
    },
    {
      "cell_type": "code",
      "source": [
        "#Converting the datatypes explicitly\n",
        "\n",
        "x = 15.56\n",
        "print(int(x))\n",
        "\n",
        "num = 15\n",
        "print(float(num))\n",
        "\n",
        "print(True + True) # True is 1 and false is 0\n",
        "print(True - False)\n"
      ],
      "metadata": {
        "colab": {
          "base_uri": "https://localhost:8080/"
        },
        "id": "t3eWaYHY0w6X",
        "outputId": "fb2c18c5-d5f8-4ea7-d6f5-e89343ab59d1"
      },
      "execution_count": 11,
      "outputs": [
        {
          "output_type": "stream",
          "name": "stdout",
          "text": [
            "15\n",
            "15.0\n",
            "2\n",
            "1\n"
          ]
        }
      ]
    },
    {
      "cell_type": "code",
      "source": [
        "# str represents string datatype\n",
        "\n",
        "str = \"This is a first 'Python' Programming\"\n",
        "print(str)\n",
        "\n",
        "s = \"Welcome to Python Programming\"\n",
        "print(s[0])\n",
        "print(s[3:7]) # displays from 3rd to 6th characters\n",
        "print(s[11:]) # displays from the 11th character onwards till end\n",
        "print(s[-1]) # displays the first character from the end\n",
        "print(s * 2)"
      ],
      "metadata": {
        "colab": {
          "base_uri": "https://localhost:8080/"
        },
        "id": "Io42UoUR1WaD",
        "outputId": "e3ede709-c36b-4ecc-e588-eff89e0193c1"
      },
      "execution_count": 14,
      "outputs": [
        {
          "output_type": "stream",
          "name": "stdout",
          "text": [
            "This is a first 'Python' Programming\n",
            "W\n",
            "come\n",
            "Python Programming\n",
            "g\n",
            "Welcome to Python ProgrammingWelcome to Python Programming\n"
          ]
        }
      ]
    },
    {
      "cell_type": "code",
      "source": [
        "#byte datatype -> can only store non negative values from 0 to 256\n",
        "\n",
        "#create a list of byte numbers\n",
        "elements = [10,20,30,40,50]\n",
        "\n",
        "#convert the list into bytes array\n",
        "x = bytes(elements)\n",
        "#print(x[0])\n",
        "\n",
        "# convert the list into bytearray type array\n",
        "y = bytearray(elements)\n",
        "\n",
        "#modify the first element of y\n",
        "y[0] = 0\n",
        "\n",
        "#retrive the elements from x using for loop and display\n",
        "for i in y :\n",
        "  print(i)"
      ],
      "metadata": {
        "colab": {
          "base_uri": "https://localhost:8080/"
        },
        "id": "ZCwYJacQ2x74",
        "outputId": "35db1d17-177c-4363-c6c5-69c97df1b957"
      },
      "execution_count": 20,
      "outputs": [
        {
          "output_type": "stream",
          "name": "stdout",
          "text": [
            "0\n",
            "20\n",
            "30\n",
            "40\n",
            "50\n"
          ]
        }
      ]
    },
    {
      "cell_type": "code",
      "source": [
        "#list -> represents the groups of elements and we can store any datatypes\n",
        "\n",
        "list = [10, -20, 15.5, 'Vijay', \"Bibek\"]\n",
        "print(list[4])\n",
        "print(list[-3])\n",
        "list[0] = 0\n",
        "print(list[0])"
      ],
      "metadata": {
        "colab": {
          "base_uri": "https://localhost:8080/"
        },
        "id": "KKDcbmDr4r51",
        "outputId": "02cd9a7f-b801-47d8-dae7-65d6f6b4799d"
      },
      "execution_count": 25,
      "outputs": [
        {
          "output_type": "stream",
          "name": "stdout",
          "text": [
            "Bibek\n",
            "15.5\n",
            "0\n"
          ]
        }
      ]
    },
    {
      "cell_type": "code",
      "source": [
        "#range datatype -> represents the sequence of numbers\n",
        "\n",
        "r = range(10)\n",
        "for i in r:\n",
        "  print(i)\n",
        "\n",
        "r1 = range(30, 40, 2) # 30 to 40 with step size 2\n",
        "\n",
        "for i in r1 :\n",
        "  print(i)\n",
        "\n"
      ],
      "metadata": {
        "colab": {
          "base_uri": "https://localhost:8080/"
        },
        "id": "eagsxW843AkS",
        "outputId": "e0b19335-eff8-4334-99da-565033a1bfb7"
      },
      "execution_count": 27,
      "outputs": [
        {
          "output_type": "stream",
          "name": "stdout",
          "text": [
            "0\n",
            "1\n",
            "2\n",
            "3\n",
            "4\n",
            "5\n",
            "6\n",
            "7\n",
            "8\n",
            "9\n",
            "30\n",
            "32\n",
            "34\n",
            "36\n",
            "38\n"
          ]
        }
      ]
    },
    {
      "cell_type": "code",
      "source": [
        "# set -> unordered collection of elements and doesn't store duplicate values\n",
        "\n",
        "s = {10, 20, 30, 40, 50}\n",
        "display(s)\n",
        "\n",
        "ch = set(\"Hello\")\n",
        "print(ch) # doesn't store 2nd l only 1 l is stord and displayed\n",
        "\n",
        "lst = [1,2,3,4,5]\n",
        "s1 = set(lst)\n",
        "display(s1)\n",
        "\n",
        "s1.update([40, 50]) # add elements\n",
        "display(s1)\n",
        "\n",
        "s1.remove(40)\n",
        "print(s1)\n",
        "\n"
      ],
      "metadata": {
        "colab": {
          "base_uri": "https://localhost:8080/",
          "height": 104
        },
        "id": "6ozch1kc6HSI",
        "outputId": "a3e9e4b0-e602-4a72-ab87-dd43a6b049d8"
      },
      "execution_count": 36,
      "outputs": [
        {
          "output_type": "display_data",
          "data": {
            "text/plain": [
              "{10, 20, 30, 40, 50}"
            ]
          },
          "metadata": {}
        },
        {
          "output_type": "stream",
          "name": "stdout",
          "text": [
            "{'o', 'H', 'l', 'e'}\n"
          ]
        },
        {
          "output_type": "display_data",
          "data": {
            "text/plain": [
              "{1, 2, 3, 4, 5}"
            ]
          },
          "metadata": {}
        },
        {
          "output_type": "display_data",
          "data": {
            "text/plain": [
              "{1, 2, 3, 4, 5, 40, 50}"
            ]
          },
          "metadata": {}
        },
        {
          "output_type": "stream",
          "name": "stdout",
          "text": [
            "{1, 2, 3, 4, 5, 50}\n"
          ]
        }
      ]
    },
    {
      "cell_type": "code",
      "source": [
        "# Mapping values -> we can retrive the values associated with key value pairs\n",
        "# Similar to the dictonary\n",
        "\n",
        "d = {10 : 'Kamal', 11: 'Vijay', 12: 'Hira', 13:'Zeena'}\n",
        "print(d)\n",
        "d[14] = 'Sushant'\n",
        "print(d)\n"
      ],
      "metadata": {
        "colab": {
          "base_uri": "https://localhost:8080/"
        },
        "id": "ibOTBUnUOFZ1",
        "outputId": "c96efd1e-fd14-4346-b5d2-cf0ad3f5130a"
      },
      "execution_count": 38,
      "outputs": [
        {
          "output_type": "stream",
          "name": "stdout",
          "text": [
            "{10: 'Kamal', 11: 'Vijay', 12: 'Hira', 13: 'Zeena'}\n",
            "{10: 'Kamal', 11: 'Vijay', 12: 'Hira', 13: 'Zeena', 14: 'Sushant'}\n"
          ]
        }
      ]
    },
    {
      "cell_type": "code",
      "source": [
        "# Escape characters and type of the variable\n",
        "# Generally constants are declared in Python using all capital letters like MAX_VALUE but this value can be modified or changed i.e. constansts cannot be\n",
        "# declared generally in Python\n",
        "\n",
        "str =\"This is the first line and \\\n",
        "this is the continuation of the first line\"\n",
        "print(str)\n",
        "\n",
        "str1 = \"This is Python\\n\\\"and this is the new line\\\"\"\n",
        "print(str1)\n",
        "\n",
        "a = 100.15\n",
        "print(type(str))\n",
        "print(type(a))"
      ],
      "metadata": {
        "colab": {
          "base_uri": "https://localhost:8080/"
        },
        "id": "9iphG25-PpUE",
        "outputId": "cd399f1d-415d-4309-9008-b5c45ea280a1"
      },
      "execution_count": 43,
      "outputs": [
        {
          "output_type": "stream",
          "name": "stdout",
          "text": [
            "This is the first line and this is the continuation of the first line\n",
            "This is Python\n",
            "\"and this is the new line\"\n",
            "<class 'str'>\n",
            "<class 'float'>\n"
          ]
        }
      ]
    },
    {
      "cell_type": "code",
      "source": [
        "# Finding the area of the triangle\n",
        "\n",
        "a = float(input(\"Enter the first side of the triangle:\"))\n",
        "b = float(input(\"Enter the second side of the triangle:\"))\n",
        "c = float(input(\"Enter the third side of the triangle:\"))\n",
        "\n",
        "s = (a + b + c)/2\n",
        "area = (s * (s-a) * (s-b) * (s-c) ) ** 0.5\n",
        "print(\"The area of the traingle is :\", area)"
      ],
      "metadata": {
        "colab": {
          "base_uri": "https://localhost:8080/"
        },
        "id": "7bDEUwfrRMwc",
        "outputId": "89ed65a2-13e0-48c9-823d-ad6c098f9719"
      },
      "execution_count": 46,
      "outputs": [
        {
          "output_type": "stream",
          "name": "stdout",
          "text": [
            "Enter the first side of the triangle:10\n",
            "Enter the second side of the triangle:4\n",
            "Enter the third side of the triangle:8\n",
            "The area of the traingle is : 15.198684153570664\n"
          ]
        }
      ]
    },
    {
      "cell_type": "code",
      "source": [
        "# Degree to Farhenheit\n",
        "\n",
        "def cel_to_farhen(celsius) :\n",
        "  farhen = (celsius * 9/5) + 32\n",
        "  return farhen\n",
        "\n",
        "celsius = float(input(\"Enter the temperature in Celsius: \"))\n",
        "\n",
        "f = cel_to_farhen(celsius)\n",
        "print(f\"{celsius} degree is equal to {f} degree Farhenheit\")"
      ],
      "metadata": {
        "colab": {
          "base_uri": "https://localhost:8080/"
        },
        "id": "Ln-rkWxMT_xM",
        "outputId": "d25a6fe4-1ba2-4d39-e892-81cf95d1bbd8"
      },
      "execution_count": 51,
      "outputs": [
        {
          "output_type": "stream",
          "name": "stdout",
          "text": [
            "Enter the temperature in Celsius: 37\n",
            "37.0 degree is equal to 98.6 degree\n"
          ]
        }
      ]
    },
    {
      "cell_type": "code",
      "source": [
        " # Bitwise Operators\n",
        " x = 10\n",
        " print(~x)\n",
        "\n",
        " a = 10\n",
        " b = 11\n",
        " print((a & b))\n",
        " print((a | b))\n",
        " print((a ^ b))"
      ],
      "metadata": {
        "colab": {
          "base_uri": "https://localhost:8080/"
        },
        "id": "w6Y9v_brViDG",
        "outputId": "104142ae-9f01-46e1-e2cd-4cf8785b9817"
      },
      "execution_count": 56,
      "outputs": [
        {
          "output_type": "stream",
          "name": "stdout",
          "text": [
            "-11\n",
            "10\n",
            "11\n",
            "1\n"
          ]
        }
      ]
    },
    {
      "cell_type": "code",
      "source": [
        "# not in operators\n",
        "\n",
        "names = [\"Rani\", \"Yamini\", \"Kamini\", 'Veena']\n",
        "\n",
        "for name in names :\n",
        "   print(name)\n",
        "\n",
        "a1 = 25\n",
        "b1 = 25\n",
        "\n",
        "if ( a1 is b1):\n",
        "  print(\"a1 and b1 have same identity\")\n",
        "\n",
        "else:\n",
        "  print(\"different identity\")"
      ],
      "metadata": {
        "colab": {
          "base_uri": "https://localhost:8080/"
        },
        "id": "BGQItBIafqrn",
        "outputId": "a4d39337-c69f-4840-b67e-c6e705c13621"
      },
      "execution_count": 63,
      "outputs": [
        {
          "output_type": "stream",
          "name": "stdout",
          "text": [
            "Rani\n",
            "Yamini\n",
            "Kamini\n",
            "Veena\n",
            "a1 and b1 have same identity\n"
          ]
        }
      ]
    },
    {
      "cell_type": "code",
      "source": [
        "import math as m\n",
        "from math import factorial,pi\n",
        "#x = math.sqrt(16)\n",
        "x = m.sqrt(16)\n",
        "print(x)\n",
        "\n",
        "y = factorial(5)\n",
        "print(y)\n",
        "\n",
        "r = 2\n",
        "area = pi * r * r\n",
        "print(area)"
      ],
      "metadata": {
        "colab": {
          "base_uri": "https://localhost:8080/"
        },
        "id": "HHWWug7Fhjne",
        "outputId": "13bb0172-3315-4d6f-bb6a-571c7bdb8beb"
      },
      "execution_count": 70,
      "outputs": [
        {
          "output_type": "stream",
          "name": "stdout",
          "text": [
            "4.0\n",
            "120\n",
            "12.566370614359172\n"
          ]
        }
      ]
    },
    {
      "cell_type": "code",
      "source": [
        "# Eligible for voting or not\n",
        "\n",
        "age = int(input(\"Enter your age:\"))\n",
        "\n",
        "if (age >= 18) :\n",
        "  print(\"Eligible for voting\")\n",
        "\n",
        "else :\n",
        "  print(\"Not eligibile for voting\")\n",
        "\n",
        "print(f\"Your age is {age}.\")"
      ],
      "metadata": {
        "colab": {
          "base_uri": "https://localhost:8080/"
        },
        "id": "7pQ54W0LiuO-",
        "outputId": "759f91d2-1d47-48b3-b57e-9931adc340ca"
      },
      "execution_count": 72,
      "outputs": [
        {
          "output_type": "stream",
          "name": "stdout",
          "text": [
            "Enter your age:10\n",
            "Not eligibile for voting\n",
            "Your age is 10.\n"
          ]
        }
      ]
    },
    {
      "cell_type": "code",
      "source": [
        "# Check whether the entered character is aplhabet or digit\n",
        "\n",
        "ch = input(\"Enter any character: \")\n",
        "\n",
        "if( ch.isalpha()):\n",
        "  print(\"The given character is alphabet.\")\n",
        "elif( ch.isdigit()):\n",
        "  print(\"The character is digit\")\n",
        "if(ch.isspace()) :\n",
        "  print(\"The character is space\")"
      ],
      "metadata": {
        "colab": {
          "base_uri": "https://localhost:8080/"
        },
        "id": "KQXEferikEqf",
        "outputId": "948435eb-5b9b-4c8f-f1f3-c7c516f8f884"
      },
      "execution_count": 76,
      "outputs": [
        {
          "output_type": "stream",
          "name": "stdout",
          "text": [
            "Enter any character:  \n",
            "The character is space\n"
          ]
        }
      ]
    },
    {
      "cell_type": "code",
      "source": [
        "# vowel or not\n",
        "\n",
        "ch = input(\"Enter a character: \")\n",
        "\n",
        "if(ch == \"a\" or ch == \"e\" or ch == \"i\" or ch == \"o\" or ch == \"u\" or ch == \"A\" or ch == \"O\" or ch == \"I\" or ch == \"O\" or ch == \"U\") :\n",
        "  print(\"The given character is vowel\")\n",
        "\n",
        "else :\n",
        "  print(\"the character is consonant\")"
      ],
      "metadata": {
        "colab": {
          "base_uri": "https://localhost:8080/"
        },
        "id": "OcExRcNAlNA3",
        "outputId": "922f9e05-6061-4d8f-985f-9abf32285117"
      },
      "execution_count": 78,
      "outputs": [
        {
          "output_type": "stream",
          "name": "stdout",
          "text": [
            "Enter a character: w\n",
            "the character is consonant\n"
          ]
        }
      ]
    },
    {
      "cell_type": "code",
      "source": [
        "# character or not\n",
        "ch = input(\"Enter a character: \")\n",
        "\n",
        "if( (ch >= 'a' and ch <= 'z' ) or (ch >= 'A' and ch <= 'Z')):\n",
        "  print(\"The given character is a alphabet\")\n",
        "\n",
        "else:\n",
        "  print(\"Not alphabet\")"
      ],
      "metadata": {
        "colab": {
          "base_uri": "https://localhost:8080/"
        },
        "id": "Qh0QTlrtmHhu",
        "outputId": "a32fb22a-a1ee-4f54-b700-b989ce18d0c5"
      },
      "execution_count": 81,
      "outputs": [
        {
          "output_type": "stream",
          "name": "stdout",
          "text": [
            "Enter a character: 122\n",
            "Not alphabet\n"
          ]
        }
      ]
    },
    {
      "cell_type": "code",
      "source": [
        "# Leap year\n",
        "year = int(input(\"Enter a year: \"))\n",
        "\n",
        "if( year %4 == 0 and year % 100 != 0) or (year % 400 == 0):\n",
        "  print(\"Its a leap year\")\n",
        "\n",
        "else :\n",
        "  print(\"Not leap year\")"
      ],
      "metadata": {
        "colab": {
          "base_uri": "https://localhost:8080/"
        },
        "id": "2jYQtna0nOUn",
        "outputId": "b9f7d1fe-55f6-4849-821a-0dfc01238a13"
      },
      "execution_count": 87,
      "outputs": [
        {
          "output_type": "stream",
          "name": "stdout",
          "text": [
            "Enter a year: 2024\n",
            "Its a leap year\n"
          ]
        }
      ]
    },
    {
      "cell_type": "code",
      "source": [
        "# Biggest number between two numbers using nested if statement\n",
        "\n",
        "a = int(input(\"Enter the 1st value: \"))\n",
        "b = int(input(\"Enter the 2nd value: \"))\n",
        "\n",
        "if( a!= b) :\n",
        "  if( a > b):\n",
        "    print(a,\"is largest\")\n",
        "\n",
        "  else :\n",
        "    print(b,\"is largest\")\n",
        "\n",
        "else :\n",
        "  print(\"Both values are equal\")"
      ],
      "metadata": {
        "colab": {
          "base_uri": "https://localhost:8080/"
        },
        "id": "BBRkxEp9o1vY",
        "outputId": "2e46f98d-b7a2-460b-e901-5b5c75ce9eaa"
      },
      "execution_count": 90,
      "outputs": [
        {
          "output_type": "stream",
          "name": "stdout",
          "text": [
            "Enter the 1st value: 100\n",
            "Enter the 2nd value: 100\n",
            "Both values are equal\n"
          ]
        }
      ]
    },
    {
      "cell_type": "code",
      "source": [],
      "metadata": {
        "id": "q3tIxCIdkaOC"
      },
      "execution_count": null,
      "outputs": []
    }
  ]
}