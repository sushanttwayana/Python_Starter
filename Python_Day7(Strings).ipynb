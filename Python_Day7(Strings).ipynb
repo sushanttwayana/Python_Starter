{
  "nbformat": 4,
  "nbformat_minor": 0,
  "metadata": {
    "colab": {
      "provenance": [],
      "authorship_tag": "ABX9TyOyEsr4tIN+VwbmYkONrgti",
      "include_colab_link": true
    },
    "kernelspec": {
      "name": "python3",
      "display_name": "Python 3"
    },
    "language_info": {
      "name": "python"
    }
  },
  "cells": [
    {
      "cell_type": "markdown",
      "metadata": {
        "id": "view-in-github",
        "colab_type": "text"
      },
      "source": [
        "<a href=\"https://colab.research.google.com/github/sushanttwayana/Python_Starter/blob/main/Python_Day7(Strings).ipynb\" target=\"_parent\"><img src=\"https://colab.research.google.com/assets/colab-badge.svg\" alt=\"Open In Colab\"/></a>"
      ]
    },
    {
      "cell_type": "code",
      "execution_count": 8,
      "metadata": {
        "id": "1BN_iB0AYR_2",
        "colab": {
          "base_uri": "https://localhost:8080/"
        },
        "outputId": "b5b59adc-cfe0-4797-a886-07a16b0ad600"
      },
      "outputs": [
        {
          "output_type": "stream",
          "name": "stdout",
          "text": [
            "Name : Aarush and Age: 8\n",
            "Name: Shreyans  and Age:9\n"
          ]
        }
      ],
      "source": [
        "#formating strings\n",
        "# %c -> formating charcters\n",
        "# %d or %i -> signed decimal integers\n",
        "# %s -> strings\n",
        "# %u -> Unsigned decimal integers\n",
        "# %o -> Octal integer\n",
        "# %h or %H -> Hexadecimal\n",
        "# %e or %E -> Exponential notation\n",
        "# %f -> floating point notation\n",
        "# %g or %G -> Short numbers in floating point or exponential\n",
        "\n",
        "name = \"Aarush\"\n",
        "age = 8\n",
        "\n",
        "print(\"Name : %s and Age: %d\" %(name, age))\n",
        "print(\"Name: %s  and Age:%d\" %(\"Shreyans\",9))"
      ]
    },
    {
      "cell_type": "code",
      "source": [
        "i = 1\n",
        "j = 2\n",
        "\n",
        "print(\"i = %d\\t j = %d\" %(i,j))\n",
        "\n",
        "ch = 'S'\n",
        "i = 55\n",
        "f = 5.5555\n",
        "str1 = 'Hello'\n",
        "print(\"ch = %c, i = %i, str1 = %s, f = %f \" %(ch,i, str1, f))"
      ],
      "metadata": {
        "colab": {
          "base_uri": "https://localhost:8080/"
        },
        "id": "Acx9y6EmT2wS",
        "outputId": "996ef5ec-203e-4205-ee82-5b8062a069c4"
      },
      "execution_count": 11,
      "outputs": [
        {
          "output_type": "stream",
          "name": "stdout",
          "text": [
            "i = 1\t j = 2\n",
            "ch = S, i = 55, str1 = Hello, f = 5.555500 \n"
          ]
        }
      ]
    },
    {
      "cell_type": "code",
      "source": [
        "# reverse a string\n",
        "\n",
        "def reverse_str(str):\n",
        "  new_str = \"\"\n",
        "  i = len(str) - 1\n",
        "\n",
        "  while i >= 0 :\n",
        "    new_str += str[i]\n",
        "    i -= 1\n",
        "\n",
        "  return new_str\n",
        "\n",
        "str =  input(\"Enter a string:\")\n",
        "print(\"The reverse of the input string is:\", reverse_str(str))"
      ],
      "metadata": {
        "colab": {
          "base_uri": "https://localhost:8080/"
        },
        "id": "KivXSAzHU0bg",
        "outputId": "f269acd0-d6c6-4595-ec30-0fe9a858052c"
      },
      "execution_count": 13,
      "outputs": [
        {
          "output_type": "stream",
          "name": "stdout",
          "text": [
            "Enter a string:sumina awa\n",
            "The reverse of the input string is: awa animus\n"
          ]
        }
      ]
    },
    {
      "cell_type": "code",
      "source": [
        "# palindrome\n",
        "\n",
        "def reverse_str(str):\n",
        "  new_str = \"\"\n",
        "  i = len(str) - 1\n",
        "\n",
        "  while i >= 0 :\n",
        "    new_str += str[i]\n",
        "    i -= 1\n",
        "\n",
        "  return new_str\n",
        "\n",
        "def palindrome(str, rev):\n",
        "\n",
        "  if str == rev:\n",
        "    return True\n",
        "\n",
        "  else :\n",
        "    return False\n",
        "\n",
        "rev = \"\"\n",
        "str =  input(\"Enter a string:\")\n",
        "rev = reverse_str(str)\n",
        "print(\"The reverse string is:\", rev)\n",
        "\n",
        "value = palindrome(str, rev)\n",
        "\n",
        "if value:\n",
        "  print(\"The given input string %s is palindrome!\" %(str))\n",
        "\n",
        "else :\n",
        "  print(\"The given input string %s isn't palindrome!\" %(str))\n"
      ],
      "metadata": {
        "colab": {
          "base_uri": "https://localhost:8080/"
        },
        "id": "FXQcbvJdWSJj",
        "outputId": "99ffaaa8-6bae-4d89-fdbf-8ddc43505b19"
      },
      "execution_count": 18,
      "outputs": [
        {
          "output_type": "stream",
          "name": "stdout",
          "text": [
            "Enter a string:mom\n",
            "The reverse string is: mom\n",
            "The given input string mom is palindrome!\n"
          ]
        }
      ]
    },
    {
      "cell_type": "code",
      "source": [
        "# swapping case in strings\n",
        "# swapcase -> swap upper case and lower case to each other\n",
        "\n",
        "txt = input(\"Enter a string:\")\n",
        "\n",
        "print(\"After conversion :\" + txt.swapcase())\n"
      ],
      "metadata": {
        "colab": {
          "base_uri": "https://localhost:8080/"
        },
        "id": "shdJA9LOX92p",
        "outputId": "e4af3bf7-e18c-4acd-c520-d71f2da9eeda"
      },
      "execution_count": 19,
      "outputs": [
        {
          "output_type": "stream",
          "name": "stdout",
          "text": [
            "Enter a string:Sumina Awa\n",
            "After conversion :sUMINA aWA\n"
          ]
        }
      ]
    },
    {
      "cell_type": "code",
      "source": [
        "#removing brackets from the expression\n",
        "\n",
        "def remove_brackets(str):\n",
        "  for i in str:\n",
        "    if i not in \"()\":\n",
        "      print(i,end='')\n",
        "\n",
        "str = input(\"Enter a string:\")\n",
        "remove_brackets(str)"
      ],
      "metadata": {
        "colab": {
          "base_uri": "https://localhost:8080/"
        },
        "id": "ixWWpTiNa9RL",
        "outputId": "6908e468-c4fe-4743-b004-ad525d416b39"
      },
      "execution_count": 20,
      "outputs": [
        {
          "output_type": "stream",
          "name": "stdout",
          "text": [
            "Enter a string:(a+b)-(c*d)\n",
            "a+b-c*d"
          ]
        }
      ]
    },
    {
      "cell_type": "code",
      "source": [
        "my_string = \"hello\"\n",
        "my_set = set(my_string)\n",
        "print(my_set)\n",
        "# The resulting set will contain unique characters: {'h', 'e', 'l', 'o'}"
      ],
      "metadata": {
        "colab": {
          "base_uri": "https://localhost:8080/"
        },
        "id": "8vwcZ94HcgfU",
        "outputId": "453943a3-cc30-494e-c1ff-8635074b88c8"
      },
      "execution_count": 22,
      "outputs": [
        {
          "output_type": "stream",
          "name": "stdout",
          "text": [
            "{'e', 'h', 'l', 'o'}\n"
          ]
        }
      ]
    },
    {
      "cell_type": "code",
      "source": [
        "set1 = set([1, 2, 3, 4])\n",
        "set2 = set([3, 4, 5, 6])\n",
        "\n",
        "# Union of sets\n",
        "union_set = set1.union(set2)  # {1, 2, 3, 4, 5, 6}\n",
        "\n",
        "# Intersection of sets\n",
        "intersection_set = set1.intersection(set2)  # {3, 4}\n",
        "\n",
        "# Difference between sets\n",
        "difference_set = set1.difference(set2)  # {1, 2}\n",
        "\n",
        "# Check if a set is a subset of another set\n",
        "is_subset = set1.issubset(set2)  # False\n",
        "\n",
        "print(\"UNION:\", union_set)\n",
        "print(\"INTERSECTION:\",intersection_set)\n",
        "print(\"DIFFERENCE:\",difference_set)\n",
        "print(\"ISSUBSET:\",is_subset)"
      ],
      "metadata": {
        "colab": {
          "base_uri": "https://localhost:8080/"
        },
        "id": "iVvrHIThcpqT",
        "outputId": "8cd64862-4d35-4573-983f-8b561b48d91d"
      },
      "execution_count": 24,
      "outputs": [
        {
          "output_type": "stream",
          "name": "stdout",
          "text": [
            "UNION: {1, 2, 3, 4, 5, 6}\n",
            "INTERSECTION: {3, 4}\n",
            "DIFFERENCE: {1, 2}\n",
            "ISSUBSET: False\n"
          ]
        }
      ]
    },
    {
      "cell_type": "code",
      "source": [
        "# Python program to Count the Number of matching characters in a pair of string.\n",
        "\n",
        "str1 = \"abcdefghi\"\n",
        "str2 = \"aeiou\"\n",
        "\n",
        "def count(str1, str2):\n",
        "  str_1 = set(str1)\n",
        "  str_2 = set(str2)\n",
        "  matched_char =\"\"\n",
        "\n",
        "  matched_char = str_1.intersection(str_2)\n",
        "  # matched_char = str_1 & str_2 # produces same result as the above\n",
        "  print(\"The number of matching charcaters in %s and %s are: %d\"%(str1, str2, len(matched_char)))\n",
        "\n",
        "count(str1, str2)"
      ],
      "metadata": {
        "colab": {
          "base_uri": "https://localhost:8080/"
        },
        "id": "ZVWgQGrfdj1d",
        "outputId": "8bf34c28-f975-4a39-e1a6-b514967bd92b"
      },
      "execution_count": 26,
      "outputs": [
        {
          "output_type": "stream",
          "name": "stdout",
          "text": [
            "The number of matching charcaters in abcdefghi and aeiou are: 3\n"
          ]
        }
      ]
    },
    {
      "cell_type": "code",
      "source": [
        "#Write a python program to Remove all duplicates from a given string.\n",
        "\n",
        "def remove_duplicates(str):\n",
        "\n",
        "  result = \"\"\n",
        "\n",
        "  for char in str:\n",
        "\n",
        "    if char not in result: # If the character is not already in the result string, add it\n",
        "        result += char\n",
        "\n",
        "  return result\n",
        "\n",
        "str = input(\"Enter an input string:\")\n",
        "print(\"The string after removing the duplicates characters is:\",remove_duplicates(str) )"
      ],
      "metadata": {
        "colab": {
          "base_uri": "https://localhost:8080/"
        },
        "id": "7g3AL8vhfhsm",
        "outputId": "72622fdf-658a-4e39-ef28-b3d953c545b6"
      },
      "execution_count": 29,
      "outputs": [
        {
          "output_type": "stream",
          "name": "stdout",
          "text": [
            "Enter an input string:I am in love with miss sumina awa\n",
            "The string after removing the duplicates characters is: I aminlovewthsu\n"
          ]
        }
      ]
    },
    {
      "cell_type": "code",
      "source": [],
      "metadata": {
        "id": "GerzXAxmf1pJ"
      },
      "execution_count": null,
      "outputs": []
    }
  ]
}