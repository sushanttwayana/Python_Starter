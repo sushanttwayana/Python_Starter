{
  "nbformat": 4,
  "nbformat_minor": 0,
  "metadata": {
    "colab": {
      "provenance": [],
      "authorship_tag": "ABX9TyPth/0ro9F4jIQUb0RpBb2a",
      "include_colab_link": true
    },
    "kernelspec": {
      "name": "python3",
      "display_name": "Python 3"
    },
    "language_info": {
      "name": "python"
    }
  },
  "cells": [
    {
      "cell_type": "markdown",
      "metadata": {
        "id": "view-in-github",
        "colab_type": "text"
      },
      "source": [
        "<a href=\"https://colab.research.google.com/github/sushanttwayana/Python_Starter/blob/main/Python_Day2.ipynb\" target=\"_parent\"><img src=\"https://colab.research.google.com/assets/colab-badge.svg\" alt=\"Open In Colab\"/></a>"
      ]
    },
    {
      "cell_type": "code",
      "execution_count": 8,
      "metadata": {
        "colab": {
          "base_uri": "https://localhost:8080/"
        },
        "id": "VW1Y0X-wYCOs",
        "outputId": "2d98ba67-f2a5-4a09-c974-4f2b6e7669aa"
      },
      "outputs": [
        {
          "output_type": "stream",
          "name": "stdout",
          "text": [
            "2 4\n",
            "2,4\n",
            "2:4\n",
            "Hello Dear! \t How are you? "
          ]
        }
      ],
      "source": [
        "#print()\n",
        "\n",
        "a, b = 2, 4\n",
        "print(a,b)\n",
        "print(a, b, sep=\",\")\n",
        "print(a, b, sep=\":\")\n",
        "\n",
        "print('Hello', end=' ')\n",
        "print(\"Dear\", end='! \\t ')\n",
        "print(\"How are you?\", end =' ')"
      ]
    },
    {
      "cell_type": "code",
      "source": [
        "#print(object)\n",
        "\n",
        "d = {'Momo' : 100, 'Chowmein' : 80, 'Coffee' : 40.00}\n",
        "print(d)\n",
        "\n",
        "#print(\"string, variables list\")\n",
        "a = 100\n",
        "print('You typed', a ,'as an input')\n",
        "\n",
        "#print(formatted string)\n",
        "x = 10\n",
        "print('value = %i' % x)\n",
        "\n",
        "x, y = 10, 15\n",
        "print('x = %i y = %s' %(x,y))\n",
        "\n",
        "# use %c to display a single character\n",
        "\n",
        "name = 'Linda'\n",
        "print('Hey %c %c %c %c %c' %(name[0], name[1], name[2], name[3], name[4]))\n",
        "print('Hey %s' %(name[0:2]))"
      ],
      "metadata": {
        "colab": {
          "base_uri": "https://localhost:8080/"
        },
        "id": "5MFsm_kzZdfB",
        "outputId": "a5027fd2-874d-4e0a-a951-de15f7c70fbc"
      },
      "execution_count": 16,
      "outputs": [
        {
          "output_type": "stream",
          "name": "stdout",
          "text": [
            "{'Momo': 100, 'Chowmein': 80, 'Coffee': 40.0}\n",
            "You typed 100 as an input\n",
            "value = 10\n",
            "x = 10 y = 15\n",
            "Hey L i n d a\n",
            "Hey Li\n"
          ]
        }
      ]
    },
    {
      "cell_type": "code",
      "source": [
        "num = 123.456789\n",
        "print('The value is : %f' %num)\n",
        "\n",
        "print('The value is: %8.2f'%num)\n",
        "print('The value is: %.2f'%num)"
      ],
      "metadata": {
        "colab": {
          "base_uri": "https://localhost:8080/"
        },
        "id": "C_z5_9WIbY9S",
        "outputId": "21b2ce36-8e05-40af-d743-5dc07ed9272b"
      },
      "execution_count": 22,
      "outputs": [
        {
          "output_type": "stream",
          "name": "stdout",
          "text": [
            "The value is : 123.456789\n",
            "The value is:   123.46\n",
            "The value is: 123.46\n"
          ]
        }
      ]
    },
    {
      "cell_type": "code",
      "source": [
        "n1, n2, n3 = 1, 2, 3\n",
        "print('number1 = {0}'.format(n1))\n",
        "print('number1={0}, number2 = {1}, number3 ={2}'.format(n1, n2, n3))"
      ],
      "metadata": {
        "colab": {
          "base_uri": "https://localhost:8080/"
        },
        "id": "xd28Kz7tcC7Z",
        "outputId": "37597fc3-fdce-4461-b20c-9d66384a6185"
      },
      "execution_count": 24,
      "outputs": [
        {
          "output_type": "stream",
          "name": "stdout",
          "text": [
            "number1 = 1\n",
            "number1=1, number2 = 2, number3 =3\n"
          ]
        }
      ]
    },
    {
      "cell_type": "code",
      "source": [
        "name, salary = 'Hari', 15000.3435\n",
        "print('Hello %s, your salary is %.2f' %(name,salary))\n",
        "print('Hello {0}, your salary is {1}'.format(name, salary))"
      ],
      "metadata": {
        "colab": {
          "base_uri": "https://localhost:8080/"
        },
        "id": "QDXULlsZbe_Z",
        "outputId": "787b2432-45d7-44d5-e67a-cf9c26517ad1"
      },
      "execution_count": 28,
      "outputs": [
        {
          "output_type": "stream",
          "name": "stdout",
          "text": [
            "Hello Hari, your salary is 15000.34\n",
            "Hello Hari, your salary is 15000.3435\n"
          ]
        }
      ]
    },
    {
      "cell_type": "code",
      "source": [
        "#accepting a string from a keyboard\n",
        "str = input(\"Enter a string: \")\n",
        "print(\"U entered: \", str)\n",
        "\n",
        "ch = input(\"Enter a character: \")\n",
        "print(\"U entered:\" +ch[0])"
      ],
      "metadata": {
        "colab": {
          "base_uri": "https://localhost:8080/"
        },
        "id": "uu_j_8JmdNAS",
        "outputId": "53afd931-4035-4487-f139-31048f7d3620"
      },
      "execution_count": 31,
      "outputs": [
        {
          "output_type": "stream",
          "name": "stdout",
          "text": [
            "Enter a string: Hello\n",
            "U entered:  Hello\n",
            "Enter a character: sushant\n",
            "U entered:s\n"
          ]
        }
      ]
    },
    {
      "cell_type": "code",
      "source": [
        "#finding multiplication of two numbers\n",
        "\n",
        "x = int(input(\"Enter first number: \"))\n",
        "y = int(input(\"Enter second number: \"))\n",
        "\n",
        "print(\"The multiplication of\", x ,\"and\", y , \"is : \", (x*y))"
      ],
      "metadata": {
        "colab": {
          "base_uri": "https://localhost:8080/"
        },
        "id": "O_Hrc3yqeAHI",
        "outputId": "41154af8-9438-4306-ac89-a4a9181138c8"
      },
      "execution_count": 32,
      "outputs": [
        {
          "output_type": "stream",
          "name": "stdout",
          "text": [
            "Enter first number: 10\n",
            "Enter second number: 10\n",
            "The multiplication of 10 and 10 is :  100\n"
          ]
        }
      ]
    },
    {
      "cell_type": "code",
      "source": [
        "# Convert the numbers from other systems into decimal number system\n",
        "\n",
        "str = input(\"Enter a hexadecimal number: \")\n",
        "n = int(str, 16) #inform the number is base 16\n",
        "print('Hexadecimal to Decimal: ', n)\n",
        "\n",
        "str = input(\"Enter octal number: \")\n",
        "n = int(str, 8)\n",
        "print('Octal to Decimal :', n)\n",
        "\n",
        "str =input(\"Enter a binary number: \")\n",
        "n = int(str, 2)\n",
        "print(\"Binary to Decimal :\", n)\n"
      ],
      "metadata": {
        "colab": {
          "base_uri": "https://localhost:8080/"
        },
        "id": "pjLlfhdje3M5",
        "outputId": "afdf9818-f6f1-4dcb-da32-6f94ed2d35eb"
      },
      "execution_count": 33,
      "outputs": [
        {
          "output_type": "stream",
          "name": "stdout",
          "text": [
            "Enter a hexadecimal number: A\n",
            "Hexadecimal to Decimal:  10\n",
            "Enter octal number: 10\n",
            "Octal to Decimal : 8\n",
            "Enter a binary number: 101011\n",
            "Binary to Decimal : 43\n"
          ]
        }
      ]
    },
    {
      "cell_type": "code",
      "source": [
        "# accepting three integers seperated by a space\n",
        "var1, var2, var3 = [int(x) for x in input('Enter three numbers : ').split(',')]\n",
        "print('Sum = ', var1 + var2 + var3)"
      ],
      "metadata": {
        "colab": {
          "base_uri": "https://localhost:8080/"
        },
        "id": "-aLCGemxfyq-",
        "outputId": "f2b390f0-bd87-473c-c390-e60a5f95b26b"
      },
      "execution_count": 41,
      "outputs": [
        {
          "output_type": "stream",
          "name": "stdout",
          "text": [
            "Enter three numbers : 10, 20, 30\n",
            "Sum =  60\n"
          ]
        }
      ]
    },
    {
      "cell_type": "code",
      "source": [
        "#accepting a group of strings from keyboard\n",
        "\n",
        "lst = [ x for x in input('Enter Strings:').split(',')]\n",
        "print('You entered:\\n', lst)"
      ],
      "metadata": {
        "colab": {
          "base_uri": "https://localhost:8080/"
        },
        "id": "TazKo--XiH1R",
        "outputId": "fd14ffa2-860f-4c0b-a9ea-58e2dbb4778e"
      },
      "execution_count": 40,
      "outputs": [
        {
          "output_type": "stream",
          "name": "stdout",
          "text": [
            "Enter Strings:Anil, Baka, Samesh\n",
            "You entered:\n",
            " ['Anil', ' Baka', ' Samesh']\n"
          ]
        }
      ]
    },
    {
      "cell_type": "code",
      "source": [
        "#using eval() along with the input function\n",
        "\n",
        "x = eval(input(\"Enter an expression: \"))\n",
        "print(\"Result: \", x)"
      ],
      "metadata": {
        "colab": {
          "base_uri": "https://localhost:8080/"
        },
        "id": "49Z2OahAjaRA",
        "outputId": "49825814-eb10-4db0-de04-bffbb731f606"
      },
      "execution_count": 42,
      "outputs": [
        {
          "output_type": "stream",
          "name": "stdout",
          "text": [
            "Enter an expression: 10+5-5\n",
            "Result:  10\n"
          ]
        }
      ]
    },
    {
      "cell_type": "code",
      "source": [
        "#accepting a list from the keyboard\n",
        "\n",
        "lst = eval(input(\"Enter a list: \"))\n",
        "print(\"List:\", lst)"
      ],
      "metadata": {
        "colab": {
          "base_uri": "https://localhost:8080/"
        },
        "id": "xM_fKNjWjtuA",
        "outputId": "55e34b0d-46b0-4a45-fbd2-6d9cd959c0d7"
      },
      "execution_count": 43,
      "outputs": [
        {
          "output_type": "stream",
          "name": "stdout",
          "text": [
            "Enter a list: [\"Apple\", \"Banana\", \"Mango\", \"Orange\"]\n",
            "List: ['Apple', 'Banana', 'Mango', 'Orange']\n"
          ]
        }
      ]
    },
    {
      "cell_type": "code",
      "source": [
        "#find the relation between three numbers using an elif\n",
        "\n",
        "a = int(input(\"Enter 1st number: \"))\n",
        "b = int(input(\"Enter 2nd number: \"))\n",
        "c = int(input(\"Enter 3rd number: \"))\n",
        "\n",
        "if(a > b and a > c):\n",
        "  print(a,\"is the largest\")\n",
        "\n",
        "elif(a == b == c):\n",
        "  print('All three numbers are same')\n",
        "\n",
        "elif(b>a and b>c):\n",
        "  print(b,'is the largest')\n",
        "\n",
        "else :\n",
        "  print(c,'is the largest')"
      ],
      "metadata": {
        "colab": {
          "base_uri": "https://localhost:8080/"
        },
        "id": "CxUDihcXy8AE",
        "outputId": "e34392a5-3b50-4f91-a2fb-d61c182125b8"
      },
      "execution_count": 47,
      "outputs": [
        {
          "output_type": "stream",
          "name": "stdout",
          "text": [
            "Enter 1st number: 10\n",
            "Enter 2nd number: 10\n",
            "Enter 3rd number: 10\n",
            "All three numbers are same\n"
          ]
        }
      ]
    },
    {
      "cell_type": "code",
      "source": [
        "#check whether the given value is even\n",
        "\n",
        "a = int(input(\"Enter a number: \"))\n",
        "\n",
        "if(a % 2 == 0) :\n",
        "  print(a,\"is an even number\")\n",
        "\n",
        "else :\n",
        "  print(a, \"is an odd number\")"
      ],
      "metadata": {
        "colab": {
          "base_uri": "https://localhost:8080/"
        },
        "id": "ut8jQHzOz8LM",
        "outputId": "04f60203-677a-4f5d-be37-fba719704c10"
      },
      "execution_count": 50,
      "outputs": [
        {
          "output_type": "stream",
          "name": "stdout",
          "text": [
            "Enter a number: 77\n",
            "77 is an odd number\n"
          ]
        }
      ]
    },
    {
      "cell_type": "code",
      "source": [
        "# program to check whether the given integer is a multiple of both 5 and 7\n",
        "\n",
        "num = int(input(\"Enter any number: \"))\n",
        "\n",
        "if((num % 5 == 0) and (num % 7 == 0)):\n",
        "  print('The given number', num ,'is multiple of both 5 and 7')\n",
        "\n",
        "else :\n",
        "   print('The given number', num ,'isnot multiple of both 5 and 7')"
      ],
      "metadata": {
        "colab": {
          "base_uri": "https://localhost:8080/"
        },
        "id": "s7n4BQxw0jAU",
        "outputId": "1a79cf7e-c46a-4bfe-df20-01c260bb649b"
      },
      "execution_count": 56,
      "outputs": [
        {
          "output_type": "stream",
          "name": "stdout",
          "text": [
            "Enter any number: 105\n",
            "The given number 105 is multiple of both 5 and 7\n"
          ]
        }
      ]
    },
    {
      "cell_type": "code",
      "source": [
        "# program to find the roots of a quadratic equation\n",
        "\n",
        "import math\n",
        "\n",
        "a = float(input('Enter the coefficient of a: '))\n",
        "b = float(input('Enter the coefficient of b: '))\n",
        "c = float(input('Enter the coefficient of c: '))\n",
        "\n",
        "d = b**2 - 4*a*c\n",
        "\n",
        "if d > 0 : #then there exists two roots positive and negative\n",
        "  root1 =(-b + math.sqrt(d)) / (2*a)\n",
        "  root2 =(-b - math.sqrt(d)) / (2*a)\n",
        "\n",
        "  print(\"Root1 :\", root1)\n",
        "  print(\"Root2 :\", root2)\n",
        "\n",
        "elif d == 0:  # One real root (double root)\n",
        "  root = -b / (2*a)\n",
        "  print(\"Root :\",root)\n",
        "\n",
        "else :\n",
        "   # Complex roots\n",
        "   real_part = -b /(2*a)\n",
        "   img_part = math.sqrt(abs(d) / (2*a))\n",
        "\n",
        "   print(f\"Root 1 = {real_part} + {img_part}i\")\n",
        "   print(f\"Root 2 = {real_part} - {img_part}i\")"
      ],
      "metadata": {
        "colab": {
          "base_uri": "https://localhost:8080/"
        },
        "id": "7QPnkaAk3SAF",
        "outputId": "4861ef79-9770-44d4-e6ec-989b1107dbb2"
      },
      "execution_count": 65,
      "outputs": [
        {
          "output_type": "stream",
          "name": "stdout",
          "text": [
            "Enter the coefficient of a: 2\n",
            "Enter the coefficient of b: -5\n",
            "Enter the coefficient of c: 3\n",
            "Root1 : 1.5\n",
            "Root2 : 1.0\n"
          ]
        }
      ]
    },
    {
      "cell_type": "code",
      "source": [
        "# sum of first 10 numbers using while"
      ],
      "metadata": {
        "id": "0dWl29CF7oa9"
      },
      "execution_count": null,
      "outputs": []
    },
    {
      "cell_type": "code",
      "source": [
        "i = 1\n",
        "sum = 0\n",
        "\n",
        "while(i <= 10) :\n",
        "  sum += i\n",
        "  i += 1\n",
        "\n",
        "print('The sum of first 10 natural numbers is:',sum)"
      ],
      "metadata": {
        "colab": {
          "base_uri": "https://localhost:8080/"
        },
        "id": "QIOSZuV5zKHZ",
        "outputId": "e975ee19-9fb1-4c57-dda0-b6d6bc373041"
      },
      "execution_count": 70,
      "outputs": [
        {
          "output_type": "stream",
          "name": "stdout",
          "text": [
            "The sum of first 10 natural numbers is: 55\n"
          ]
        }
      ]
    },
    {
      "cell_type": "code",
      "source": [
        "# Count the numbers in the input\n",
        "\n",
        "n = int(input(\"Enter any number:\"))\n",
        "count = 0\n",
        "\n",
        "while(n > 0):\n",
        "  count = count + 1\n",
        "  n = n//10\n",
        "\n",
        "print(\"Count of digits:\", count)"
      ],
      "metadata": {
        "colab": {
          "base_uri": "https://localhost:8080/"
        },
        "id": "M966y7GQFV2K",
        "outputId": "43fa0730-fe3d-4f2f-8fe0-dd55d25fb97e"
      },
      "execution_count": 71,
      "outputs": [
        {
          "output_type": "stream",
          "name": "stdout",
          "text": [
            "Enter any number:199\n",
            "Count of digits: 3\n"
          ]
        }
      ]
    }
  ]
}