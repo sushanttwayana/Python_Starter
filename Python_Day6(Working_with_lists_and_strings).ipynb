{
  "nbformat": 4,
  "nbformat_minor": 0,
  "metadata": {
    "colab": {
      "provenance": [],
      "authorship_tag": "ABX9TyOv+XHlUC7rlVAhc+HS3A39",
      "include_colab_link": true
    },
    "kernelspec": {
      "name": "python3",
      "display_name": "Python 3"
    },
    "language_info": {
      "name": "python"
    }
  },
  "cells": [
    {
      "cell_type": "markdown",
      "metadata": {
        "id": "view-in-github",
        "colab_type": "text"
      },
      "source": [
        "<a href=\"https://colab.research.google.com/github/sushanttwayana/Python_Starter/blob/main/Python_Day6(Working_with_lists_and_strings).ipynb\" target=\"_parent\"><img src=\"https://colab.research.google.com/assets/colab-badge.svg\" alt=\"Open In Colab\"/></a>"
      ]
    },
    {
      "cell_type": "code",
      "execution_count": null,
      "metadata": {
        "colab": {
          "base_uri": "https://localhost:8080/"
        },
        "id": "O7tdIXU2xuse",
        "outputId": "ae4b9927-4709-49c8-99af-213ecbe831ee"
      },
      "outputs": [
        {
          "output_type": "stream",
          "name": "stdout",
          "text": [
            "hello worlds\n"
          ]
        }
      ],
      "source": [
        "print(\"hello worlds\")"
      ]
    },
    {
      "cell_type": "code",
      "source": [
        "#to find the number of words in a sting\n",
        "\n",
        "str = input('Enter a string:')\n",
        "\n",
        "i = c= 0\n",
        "flag = True #becomes false when no space is found\n",
        "\n",
        "for s in str:\n",
        "  #count only when there is ni space is found\n",
        "\n",
        "  if flag == False and str[i]==' ':\n",
        "    c += 1\n",
        "\n",
        "  #if a space is found take flag as True\n",
        "\n",
        "  if str[i] == ' ':\n",
        "    flag = True\n",
        "  else :\n",
        "    flage = False\n",
        "  i += 1\n",
        "\n",
        "print('No of words: ', c+1)"
      ],
      "metadata": {
        "colab": {
          "base_uri": "https://localhost:8080/"
        },
        "id": "VI4_XYMkBVPC",
        "outputId": "e07bdfbc-59c6-46c3-9d6d-2669050e8c21"
      },
      "execution_count": 1,
      "outputs": [
        {
          "output_type": "stream",
          "name": "stdout",
          "text": [
            "Enter a string:S sumina awa\n",
            "No of words:  1\n"
          ]
        }
      ]
    }
  ]
}