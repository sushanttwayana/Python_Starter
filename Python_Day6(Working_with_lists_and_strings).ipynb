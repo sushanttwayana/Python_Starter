{
  "nbformat": 4,
  "nbformat_minor": 0,
  "metadata": {
    "colab": {
      "provenance": [],
      "authorship_tag": "ABX9TyPukj6CV3VP3w31X2gW6XD8",
      "include_colab_link": true
    },
    "kernelspec": {
      "name": "python3",
      "display_name": "Python 3"
    },
    "language_info": {
      "name": "python"
    }
  },
  "cells": [
    {
      "cell_type": "markdown",
      "metadata": {
        "id": "view-in-github",
        "colab_type": "text"
      },
      "source": [
        "<a href=\"https://colab.research.google.com/github/sushanttwayana/Python_Starter/blob/main/Python_Day6(Working_with_lists_and_strings).ipynb\" target=\"_parent\"><img src=\"https://colab.research.google.com/assets/colab-badge.svg\" alt=\"Open In Colab\"/></a>"
      ]
    },
    {
      "cell_type": "code",
      "execution_count": null,
      "metadata": {
        "colab": {
          "base_uri": "https://localhost:8080/"
        },
        "id": "O7tdIXU2xuse",
        "outputId": "ae4b9927-4709-49c8-99af-213ecbe831ee"
      },
      "outputs": [
        {
          "output_type": "stream",
          "name": "stdout",
          "text": [
            "hello worlds\n"
          ]
        }
      ],
      "source": [
        "print(\"hello worlds\")"
      ]
    },
    {
      "cell_type": "code",
      "source": [
        "#slicing the list\n",
        "\n",
        "numbers = [1, 2, 3, 4, 5]\n",
        "print(numbers[::2])"
      ],
      "metadata": {
        "colab": {
          "base_uri": "https://localhost:8080/"
        },
        "id": "mhHF3NclEXXh",
        "outputId": "dcc63b1a-2cb3-461b-de23-0939669c0d86"
      },
      "execution_count": 1,
      "outputs": [
        {
          "output_type": "stream",
          "name": "stdout",
          "text": [
            "[1, 3, 5]\n"
          ]
        }
      ]
    },
    {
      "cell_type": "code",
      "source": [
        "#Acessing Elements of the List\n",
        "\n",
        "L = [12, 1, 15, 23 ,99, 45]\n",
        "\n",
        "for item in L:\n",
        "  print(item, end=\" \")\n",
        "\n",
        "for i in range(len(L)):\n",
        "  print(L[i])\n",
        "\n",
        "found = False\n",
        "total = 0\n",
        "key = int(input(\"Enter the element to be searched:\"))\n",
        "\n",
        "for i in range(len(L)):\n",
        "\n",
        "  total += L[i]\n",
        "  if (L[i] == key):\n",
        "    found = True\n",
        "    break\n",
        "\n",
        "if found:\n",
        "  print(\"Element is found\")\n",
        "else:\n",
        "    print(\"Element is not found\")\n",
        "\n",
        "print(\"The sum of the list is :\", total)"
      ],
      "metadata": {
        "colab": {
          "base_uri": "https://localhost:8080/"
        },
        "id": "WHwdKqRAEnLp",
        "outputId": "8900cc0a-1f46-45bd-db62-28ec294db4b3"
      },
      "execution_count": 11,
      "outputs": [
        {
          "output_type": "stream",
          "name": "stdout",
          "text": [
            "12 1 15 23 99 45 12\n",
            "1\n",
            "15\n",
            "23\n",
            "99\n",
            "45\n",
            "Enter the element to be searched:1\n",
            "Element is found\n",
            "The sum of the list is : 13\n"
          ]
        }
      ]
    },
    {
      "cell_type": "code",
      "source": [
        "#to find the number of words in a sting\n",
        "\n",
        "str = input('Enter a string:')\n",
        "\n",
        "i = c= 0\n",
        "flag = True #becomes false when no space is found\n",
        "\n",
        "for s in str:\n",
        "  #count only when there is ni space is found\n",
        "\n",
        "  if flag == False and str[i]==' ':\n",
        "    c += 1\n",
        "\n",
        "  #if a space is found take flag as True\n",
        "\n",
        "  if str[i] == ' ':\n",
        "    flag = True\n",
        "  else :\n",
        "    flage = False\n",
        "  i += 1\n",
        "\n",
        "print('No of words: ', c+1)"
      ],
      "metadata": {
        "colab": {
          "base_uri": "https://localhost:8080/"
        },
        "id": "VI4_XYMkBVPC",
        "outputId": "e07bdfbc-59c6-46c3-9d6d-2669050e8c21"
      },
      "execution_count": null,
      "outputs": [
        {
          "output_type": "stream",
          "name": "stdout",
          "text": [
            "Enter a string:S sumina awa\n",
            "No of words:  1\n"
          ]
        }
      ]
    }
  ]
}