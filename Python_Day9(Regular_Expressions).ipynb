{
  "nbformat": 4,
  "nbformat_minor": 0,
  "metadata": {
    "colab": {
      "provenance": [],
      "authorship_tag": "ABX9TyPWVQgm3V5y5RarxxmvFUev",
      "include_colab_link": true
    },
    "kernelspec": {
      "name": "python3",
      "display_name": "Python 3"
    },
    "language_info": {
      "name": "python"
    }
  },
  "cells": [
    {
      "cell_type": "markdown",
      "metadata": {
        "id": "view-in-github",
        "colab_type": "text"
      },
      "source": [
        "<a href=\"https://colab.research.google.com/github/sushanttwayana/Python_Starter/blob/main/Python_Day9(Regular_Expressions).ipynb\" target=\"_parent\"><img src=\"https://colab.research.google.com/assets/colab-badge.svg\" alt=\"Open In Colab\"/></a>"
      ]
    },
    {
      "cell_type": "code",
      "execution_count": 1,
      "metadata": {
        "colab": {
          "base_uri": "https://localhost:8080/"
        },
        "id": "RuUB1z7a8F1M",
        "outputId": "f679d898-48e5-4382-e574-8ea27a58dda6"
      },
      "outputs": [
        {
          "output_type": "stream",
          "name": "stdout",
          "text": [
            "john.doe@example.com\n",
            "jane.smith1234@gmail.com\n",
            "support@company.com\n"
          ]
        }
      ],
      "source": [
        "import re\n",
        "\n",
        "# Sample text containing email addresses\n",
        "text = \"\"\"\n",
        "John Doe's email: john.doe@example.com\n",
        "Jane Smith's email: jane.smith1234@gmail.com\n",
        "Support: support@company.com\n",
        "\"\"\"\n",
        "\n",
        "# Define a regular expression pattern for matching email addresses\n",
        "email_pattern = r'\\b[A-Za-z0-9._%+-]+@[A-Za-z0-9.-]+\\.[A-Z|a-z]{2,7}\\b'\n",
        "\n",
        "# Find all email addresses in the text\n",
        "matches = re.findall(email_pattern, text)\n",
        "\n",
        "# Print the matches\n",
        "for match in matches:\n",
        "    print(match)\n"
      ]
    },
    {
      "cell_type": "code",
      "source": [],
      "metadata": {
        "id": "4FjYOfWj8eIt"
      },
      "execution_count": null,
      "outputs": []
    }
  ]
}