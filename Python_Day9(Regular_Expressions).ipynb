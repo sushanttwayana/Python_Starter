{
  "nbformat": 4,
  "nbformat_minor": 0,
  "metadata": {
    "colab": {
      "provenance": [],
      "authorship_tag": "ABX9TyMrqZqD0lOGzz+acJM/Y2Mx",
      "include_colab_link": true
    },
    "kernelspec": {
      "name": "python3",
      "display_name": "Python 3"
    },
    "language_info": {
      "name": "python"
    }
  },
  "cells": [
    {
      "cell_type": "markdown",
      "metadata": {
        "id": "view-in-github",
        "colab_type": "text"
      },
      "source": [
        "<a href=\"https://colab.research.google.com/github/sushanttwayana/Python_Starter/blob/main/Python_Day9(Regular_Expressions).ipynb\" target=\"_parent\"><img src=\"https://colab.research.google.com/assets/colab-badge.svg\" alt=\"Open In Colab\"/></a>"
      ]
    },
    {
      "cell_type": "code",
      "execution_count": null,
      "metadata": {
        "colab": {
          "base_uri": "https://localhost:8080/"
        },
        "id": "RuUB1z7a8F1M",
        "outputId": "f679d898-48e5-4382-e574-8ea27a58dda6"
      },
      "outputs": [
        {
          "output_type": "stream",
          "name": "stdout",
          "text": [
            "john.doe@example.com\n",
            "jane.smith1234@gmail.com\n",
            "support@company.com\n"
          ]
        }
      ],
      "source": [
        "import re\n",
        "\n",
        "# Sample text containing email addresses\n",
        "text = \"\"\"\n",
        "John Doe's email: john.doe@example.com\n",
        "Jane Smith's email: jane.smith1234@gmail.com\n",
        "Support: support@company.com\n",
        "\"\"\"\n",
        "\n",
        "# Define a regular expression pattern for matching email addresses\n",
        "email_pattern = r'\\b[A-Za-z0-9._%+-]+@[A-Za-z0-9.-]+\\.[A-Z|a-z]{2,7}\\b'\n",
        "\n",
        "# Find all email addresses in the text\n",
        "matches = re.findall(email_pattern, text)\n",
        "\n",
        "# Print the matches\n",
        "for match in matches:\n",
        "    print(match)\n"
      ]
    },
    {
      "cell_type": "code",
      "source": [
        "# match(pattern, string) -> if pattern is found only, in the beginning of the string then returns True\n",
        "\n",
        "import re\n",
        "string = \"She sells sea shells in the sea shore\"\n",
        "pattern =\"sells\"\n",
        "\n",
        "if re.match(pattern,string) :\n",
        "  print(\"Match found\")\n",
        "\n",
        "else:\n",
        "  print(\"Match not found\")"
      ],
      "metadata": {
        "colab": {
          "base_uri": "https://localhost:8080/"
        },
        "id": "4l31_vc_d0v5",
        "outputId": "83bc5f0c-8ce1-4de7-ebdd-a67e2b49cd3d"
      },
      "execution_count": 2,
      "outputs": [
        {
          "output_type": "stream",
          "name": "stdout",
          "text": [
            "Match not found\n"
          ]
        }
      ]
    },
    {
      "cell_type": "code",
      "source": [
        "# match(pattern, string) -> if pattern is found in the beginning of the string then returns True\n",
        "\n",
        "import re\n",
        "string = \"She sells sea shells in the sea shore\"\n",
        "pattern =\"She\"\n",
        "\n",
        "if re.match(pattern,string) :\n",
        "  print(\"Match found\")\n",
        "\n",
        "else:\n",
        "  print(\"Match not found\")"
      ],
      "metadata": {
        "colab": {
          "base_uri": "https://localhost:8080/"
        },
        "id": "2mUHiMD7t-lJ",
        "outputId": "0a725276-4aa8-4e21-bf35-769df5397c94"
      },
      "execution_count": 4,
      "outputs": [
        {
          "output_type": "stream",
          "name": "stdout",
          "text": [
            "Match found\n"
          ]
        }
      ]
    },
    {
      "cell_type": "code",
      "source": [
        "# search(pattern, string) -> returns True is found in the entire string\n",
        "\n",
        "import re\n",
        "string = \"She sells sea shells in the sea shore\"\n",
        "pattern =\"shells\"\n",
        "\n",
        "if re.search(pattern,string) :\n",
        "  print(\"Match found\")\n",
        "\n",
        "else:\n",
        "  print(\"Match not found\")\n"
      ],
      "metadata": {
        "id": "4FjYOfWj8eIt",
        "colab": {
          "base_uri": "https://localhost:8080/"
        },
        "outputId": "b10615c2-341a-4150-b0f9-f4aa5674a45f"
      },
      "execution_count": 5,
      "outputs": [
        {
          "output_type": "stream",
          "name": "stdout",
          "text": [
            "Match found\n"
          ]
        }
      ]
    },
    {
      "cell_type": "code",
      "source": [
        "# sub(pattern,replace,string,max = 0) # max defines the number of times to replace the original string into new string; default value is 0 which indicates\n",
        "# all the string will be replaced to the new one\n",
        "\n",
        "import re\n",
        "string = \"She sells sea shells in the sea shore along all the sea\"\n",
        "pattern =\"sea\"\n",
        "repl = \"ocean\"\n",
        "\n",
        "new_string = re.sub(pattern,repl,string,0)\n",
        "new_string1 = re.sub(pattern,repl,string,1)\n",
        "new_string2 = re.sub(pattern,repl,string,2)\n",
        "print(new_string)\n",
        "print(new_string1)\n",
        "print(new_string2)"
      ],
      "metadata": {
        "colab": {
          "base_uri": "https://localhost:8080/"
        },
        "id": "UDNQgGDuvH9l",
        "outputId": "bd4646fa-d105-4e90-966a-f0049d061824"
      },
      "execution_count": 11,
      "outputs": [
        {
          "output_type": "stream",
          "name": "stdout",
          "text": [
            "She sells ocean shells in the ocean shore along all the ocean\n",
            "She sells ocean shells in the sea shore along all the sea\n",
            "She sells ocean shells in the ocean shore along all the sea\n"
          ]
        }
      ]
    },
    {
      "cell_type": "code",
      "source": [
        "# matchList = findall(pattern, input_str, flag = 0) flags are optional\n",
        "\n",
        "import re\n",
        "input_string = \"LXI 200, MVI 300, Sushant 760345, I love python programming, 488545, Hello\"\n",
        "pattern = \"[a-zA-Z]+ \\d+\" # string starting with the alphbaet followed by space and again followed by digits\n",
        "\n",
        "matches = re.findall(pattern, input_string)\n",
        "for i in matches:\n",
        "  print(i, end =\" \")"
      ],
      "metadata": {
        "colab": {
          "base_uri": "https://localhost:8080/"
        },
        "id": "6JV5HS2jwTM7",
        "outputId": "3c5e56be-97fb-4a85-de59-57339a96dccd"
      },
      "execution_count": 13,
      "outputs": [
        {
          "output_type": "stream",
          "name": "stdout",
          "text": [
            "LXI 200 MVI 300 Sushant 760345 "
          ]
        }
      ]
    },
    {
      "cell_type": "code",
      "source": [
        "# program to match a string that has an 'a' followed by anything but ending with 'b'\n",
        "# . -> represents one next charcter\n",
        "# * -> represents multiple next charcter\n",
        "# $ -> represents ending charcter\n",
        "import re\n",
        "\n",
        "def matching(str):\n",
        "  pattern = 'a.*?b$'\n",
        "\n",
        "  if (re.search(pattern, str)):\n",
        "    print(\"Match Found\")\n",
        "\n",
        "  else :\n",
        "    print(\"Match Not Found!!\")\n",
        "\n",
        "str = \"abcdef b\"\n",
        "matching(str)"
      ],
      "metadata": {
        "colab": {
          "base_uri": "https://localhost:8080/"
        },
        "id": "OS5c1FAgyxy0",
        "outputId": "6124cc2e-d817-4683-bb9a-9d748118fcba"
      },
      "execution_count": 39,
      "outputs": [
        {
          "output_type": "stream",
          "name": "stdout",
          "text": [
            "Match Found\n"
          ]
        }
      ]
    },
    {
      "cell_type": "code",
      "source": [
        "# program to match a string that has an 'a' followed by  '3b' -> abbb\n",
        "\n",
        "import re\n",
        "def matching(text):\n",
        "\n",
        "  pattern = 'a{1}b{3}?'\n",
        "\n",
        "  if re.search(pattern, text):\n",
        "    print(\"Pattern Matched\")\n",
        "\n",
        "  else :\n",
        "    print(\"Not matched\")\n",
        "\n",
        "\n",
        "matching('abbbbbb')\n"
      ],
      "metadata": {
        "colab": {
          "base_uri": "https://localhost:8080/"
        },
        "id": "BRnZ83OY1TTB",
        "outputId": "0fe8d69b-718c-47e1-cb36-6b562f59e0e4"
      },
      "execution_count": 54,
      "outputs": [
        {
          "output_type": "stream",
          "name": "stdout",
          "text": [
            "Pattern Matched\n"
          ]
        }
      ]
    },
    {
      "cell_type": "code",
      "source": [
        "# program to match a string for only having the uppercase within it\n",
        "\n",
        "import re\n",
        "\n",
        "def matched(text):\n",
        "\n",
        "  pattern = '^[A-Z]*$' # ^ -> indicates the begininng and $ indicates the ending\n",
        "\n",
        "  if re.search(pattern, text):\n",
        "    print(\"Match Found\")\n",
        "\n",
        "  else :\n",
        "    print(\"Not Matched\")\n",
        "\n",
        "matched(\"BULLET\")\n",
        "matched(\"BullET\")"
      ],
      "metadata": {
        "colab": {
          "base_uri": "https://localhost:8080/"
        },
        "id": "Ejlf-uvY21by",
        "outputId": "2b4f169b-47d7-46c2-bf2d-d41d251a7e28"
      },
      "execution_count": 55,
      "outputs": [
        {
          "output_type": "stream",
          "name": "stdout",
          "text": [
            "Match Found\n",
            "Not Matched\n"
          ]
        }
      ]
    },
    {
      "cell_type": "code",
      "source": [
        "# program to match a string for only having the lowercase and uppercase, digits within it\n",
        "\n",
        "import re\n",
        "\n",
        "def matched(text):\n",
        "\n",
        "  pattern = '^[a-zA-Z0-9+ ]*$' # ^ -> indicates the begininng and $ indicates the ending\n",
        "\n",
        "  if re.search(pattern, text):\n",
        "    print(\"Match Found\")\n",
        "\n",
        "  else :\n",
        "    print(\"Not Matched\")\n",
        "\n",
        "matched(\"BULLET\")\n",
        "matched(\"BullET\")\n",
        "matched(\"bullet\")\n",
        "matched(\"Python 3\")"
      ],
      "metadata": {
        "colab": {
          "base_uri": "https://localhost:8080/"
        },
        "id": "Y0HKx5jp4ACG",
        "outputId": "7294ed08-1270-40ed-a7d5-dcfcd13cac13"
      },
      "execution_count": 68,
      "outputs": [
        {
          "output_type": "stream",
          "name": "stdout",
          "text": [
            "Match Found\n",
            "Match Found\n",
            "Match Found\n",
            "Match Found\n"
          ]
        }
      ]
    },
    {
      "cell_type": "code",
      "source": [
        "# program to match a string for only having the lowercase and uppercase, digits within it\n",
        "\n",
        "import re\n",
        "\n",
        "def matched(text):\n",
        "\n",
        "  pattern = '^[a-zA-Z0-9@.]*$' # ^ -> indicates the begininng and $ indicates the ending\n",
        "\n",
        "  if re.search(pattern, text):\n",
        "    print(\"Mail Found\")\n",
        "\n",
        "  else :\n",
        "    print(\"Mail Not Matched\")\n",
        "\n",
        "matched(\"sushanttwayana1@gmail.com\")\n",
        "matched(\"sushnt\")"
      ],
      "metadata": {
        "colab": {
          "base_uri": "https://localhost:8080/"
        },
        "id": "YJixeBqf42rP",
        "outputId": "4119e3d0-60a2-46e8-d3a6-2d213dd44eef"
      },
      "execution_count": 65,
      "outputs": [
        {
          "output_type": "stream",
          "name": "stdout",
          "text": [
            "Mail Found\n",
            "Mail Found\n"
          ]
        }
      ]
    },
    {
      "cell_type": "code",
      "source": [
        "# matching the word containing \"Z or z\"\n",
        "\n",
        "import re\n",
        "\n",
        "def matching(text):\n",
        "\n",
        "  pattern =\"\\w*z\\w*\" # w* represents any number of words\n",
        "  # pattern =\"\\w*Z\\w*\"\n",
        "\n",
        "  if(re.search(pattern,text)):\n",
        "    print(\"String contains the letter z\")\n",
        "\n",
        "  else:\n",
        "    print(\"String doesn't contain z\")\n",
        "\n",
        "matching(\"Python is a crazy programming langugae\")\n",
        "matching(\"Python Programmers\")\n",
        "matching(\"Zebra\")"
      ],
      "metadata": {
        "colab": {
          "base_uri": "https://localhost:8080/"
        },
        "id": "0Zzv6fn_5g3N",
        "outputId": "18262148-77af-41ae-a17a-b550359d608f"
      },
      "execution_count": 83,
      "outputs": [
        {
          "output_type": "stream",
          "name": "stdout",
          "text": [
            "String contains the letter z\n",
            "String doesn't contain z\n",
            "String doesn't contain z\n"
          ]
        }
      ]
    }
  ]
}