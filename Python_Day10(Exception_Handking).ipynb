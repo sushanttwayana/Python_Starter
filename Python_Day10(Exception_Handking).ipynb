{
  "nbformat": 4,
  "nbformat_minor": 0,
  "metadata": {
    "colab": {
      "provenance": [],
      "authorship_tag": "ABX9TyM1ewQVeMNnX5y//GFyR+d7",
      "include_colab_link": true
    },
    "kernelspec": {
      "name": "python3",
      "display_name": "Python 3"
    },
    "language_info": {
      "name": "python"
    }
  },
  "cells": [
    {
      "cell_type": "markdown",
      "metadata": {
        "id": "view-in-github",
        "colab_type": "text"
      },
      "source": [
        "<a href=\"https://colab.research.google.com/github/sushanttwayana/Python_Starter/blob/main/Python_Day10(Exception_Handking).ipynb\" target=\"_parent\"><img src=\"https://colab.research.google.com/assets/colab-badge.svg\" alt=\"Open In Colab\"/></a>"
      ]
    },
    {
      "cell_type": "code",
      "execution_count": null,
      "metadata": {
        "id": "fxKs6n-I8xZE"
      },
      "outputs": [],
      "source": [
        "# When an error occurs or exception, the Python will stop and generate error msgs\n",
        "# try block let us test the block of code for erros\n",
        "# except block lets us handle the error"
      ]
    },
    {
      "cell_type": "code",
      "source": [
        "# x = 5\n",
        "try :\n",
        "  print(x)\n",
        "\n",
        "except:\n",
        "  print(\"The value of x is not initialized\")"
      ],
      "metadata": {
        "colab": {
          "base_uri": "https://localhost:8080/"
        },
        "id": "v2JDG-BV9NDv",
        "outputId": "1cba2129-124f-415f-93dc-45f56f7eb267"
      },
      "execution_count": 2,
      "outputs": [
        {
          "output_type": "stream",
          "name": "stdout",
          "text": [
            "5\n"
          ]
        }
      ]
    },
    {
      "cell_type": "code",
      "source": [
        "try :\n",
        "  print(\"Hello everyone\")\n",
        "\n",
        "except:\n",
        "  print('Something went wrong')\n",
        "\n",
        "else:\n",
        "  print(\"Nothing went wrong\")"
      ],
      "metadata": {
        "colab": {
          "base_uri": "https://localhost:8080/"
        },
        "id": "neaNWF5h90pw",
        "outputId": "7f519418-e424-4758-e793-59229a1bf555"
      },
      "execution_count": 5,
      "outputs": [
        {
          "output_type": "stream",
          "name": "stdout",
          "text": [
            "Hello everyone\n",
            "Nothing went wrong\n"
          ]
        }
      ]
    },
    {
      "cell_type": "code",
      "source": [
        "# finally block will be executed no matter what\n",
        "\n",
        "try:\n",
        "  print(y)\n",
        "\n",
        "except:\n",
        "  print(\"Exception Occurred\")\n",
        "\n",
        "finally :\n",
        "  print(\"The 'try except' is finished\")"
      ],
      "metadata": {
        "colab": {
          "base_uri": "https://localhost:8080/"
        },
        "id": "Yu7X9GPc-GSu",
        "outputId": "b0cbc2bd-98c1-4bd7-9527-e67e403b839d"
      },
      "execution_count": 9,
      "outputs": [
        {
          "output_type": "stream",
          "name": "stdout",
          "text": [
            "Exception Occurred\n",
            "The 'try except' is finished\n"
          ]
        }
      ]
    },
    {
      "cell_type": "code",
      "source": [
        "# finally block will be executed no matter what\n",
        "\n",
        "y = 100\n",
        "try:\n",
        "  print(y)\n",
        "\n",
        "except:\n",
        "  print(\"Exception Occurred\")\n",
        "\n",
        "finally :\n",
        "  print(\"The 'try except' is finished\")"
      ],
      "metadata": {
        "colab": {
          "base_uri": "https://localhost:8080/"
        },
        "id": "Ce43FI8W-zu_",
        "outputId": "2d79d92c-d4da-41cc-98d6-62d41c8108b4"
      },
      "execution_count": 10,
      "outputs": [
        {
          "output_type": "stream",
          "name": "stdout",
          "text": [
            "100\n",
            "The 'try except' is finished\n"
          ]
        }
      ]
    },
    {
      "cell_type": "code",
      "source": [
        "# raise an excpetion\n",
        "\n",
        "x = -1\n",
        "\n",
        "if x < 0:\n",
        "  raise Exception(\"Sorry, no negative values are allowed\")"
      ],
      "metadata": {
        "id": "HiBkhGIs_wme"
      },
      "execution_count": null,
      "outputs": []
    },
    {
      "cell_type": "code",
      "source": [
        "x = \"hello\"\n",
        "\n",
        "if not type(x) is int:\n",
        "  raise TypeError(\"Only integers are allowed\")"
      ],
      "metadata": {
        "id": "0RsxgzSEAIIm"
      },
      "execution_count": null,
      "outputs": []
    }
  ]
}