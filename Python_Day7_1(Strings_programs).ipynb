{
  "nbformat": 4,
  "nbformat_minor": 0,
  "metadata": {
    "colab": {
      "provenance": [],
      "authorship_tag": "ABX9TyN6MAnrV5ROEDO8me8sRGvx",
      "include_colab_link": true
    },
    "kernelspec": {
      "name": "python3",
      "display_name": "Python 3"
    },
    "language_info": {
      "name": "python"
    }
  },
  "cells": [
    {
      "cell_type": "markdown",
      "metadata": {
        "id": "view-in-github",
        "colab_type": "text"
      },
      "source": [
        "<a href=\"https://colab.research.google.com/github/sushanttwayana/Python_Starter/blob/main/Python_Day7_1(Strings_programs).ipynb\" target=\"_parent\"><img src=\"https://colab.research.google.com/assets/colab-badge.svg\" alt=\"Open In Colab\"/></a>"
      ]
    },
    {
      "cell_type": "code",
      "execution_count": 1,
      "metadata": {
        "colab": {
          "base_uri": "https://localhost:8080/"
        },
        "id": "0keulJmj5LWs",
        "outputId": "8c2a59f6-294c-4554-ee69-b291d72cd3b7"
      },
      "outputs": [
        {
          "output_type": "stream",
          "name": "stdout",
          "text": [
            "Enter the main string:Let start a new journey\n",
            "Enter the sub string:new\n",
            "Sub string is found at position: 13\n"
          ]
        }
      ],
      "source": [
        "#find the first occurences of sub string in a given main string\n",
        "# STRINGS ARE IMMUTABLE\n",
        "\n",
        "str = input(\"Enter the main string:\")\n",
        "sub = input(\"Enter the sub string:\")\n",
        "\n",
        "#find() returns -1 if sub string is not found found\n",
        "\n",
        "n = str.find(sub, 0, len(str))\n",
        "\n",
        "if n == -1:\n",
        "  print(\"Sub string not found\")\n",
        "else:\n",
        "  print('Sub string is found at position:', n+1)"
      ]
    },
    {
      "cell_type": "code",
      "source": [
        "# to find all ocurrences of sub string in a main string\n",
        "\n",
        "str = input(\"Enter the main string:\")\n",
        "sub = input(\"Enter the sub string:\")\n",
        "\n",
        "i = 0\n",
        "flag = False # becomes True if sub string is found\n",
        "n = len(str)\n",
        "\n",
        "while i < n:\n",
        "  pos = str.find(sub, i, n)\n",
        "\n",
        "  if pos != -1: # if found display its position\n",
        "      print('Found at position:', pos + 1)\n",
        "      i =  pos + 1\n",
        "      flag = True\n",
        "\n",
        "  else :\n",
        "    i += 1\n",
        "\n",
        "if flag == False:\n",
        "  print('The sub string is not found.')"
      ],
      "metadata": {
        "colab": {
          "base_uri": "https://localhost:8080/"
        },
        "id": "8FlfL-af7MhY",
        "outputId": "6d9d0599-4837-4f7b-8946-195faa270b59"
      },
      "execution_count": 2,
      "outputs": [
        {
          "output_type": "stream",
          "name": "stdout",
          "text": [
            "Enter the main string:This is a book \n",
            "Enter the sub string:is\n",
            "Found at position: 3\n",
            "Found at position: 6\n"
          ]
        }
      ]
    },
    {
      "cell_type": "code",
      "source": [
        "# spliting\n",
        "\n",
        "str = 'one, two, three, four'\n",
        "str1 = str.split(',')\n",
        "print(str1)"
      ],
      "metadata": {
        "colab": {
          "base_uri": "https://localhost:8080/"
        },
        "id": "iVQrpOrc9I5d",
        "outputId": "9a544ca9-0758-46ee-ab46-47f337c7f5cb"
      },
      "execution_count": 3,
      "outputs": [
        {
          "output_type": "stream",
          "name": "stdout",
          "text": [
            "['one', ' two', ' three', ' four']\n"
          ]
        }
      ]
    },
    {
      "cell_type": "code",
      "source": [
        "# to accept a group of numbers and display them\n",
        "\n",
        "str = input('Enter numbers seperated by space:')\n",
        "\n",
        "#cut the string where space is found\n",
        "lst = str.split(' ')\n",
        "\n",
        "for i in lst:\n",
        "  print(i)"
      ],
      "metadata": {
        "colab": {
          "base_uri": "https://localhost:8080/"
        },
        "id": "BoH5w4CJ9WOd",
        "outputId": "a2a1c31f-4d6e-4ab1-db75-191dd6f06c4a"
      },
      "execution_count": 5,
      "outputs": [
        {
          "output_type": "stream",
          "name": "stdout",
          "text": [
            "Enter numbers seperated by space:10 20 30 405060\n",
            "10\n",
            "20\n",
            "30\n",
            "405060\n"
          ]
        }
      ]
    },
    {
      "cell_type": "code",
      "source": [
        "str = ['apple', 'mango', 'guava','banana']\n",
        "sep = ':'\n",
        "str1 = sep.join(str)\n",
        "print(str1)"
      ],
      "metadata": {
        "colab": {
          "base_uri": "https://localhost:8080/"
        },
        "id": "MSVj4f8b-8jX",
        "outputId": "099c88f6-a786-43bf-f6f6-b96d96dee2e2"
      },
      "execution_count": 6,
      "outputs": [
        {
          "output_type": "stream",
          "name": "stdout",
          "text": [
            "apple:mango:guava:banana\n"
          ]
        }
      ]
    },
    {
      "cell_type": "code",
      "source": [
        "# formating the strings\n",
        "\n",
        "id = 10\n",
        "name = 'Babaji'\n",
        "salary = 15000\n",
        "\n",
        "str = '{}-{}-{}'.format(id, name, salary)\n",
        "print(str)"
      ],
      "metadata": {
        "colab": {
          "base_uri": "https://localhost:8080/"
        },
        "id": "chXo6i92_NxN",
        "outputId": "3f3f93ea-f12b-4c08-8ca0-89d07529bde2"
      },
      "execution_count": 8,
      "outputs": [
        {
          "output_type": "stream",
          "name": "stdout",
          "text": [
            "10-Babaji-15000\n"
          ]
        }
      ]
    },
    {
      "cell_type": "code",
      "source": [
        "# to know the nature of a characcter\n",
        "\n",
        "str = input('Enter a character:')\n",
        "ch = str[0]\n",
        "\n",
        "if ch.isalnum():\n",
        "  # print('It is alphabet or numeric character')\n",
        "\n",
        "  if ch.isalpha():\n",
        "    print('It is an alphabet')\n",
        "\n",
        "    if ch.isupper():\n",
        "      print('It is a capital letter')\n",
        "\n",
        "    else:\n",
        "      print('It is a lowercase letter')\n",
        "\n",
        "  else:\n",
        "    print('It is a numeric digit')\n",
        "\n",
        "elif ch.isspace():\n",
        "  print('It is a space')\n",
        "\n",
        "else :\n",
        "  print('It may be a special character')\n"
      ],
      "metadata": {
        "colab": {
          "base_uri": "https://localhost:8080/"
        },
        "id": "6sZvbFjy__vY",
        "outputId": "82f93300-e28c-404e-9487-ed08db77bb44"
      },
      "execution_count": 12,
      "outputs": [
        {
          "output_type": "stream",
          "name": "stdout",
          "text": [
            "Enter a character:&\n",
            "It may be a special character\n"
          ]
        }
      ]
    },
    {
      "cell_type": "code",
      "source": [
        "# sort the string in an alphabetical order\n",
        "\n",
        "str = []\n",
        "\n",
        "n = int(input(\"How many strings?:\"))\n",
        "\n",
        "for i in range(n):\n",
        "  print('Enter string:',end = \"\")\n",
        "  str.append(input())\n",
        "\n",
        "str1 = sorted(str) # for string str1 = str.sort()\n",
        "\n",
        "print(\"Sorted string:\\n\")\n",
        "for i in str1:\n",
        "  print(i)\n"
      ],
      "metadata": {
        "colab": {
          "base_uri": "https://localhost:8080/"
        },
        "id": "uOxN-PTsBayv",
        "outputId": "c909f228-776d-481e-d0fd-cb3d7dccc52e"
      },
      "execution_count": 16,
      "outputs": [
        {
          "output_type": "stream",
          "name": "stdout",
          "text": [
            "How many strings?:5\n",
            "Enter string:a\n",
            "Enter string:g\n",
            "Enter string:e\n",
            "Enter string:b\n",
            "Enter string:w\n",
            "Sorted string:\n",
            "\n",
            "a\n",
            "b\n",
            "e\n",
            "g\n",
            "w\n"
          ]
        }
      ]
    },
    {
      "cell_type": "code",
      "source": [
        "#to find the no of charcters in a string\n",
        "\n",
        "str1 = input(\"Enter a string:\")\n",
        "\n",
        "i = 0\n",
        "for s in str1:\n",
        "  print(str1[i], end = '')\n",
        "  # print(i)\n",
        "  i += 1\n",
        "\n",
        "print(\"\\nNo of characters:\", i)"
      ],
      "metadata": {
        "colab": {
          "base_uri": "https://localhost:8080/"
        },
        "id": "MKafMow7IBO0",
        "outputId": "b48cf4a1-aa7f-43e8-a43e-8bb968b7082d"
      },
      "execution_count": 23,
      "outputs": [
        {
          "output_type": "stream",
          "name": "stdout",
          "text": [
            "Enter a string:This is a book\n",
            "This is a book\n",
            "No of characters: 14\n"
          ]
        }
      ]
    },
    {
      "cell_type": "code",
      "source": [
        "# to insert a sub string in a string\n",
        "\n",
        "str = input('Enter a string:')\n",
        "sub = input(\"Enter a sub string:\")\n",
        "n =  int(input('Enter the position no:'))\n",
        "n = n - 1\n",
        "\n",
        "l1 = len(str)\n",
        "l2 = len(sub)\n",
        "\n",
        "str1 = []\n",
        "\n",
        "for i in range(n):\n",
        "  str1.append(str[i])\n",
        "\n",
        "for i in range(l2):\n",
        "  str1.append(sub[i])\n",
        "\n",
        "for i in range(n, l1):\n",
        "  str1.append(str[i])\n",
        "\n",
        "str1 = ''.join(str1)\n",
        "\n",
        "print(str1)"
      ],
      "metadata": {
        "colab": {
          "base_uri": "https://localhost:8080/"
        },
        "id": "ChJog3iGOYbr",
        "outputId": "b93bef3d-4c2d-4d59-da32-c86d4f61b489"
      },
      "execution_count": 24,
      "outputs": [
        {
          "output_type": "stream",
          "name": "stdout",
          "text": [
            "Enter a string:It is summer\n",
            "Enter a sub string:hot\n",
            "Enter the position no:7\n",
            "It is hotsummer\n"
          ]
        }
      ]
    }
  ]
}